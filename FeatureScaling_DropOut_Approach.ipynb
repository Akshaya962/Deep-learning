{
 "cells": [
  {
   "cell_type": "markdown",
   "metadata": {
    "id": "uKat0vo7Kb-A"
   },
   "source": [
    "# Feature Scaling - Mandatory Step in Deep Learning"
   ]
  },
  {
   "cell_type": "code",
   "execution_count": 1,
   "metadata": {
    "id": "lLNLAT1zKXcA"
   },
   "outputs": [],
   "source": [
    "import numpy as np\n",
    "import pandas as pd\n",
    "import matplotlib.pyplot as plt\n",
    "import seaborn as sns"
   ]
  },
  {
   "cell_type": "code",
   "execution_count": 2,
   "metadata": {
    "colab": {
     "base_uri": "https://localhost:8080/",
     "height": 206
    },
    "id": "4l3orUdlLaXw",
    "outputId": "e0d7f000-d056-4235-cca1-391a705b6b65"
   },
   "outputs": [
    {
     "data": {
      "text/html": [
       "\n",
       "  <div id=\"df-b2f19d75-59f0-4220-b07b-79786a540da7\">\n",
       "    <div class=\"colab-df-container\">\n",
       "      <div>\n",
       "<style scoped>\n",
       "    .dataframe tbody tr th:only-of-type {\n",
       "        vertical-align: middle;\n",
       "    }\n",
       "\n",
       "    .dataframe tbody tr th {\n",
       "        vertical-align: top;\n",
       "    }\n",
       "\n",
       "    .dataframe thead th {\n",
       "        text-align: right;\n",
       "    }\n",
       "</style>\n",
       "<table border=\"1\" class=\"dataframe\">\n",
       "  <thead>\n",
       "    <tr style=\"text-align: right;\">\n",
       "      <th></th>\n",
       "      <th>User ID</th>\n",
       "      <th>Gender</th>\n",
       "      <th>Age</th>\n",
       "      <th>EstimatedSalary</th>\n",
       "      <th>Purchased</th>\n",
       "    </tr>\n",
       "  </thead>\n",
       "  <tbody>\n",
       "    <tr>\n",
       "      <th>0</th>\n",
       "      <td>15624510</td>\n",
       "      <td>Male</td>\n",
       "      <td>19</td>\n",
       "      <td>19000</td>\n",
       "      <td>0</td>\n",
       "    </tr>\n",
       "    <tr>\n",
       "      <th>1</th>\n",
       "      <td>15810944</td>\n",
       "      <td>Male</td>\n",
       "      <td>35</td>\n",
       "      <td>20000</td>\n",
       "      <td>0</td>\n",
       "    </tr>\n",
       "    <tr>\n",
       "      <th>2</th>\n",
       "      <td>15668575</td>\n",
       "      <td>Female</td>\n",
       "      <td>26</td>\n",
       "      <td>43000</td>\n",
       "      <td>0</td>\n",
       "    </tr>\n",
       "    <tr>\n",
       "      <th>3</th>\n",
       "      <td>15603246</td>\n",
       "      <td>Female</td>\n",
       "      <td>27</td>\n",
       "      <td>57000</td>\n",
       "      <td>0</td>\n",
       "    </tr>\n",
       "    <tr>\n",
       "      <th>4</th>\n",
       "      <td>15804002</td>\n",
       "      <td>Male</td>\n",
       "      <td>19</td>\n",
       "      <td>76000</td>\n",
       "      <td>0</td>\n",
       "    </tr>\n",
       "  </tbody>\n",
       "</table>\n",
       "</div>\n",
       "      <button class=\"colab-df-convert\" onclick=\"convertToInteractive('df-b2f19d75-59f0-4220-b07b-79786a540da7')\"\n",
       "              title=\"Convert this dataframe to an interactive table.\"\n",
       "              style=\"display:none;\">\n",
       "        \n",
       "  <svg xmlns=\"http://www.w3.org/2000/svg\" height=\"24px\"viewBox=\"0 0 24 24\"\n",
       "       width=\"24px\">\n",
       "    <path d=\"M0 0h24v24H0V0z\" fill=\"none\"/>\n",
       "    <path d=\"M18.56 5.44l.94 2.06.94-2.06 2.06-.94-2.06-.94-.94-2.06-.94 2.06-2.06.94zm-11 1L8.5 8.5l.94-2.06 2.06-.94-2.06-.94L8.5 2.5l-.94 2.06-2.06.94zm10 10l.94 2.06.94-2.06 2.06-.94-2.06-.94-.94-2.06-.94 2.06-2.06.94z\"/><path d=\"M17.41 7.96l-1.37-1.37c-.4-.4-.92-.59-1.43-.59-.52 0-1.04.2-1.43.59L10.3 9.45l-7.72 7.72c-.78.78-.78 2.05 0 2.83L4 21.41c.39.39.9.59 1.41.59.51 0 1.02-.2 1.41-.59l7.78-7.78 2.81-2.81c.8-.78.8-2.07 0-2.86zM5.41 20L4 18.59l7.72-7.72 1.47 1.35L5.41 20z\"/>\n",
       "  </svg>\n",
       "      </button>\n",
       "      \n",
       "  <style>\n",
       "    .colab-df-container {\n",
       "      display:flex;\n",
       "      flex-wrap:wrap;\n",
       "      gap: 12px;\n",
       "    }\n",
       "\n",
       "    .colab-df-convert {\n",
       "      background-color: #E8F0FE;\n",
       "      border: none;\n",
       "      border-radius: 50%;\n",
       "      cursor: pointer;\n",
       "      display: none;\n",
       "      fill: #1967D2;\n",
       "      height: 32px;\n",
       "      padding: 0 0 0 0;\n",
       "      width: 32px;\n",
       "    }\n",
       "\n",
       "    .colab-df-convert:hover {\n",
       "      background-color: #E2EBFA;\n",
       "      box-shadow: 0px 1px 2px rgba(60, 64, 67, 0.3), 0px 1px 3px 1px rgba(60, 64, 67, 0.15);\n",
       "      fill: #174EA6;\n",
       "    }\n",
       "\n",
       "    [theme=dark] .colab-df-convert {\n",
       "      background-color: #3B4455;\n",
       "      fill: #D2E3FC;\n",
       "    }\n",
       "\n",
       "    [theme=dark] .colab-df-convert:hover {\n",
       "      background-color: #434B5C;\n",
       "      box-shadow: 0px 1px 3px 1px rgba(0, 0, 0, 0.15);\n",
       "      filter: drop-shadow(0px 1px 2px rgba(0, 0, 0, 0.3));\n",
       "      fill: #FFFFFF;\n",
       "    }\n",
       "  </style>\n",
       "\n",
       "      <script>\n",
       "        const buttonEl =\n",
       "          document.querySelector('#df-b2f19d75-59f0-4220-b07b-79786a540da7 button.colab-df-convert');\n",
       "        buttonEl.style.display =\n",
       "          google.colab.kernel.accessAllowed ? 'block' : 'none';\n",
       "\n",
       "        async function convertToInteractive(key) {\n",
       "          const element = document.querySelector('#df-b2f19d75-59f0-4220-b07b-79786a540da7');\n",
       "          const dataTable =\n",
       "            await google.colab.kernel.invokeFunction('convertToInteractive',\n",
       "                                                     [key], {});\n",
       "          if (!dataTable) return;\n",
       "\n",
       "          const docLinkHtml = 'Like what you see? Visit the ' +\n",
       "            '<a target=\"_blank\" href=https://colab.research.google.com/notebooks/data_table.ipynb>data table notebook</a>'\n",
       "            + ' to learn more about interactive tables.';\n",
       "          element.innerHTML = '';\n",
       "          dataTable['output_type'] = 'display_data';\n",
       "          await google.colab.output.renderOutput(dataTable, element);\n",
       "          const docLink = document.createElement('div');\n",
       "          docLink.innerHTML = docLinkHtml;\n",
       "          element.appendChild(docLink);\n",
       "        }\n",
       "      </script>\n",
       "    </div>\n",
       "  </div>\n",
       "  "
      ],
      "text/plain": [
       "    User ID  Gender  Age  EstimatedSalary  Purchased\n",
       "0  15624510    Male   19            19000          0\n",
       "1  15810944    Male   35            20000          0\n",
       "2  15668575  Female   26            43000          0\n",
       "3  15603246  Female   27            57000          0\n",
       "4  15804002    Male   19            76000          0"
      ]
     },
     "execution_count": 2,
     "metadata": {},
     "output_type": "execute_result"
    }
   ],
   "source": [
    "df = pd.read_csv('/content/Social_Network_Ads.csv')\n",
    "df.head()"
   ]
  },
  {
   "cell_type": "code",
   "execution_count": 3,
   "metadata": {
    "colab": {
     "base_uri": "https://localhost:8080/",
     "height": 206
    },
    "id": "M5fGYZAmLeSB",
    "outputId": "4cbf4fac-03ed-4116-89f8-6797bc3a953e"
   },
   "outputs": [
    {
     "data": {
      "text/html": [
       "\n",
       "  <div id=\"df-9313c0c4-54ad-4b28-972b-0338f0c28c3b\">\n",
       "    <div class=\"colab-df-container\">\n",
       "      <div>\n",
       "<style scoped>\n",
       "    .dataframe tbody tr th:only-of-type {\n",
       "        vertical-align: middle;\n",
       "    }\n",
       "\n",
       "    .dataframe tbody tr th {\n",
       "        vertical-align: top;\n",
       "    }\n",
       "\n",
       "    .dataframe thead th {\n",
       "        text-align: right;\n",
       "    }\n",
       "</style>\n",
       "<table border=\"1\" class=\"dataframe\">\n",
       "  <thead>\n",
       "    <tr style=\"text-align: right;\">\n",
       "      <th></th>\n",
       "      <th>Age</th>\n",
       "      <th>EstimatedSalary</th>\n",
       "      <th>Purchased</th>\n",
       "    </tr>\n",
       "  </thead>\n",
       "  <tbody>\n",
       "    <tr>\n",
       "      <th>0</th>\n",
       "      <td>19</td>\n",
       "      <td>19000</td>\n",
       "      <td>0</td>\n",
       "    </tr>\n",
       "    <tr>\n",
       "      <th>1</th>\n",
       "      <td>35</td>\n",
       "      <td>20000</td>\n",
       "      <td>0</td>\n",
       "    </tr>\n",
       "    <tr>\n",
       "      <th>2</th>\n",
       "      <td>26</td>\n",
       "      <td>43000</td>\n",
       "      <td>0</td>\n",
       "    </tr>\n",
       "    <tr>\n",
       "      <th>3</th>\n",
       "      <td>27</td>\n",
       "      <td>57000</td>\n",
       "      <td>0</td>\n",
       "    </tr>\n",
       "    <tr>\n",
       "      <th>4</th>\n",
       "      <td>19</td>\n",
       "      <td>76000</td>\n",
       "      <td>0</td>\n",
       "    </tr>\n",
       "  </tbody>\n",
       "</table>\n",
       "</div>\n",
       "      <button class=\"colab-df-convert\" onclick=\"convertToInteractive('df-9313c0c4-54ad-4b28-972b-0338f0c28c3b')\"\n",
       "              title=\"Convert this dataframe to an interactive table.\"\n",
       "              style=\"display:none;\">\n",
       "        \n",
       "  <svg xmlns=\"http://www.w3.org/2000/svg\" height=\"24px\"viewBox=\"0 0 24 24\"\n",
       "       width=\"24px\">\n",
       "    <path d=\"M0 0h24v24H0V0z\" fill=\"none\"/>\n",
       "    <path d=\"M18.56 5.44l.94 2.06.94-2.06 2.06-.94-2.06-.94-.94-2.06-.94 2.06-2.06.94zm-11 1L8.5 8.5l.94-2.06 2.06-.94-2.06-.94L8.5 2.5l-.94 2.06-2.06.94zm10 10l.94 2.06.94-2.06 2.06-.94-2.06-.94-.94-2.06-.94 2.06-2.06.94z\"/><path d=\"M17.41 7.96l-1.37-1.37c-.4-.4-.92-.59-1.43-.59-.52 0-1.04.2-1.43.59L10.3 9.45l-7.72 7.72c-.78.78-.78 2.05 0 2.83L4 21.41c.39.39.9.59 1.41.59.51 0 1.02-.2 1.41-.59l7.78-7.78 2.81-2.81c.8-.78.8-2.07 0-2.86zM5.41 20L4 18.59l7.72-7.72 1.47 1.35L5.41 20z\"/>\n",
       "  </svg>\n",
       "      </button>\n",
       "      \n",
       "  <style>\n",
       "    .colab-df-container {\n",
       "      display:flex;\n",
       "      flex-wrap:wrap;\n",
       "      gap: 12px;\n",
       "    }\n",
       "\n",
       "    .colab-df-convert {\n",
       "      background-color: #E8F0FE;\n",
       "      border: none;\n",
       "      border-radius: 50%;\n",
       "      cursor: pointer;\n",
       "      display: none;\n",
       "      fill: #1967D2;\n",
       "      height: 32px;\n",
       "      padding: 0 0 0 0;\n",
       "      width: 32px;\n",
       "    }\n",
       "\n",
       "    .colab-df-convert:hover {\n",
       "      background-color: #E2EBFA;\n",
       "      box-shadow: 0px 1px 2px rgba(60, 64, 67, 0.3), 0px 1px 3px 1px rgba(60, 64, 67, 0.15);\n",
       "      fill: #174EA6;\n",
       "    }\n",
       "\n",
       "    [theme=dark] .colab-df-convert {\n",
       "      background-color: #3B4455;\n",
       "      fill: #D2E3FC;\n",
       "    }\n",
       "\n",
       "    [theme=dark] .colab-df-convert:hover {\n",
       "      background-color: #434B5C;\n",
       "      box-shadow: 0px 1px 3px 1px rgba(0, 0, 0, 0.15);\n",
       "      filter: drop-shadow(0px 1px 2px rgba(0, 0, 0, 0.3));\n",
       "      fill: #FFFFFF;\n",
       "    }\n",
       "  </style>\n",
       "\n",
       "      <script>\n",
       "        const buttonEl =\n",
       "          document.querySelector('#df-9313c0c4-54ad-4b28-972b-0338f0c28c3b button.colab-df-convert');\n",
       "        buttonEl.style.display =\n",
       "          google.colab.kernel.accessAllowed ? 'block' : 'none';\n",
       "\n",
       "        async function convertToInteractive(key) {\n",
       "          const element = document.querySelector('#df-9313c0c4-54ad-4b28-972b-0338f0c28c3b');\n",
       "          const dataTable =\n",
       "            await google.colab.kernel.invokeFunction('convertToInteractive',\n",
       "                                                     [key], {});\n",
       "          if (!dataTable) return;\n",
       "\n",
       "          const docLinkHtml = 'Like what you see? Visit the ' +\n",
       "            '<a target=\"_blank\" href=https://colab.research.google.com/notebooks/data_table.ipynb>data table notebook</a>'\n",
       "            + ' to learn more about interactive tables.';\n",
       "          element.innerHTML = '';\n",
       "          dataTable['output_type'] = 'display_data';\n",
       "          await google.colab.output.renderOutput(dataTable, element);\n",
       "          const docLink = document.createElement('div');\n",
       "          docLink.innerHTML = docLinkHtml;\n",
       "          element.appendChild(docLink);\n",
       "        }\n",
       "      </script>\n",
       "    </div>\n",
       "  </div>\n",
       "  "
      ],
      "text/plain": [
       "   Age  EstimatedSalary  Purchased\n",
       "0   19            19000          0\n",
       "1   35            20000          0\n",
       "2   26            43000          0\n",
       "3   27            57000          0\n",
       "4   19            76000          0"
      ]
     },
     "execution_count": 3,
     "metadata": {},
     "output_type": "execute_result"
    }
   ],
   "source": [
    "df = df.iloc[:,2:]\n",
    "df.head()"
   ]
  },
  {
   "cell_type": "code",
   "execution_count": 5,
   "metadata": {
    "colab": {
     "base_uri": "https://localhost:8080/",
     "height": 334
    },
    "id": "hbCFQIX8LkWP",
    "outputId": "ab12aee0-0f5c-41a1-e111-0eec6b7cca4f"
   },
   "outputs": [
    {
     "name": "stderr",
     "output_type": "stream",
     "text": [
      "/usr/local/lib/python3.8/dist-packages/seaborn/_decorators.py:36: FutureWarning: Pass the following variables as keyword args: x, y. From version 0.12, the only valid positional argument will be `data`, and passing other arguments without an explicit keyword will result in an error or misinterpretation.\n",
      "  warnings.warn(\n"
     ]
    },
    {
     "data": {
      "image/png": "[encoded data removed]",
      "text/plain": [
       "<Figure size 432x288 with 1 Axes>"
      ]
     },
     "metadata": {
      "needs_background": "light"
     },
     "output_type": "display_data"
    }
   ],
   "source": [
    "sns.scatterplot(df.iloc[:,0], df.iloc[:,1])\n",
    "plt.show()"
   ]
  },
  {
   "cell_type": "code",
   "execution_count": 6,
   "metadata": {
    "id": "pY4dZwiEL1a7"
   },
   "outputs": [],
   "source": [
    "x = df.iloc[:,0:2]\n",
    "y = df.iloc[:,-1]"
   ]
  },
  {
   "cell_type": "code",
   "execution_count": 7,
   "metadata": {
    "colab": {
     "base_uri": "https://localhost:8080/",
     "height": 206
    },
    "id": "3mMXqyRlMHcO",
    "outputId": "5c981315-0999-43f5-ee0f-ee6e1d0583c2"
   },
   "outputs": [
    {
     "data": {
      "text/html": [
       "\n",
       "  <div id=\"df-7212f10c-60d5-4fbe-b375-673e7e707c2f\">\n",
       "    <div class=\"colab-df-container\">\n",
       "      <div>\n",
       "<style scoped>\n",
       "    .dataframe tbody tr th:only-of-type {\n",
       "        vertical-align: middle;\n",
       "    }\n",
       "\n",
       "    .dataframe tbody tr th {\n",
       "        vertical-align: top;\n",
       "    }\n",
       "\n",
       "    .dataframe thead th {\n",
       "        text-align: right;\n",
       "    }\n",
       "</style>\n",
       "<table border=\"1\" class=\"dataframe\">\n",
       "  <thead>\n",
       "    <tr style=\"text-align: right;\">\n",
       "      <th></th>\n",
       "      <th>Age</th>\n",
       "      <th>EstimatedSalary</th>\n",
       "    </tr>\n",
       "  </thead>\n",
       "  <tbody>\n",
       "    <tr>\n",
       "      <th>0</th>\n",
       "      <td>19</td>\n",
       "      <td>19000</td>\n",
       "    </tr>\n",
       "    <tr>\n",
       "      <th>1</th>\n",
       "      <td>35</td>\n",
       "      <td>20000</td>\n",
       "    </tr>\n",
       "    <tr>\n",
       "      <th>2</th>\n",
       "      <td>26</td>\n",
       "      <td>43000</td>\n",
       "    </tr>\n",
       "    <tr>\n",
       "      <th>3</th>\n",
       "      <td>27</td>\n",
       "      <td>57000</td>\n",
       "    </tr>\n",
       "    <tr>\n",
       "      <th>4</th>\n",
       "      <td>19</td>\n",
       "      <td>76000</td>\n",
       "    </tr>\n",
       "  </tbody>\n",
       "</table>\n",
       "</div>\n",
       "      <button class=\"colab-df-convert\" onclick=\"convertToInteractive('df-7212f10c-60d5-4fbe-b375-673e7e707c2f')\"\n",
       "              title=\"Convert this dataframe to an interactive table.\"\n",
       "              style=\"display:none;\">\n",
       "        \n",
       "  <svg xmlns=\"http://www.w3.org/2000/svg\" height=\"24px\"viewBox=\"0 0 24 24\"\n",
       "       width=\"24px\">\n",
       "    <path d=\"M0 0h24v24H0V0z\" fill=\"none\"/>\n",
       "    <path d=\"M18.56 5.44l.94 2.06.94-2.06 2.06-.94-2.06-.94-.94-2.06-.94 2.06-2.06.94zm-11 1L8.5 8.5l.94-2.06 2.06-.94-2.06-.94L8.5 2.5l-.94 2.06-2.06.94zm10 10l.94 2.06.94-2.06 2.06-.94-2.06-.94-.94-2.06-.94 2.06-2.06.94z\"/><path d=\"M17.41 7.96l-1.37-1.37c-.4-.4-.92-.59-1.43-.59-.52 0-1.04.2-1.43.59L10.3 9.45l-7.72 7.72c-.78.78-.78 2.05 0 2.83L4 21.41c.39.39.9.59 1.41.59.51 0 1.02-.2 1.41-.59l7.78-7.78 2.81-2.81c.8-.78.8-2.07 0-2.86zM5.41 20L4 18.59l7.72-7.72 1.47 1.35L5.41 20z\"/>\n",
       "  </svg>\n",
       "      </button>\n",
       "      \n",
       "  <style>\n",
       "    .colab-df-container {\n",
       "      display:flex;\n",
       "      flex-wrap:wrap;\n",
       "      gap: 12px;\n",
       "    }\n",
       "\n",
       "    .colab-df-convert {\n",
       "      background-color: #E8F0FE;\n",
       "      border: none;\n",
       "      border-radius: 50%;\n",
       "      cursor: pointer;\n",
       "      display: none;\n",
       "      fill: #1967D2;\n",
       "      height: 32px;\n",
       "      padding: 0 0 0 0;\n",
       "      width: 32px;\n",
       "    }\n",
       "\n",
       "    .colab-df-convert:hover {\n",
       "      background-color: #E2EBFA;\n",
       "      box-shadow: 0px 1px 2px rgba(60, 64, 67, 0.3), 0px 1px 3px 1px rgba(60, 64, 67, 0.15);\n",
       "      fill: #174EA6;\n",
       "    }\n",
       "\n",
       "    [theme=dark] .colab-df-convert {\n",
       "      background-color: #3B4455;\n",
       "      fill: #D2E3FC;\n",
       "    }\n",
       "\n",
       "    [theme=dark] .colab-df-convert:hover {\n",
       "      background-color: #434B5C;\n",
       "      box-shadow: 0px 1px 3px 1px rgba(0, 0, 0, 0.15);\n",
       "      filter: drop-shadow(0px 1px 2px rgba(0, 0, 0, 0.3));\n",
       "      fill: #FFFFFF;\n",
       "    }\n",
       "  </style>\n",
       "\n",
       "      <script>\n",
       "        const buttonEl =\n",
       "          document.querySelector('#df-7212f10c-60d5-4fbe-b375-673e7e707c2f button.colab-df-convert');\n",
       "        buttonEl.style.display =\n",
       "          google.colab.kernel.accessAllowed ? 'block' : 'none';\n",
       "\n",
       "        async function convertToInteractive(key) {\n",
       "          const element = document.querySelector('#df-7212f10c-60d5-4fbe-b375-673e7e707c2f');\n",
       "          const dataTable =\n",
       "            await google.colab.kernel.invokeFunction('convertToInteractive',\n",
       "                                                     [key], {});\n",
       "          if (!dataTable) return;\n",
       "\n",
       "          const docLinkHtml = 'Like what you see? Visit the ' +\n",
       "            '<a target=\"_blank\" href=https://colab.research.google.com/notebooks/data_table.ipynb>data table notebook</a>'\n",
       "            + ' to learn more about interactive tables.';\n",
       "          element.innerHTML = '';\n",
       "          dataTable['output_type'] = 'display_data';\n",
       "          await google.colab.output.renderOutput(dataTable, element);\n",
       "          const docLink = document.createElement('div');\n",
       "          docLink.innerHTML = docLinkHtml;\n",
       "          element.appendChild(docLink);\n",
       "        }\n",
       "      </script>\n",
       "    </div>\n",
       "  </div>\n",
       "  "
      ],
      "text/plain": [
       "   Age  EstimatedSalary\n",
       "0   19            19000\n",
       "1   35            20000\n",
       "2   26            43000\n",
       "3   27            57000\n",
       "4   19            76000"
      ]
     },
     "execution_count": 7,
     "metadata": {},
     "output_type": "execute_result"
    }
   ],
   "source": [
    "x.head()"
   ]
  },
  {
   "cell_type": "code",
   "execution_count": 8,
   "metadata": {
    "colab": {
     "base_uri": "https://localhost:8080/"
    },
    "id": "XM6sxMPMMISW",
    "outputId": "76cf8e4a-0a9b-494c-d20a-3b032fceb33a"
   },
   "outputs": [
    {
     "data": {
      "text/plain": [
       "0    0\n",
       "1    0\n",
       "2    0\n",
       "3    0\n",
       "4    0\n",
       "Name: Purchased, dtype: int64"
      ]
     },
     "execution_count": 8,
     "metadata": {},
     "output_type": "execute_result"
    }
   ],
   "source": [
    "y.head()"
   ]
  },
  {
   "cell_type": "code",
   "execution_count": 10,
   "metadata": {
    "id": "I4cjJsHrMKKl"
   },
   "outputs": [],
   "source": [
    "from sklearn.model_selection import train_test_split\n",
    "x_train, x_test, y_train, y_test = train_test_split(x, y, test_size=0.2, random_state=101)"
   ]
  },
  {
   "cell_type": "code",
   "execution_count": 12,
   "metadata": {
    "id": "_FijoVm_NiX1"
   },
   "outputs": [],
   "source": [
    "import tensorflow as tf\n",
    "from tensorflow import keras\n",
    "from keras import Sequential\n",
    "from keras.layers import Dense"
   ]
  },
  {
   "cell_type": "code",
   "execution_count": 13,
   "metadata": {
    "id": "LIdgnwbJLy_a"
   },
   "outputs": [],
   "source": [
    "model = Sequential()\n",
    "model.add(Dense(128, activation='relu', input_dim=2))\n",
    "model.add(Dense(1,activation='sigmoid'))"
   ]
  },
  {
   "cell_type": "code",
   "execution_count": 14,
   "metadata": {
    "colab": {
     "base_uri": "https://localhost:8080/"
    },
    "id": "edyoEcbLORL6",
    "outputId": "ddc8e82f-8c7a-4bdc-a772-559bbb771d9b"
   },
   "outputs": [
    {
     "name": "stdout",
     "output_type": "stream",
     "text": [
      "Model: \"sequential\"\n",
      "_________________________________________________________________\n",
      " Layer (type)                Output Shape              Param #   \n",
      "=================================================================\n",
      " dense (Dense)               (None, 128)               384       \n",
      "                                                                 \n",
      " dense_1 (Dense)             (None, 1)                 129       \n",
      "                                                                 \n",
      "=================================================================\n",
      "Total params: 513\n",
      "Trainable params: 513\n",
      "Non-trainable params: 0\n",
      "_________________________________________________________________\n"
     ]
    }
   ],
   "source": [
    "model.summary()"
   ]
  },
  {
   "cell_type": "code",
   "execution_count": 15,
   "metadata": {
    "id": "gol4B9RNOgf9"
   },
   "outputs": [],
   "source": [
    "model.compile(optimizer='adam', loss='binary_crossentropy', metrics=['accuracy'])"
   ]
  },
  {
   "cell_type": "code",
   "execution_count": 16,
   "metadata": {
    "colab": {
     "base_uri": "https://localhost:8080/"
    },
    "id": "GsdbS2ieKarf",
    "outputId": "fe46e699-b89e-48f8-c8f4-322ea9a4f231"
   },
   "outputs": [
    {
     "name": "stdout",
     "output_type": "stream",
     "text": [
      "Epoch 1/100\n",
      "10/10 [==============================] - 5s 23ms/step - loss: 972.7393 - accuracy: 0.4469 - val_loss: 727.0072 - val_accuracy: 0.6750\n",
      "Epoch 2/100\n",
      "10/10 [==============================] - 0s 5ms/step - loss: 462.4453 - accuracy: 0.5469 - val_loss: 426.6657 - val_accuracy: 0.3250\n",
      "Epoch 3/100\n",
      "10/10 [==============================] - 0s 5ms/step - loss: 191.6282 - accuracy: 0.4969 - val_loss: 28.8925 - val_accuracy: 0.3250\n",
      "Epoch 4/100\n",
      "10/10 [==============================] - 0s 7ms/step - loss: 56.7290 - accuracy: 0.4688 - val_loss: 54.5102 - val_accuracy: 0.3250\n",
      "Epoch 5/100\n",
      "10/10 [==============================] - 0s 7ms/step - loss: 47.9241 - accuracy: 0.4906 - val_loss: 0.7912 - val_accuracy: 0.3750\n",
      "Epoch 6/100\n",
      "10/10 [==============================] - 0s 7ms/step - loss: 37.8229 - accuracy: 0.4563 - val_loss: 86.8493 - val_accuracy: 0.6750\n",
      "Epoch 7/100\n",
      "10/10 [==============================] - 0s 7ms/step - loss: 32.9150 - accuracy: 0.4969 - val_loss: 7.4583 - val_accuracy: 0.6750\n",
      "Epoch 8/100\n",
      "10/10 [==============================] - 0s 7ms/step - loss: 43.8721 - accuracy: 0.4219 - val_loss: 12.0381 - val_accuracy: 0.6750\n",
      "Epoch 9/100\n",
      "10/10 [==============================] - 0s 6ms/step - loss: 17.6778 - accuracy: 0.5375 - val_loss: 31.3216 - val_accuracy: 0.6750\n",
      "Epoch 10/100\n",
      "10/10 [==============================] - 0s 6ms/step - loss: 21.1311 - accuracy: 0.5375 - val_loss: 1.6153 - val_accuracy: 0.7125\n",
      "Epoch 11/100\n",
      "10/10 [==============================] - 0s 5ms/step - loss: 58.2339 - accuracy: 0.5219 - val_loss: 147.3094 - val_accuracy: 0.3250\n",
      "Epoch 12/100\n",
      "10/10 [==============================] - 0s 7ms/step - loss: 76.1396 - accuracy: 0.5594 - val_loss: 47.9009 - val_accuracy: 0.3250\n",
      "Epoch 13/100\n",
      "10/10 [==============================] - 0s 7ms/step - loss: 35.3267 - accuracy: 0.5281 - val_loss: 72.4012 - val_accuracy: 0.6750\n",
      "Epoch 14/100\n",
      "10/10 [==============================] - 0s 6ms/step - loss: 68.4386 - accuracy: 0.5344 - val_loss: 104.8374 - val_accuracy: 0.6750\n",
      "Epoch 15/100\n",
      "10/10 [==============================] - 0s 7ms/step - loss: 44.0770 - accuracy: 0.5344 - val_loss: 91.0507 - val_accuracy: 0.3250\n",
      "Epoch 16/100\n",
      "10/10 [==============================] - 0s 7ms/step - loss: 85.9895 - accuracy: 0.4844 - val_loss: 171.0978 - val_accuracy: 0.3250\n",
      "Epoch 17/100\n",
      "10/10 [==============================] - 0s 5ms/step - loss: 145.6402 - accuracy: 0.5156 - val_loss: 105.8894 - val_accuracy: 0.3250\n",
      "Epoch 18/100\n",
      "10/10 [==============================] - 0s 5ms/step - loss: 145.1861 - accuracy: 0.4844 - val_loss: 83.7282 - val_accuracy: 0.6750\n",
      "Epoch 19/100\n",
      "10/10 [==============================] - 0s 5ms/step - loss: 112.0481 - accuracy: 0.4719 - val_loss: 94.4335 - val_accuracy: 0.6750\n",
      "Epoch 20/100\n",
      "10/10 [==============================] - 0s 7ms/step - loss: 59.3327 - accuracy: 0.5719 - val_loss: 6.3370 - val_accuracy: 0.3250\n",
      "Epoch 21/100\n",
      "10/10 [==============================] - 0s 7ms/step - loss: 18.5298 - accuracy: 0.4844 - val_loss: 68.9015 - val_accuracy: 0.3250\n",
      "Epoch 22/100\n",
      "10/10 [==============================] - 0s 6ms/step - loss: 75.2266 - accuracy: 0.5031 - val_loss: 79.3252 - val_accuracy: 0.3250\n",
      "Epoch 23/100\n",
      "10/10 [==============================] - 0s 7ms/step - loss: 48.3112 - accuracy: 0.5219 - val_loss: 80.7873 - val_accuracy: 0.6750\n",
      "Epoch 24/100\n",
      "10/10 [==============================] - 0s 8ms/step - loss: 63.2396 - accuracy: 0.5344 - val_loss: 28.2929 - val_accuracy: 0.6750\n",
      "Epoch 25/100\n",
      "10/10 [==============================] - 0s 7ms/step - loss: 51.8580 - accuracy: 0.4906 - val_loss: 78.1123 - val_accuracy: 0.3250\n",
      "Epoch 26/100\n",
      "10/10 [==============================] - 0s 6ms/step - loss: 82.5483 - accuracy: 0.4844 - val_loss: 67.6274 - val_accuracy: 0.3250\n",
      "Epoch 27/100\n",
      "10/10 [==============================] - 0s 5ms/step - loss: 92.6883 - accuracy: 0.4906 - val_loss: 101.6689 - val_accuracy: 0.3250\n",
      "Epoch 28/100\n",
      "10/10 [==============================] - 0s 5ms/step - loss: 62.2608 - accuracy: 0.5156 - val_loss: 38.1779 - val_accuracy: 0.6750\n",
      "Epoch 29/100\n",
      "10/10 [==============================] - 0s 7ms/step - loss: 45.6184 - accuracy: 0.5406 - val_loss: 34.5864 - val_accuracy: 0.3250\n",
      "Epoch 30/100\n",
      "10/10 [==============================] - 0s 7ms/step - loss: 41.7579 - accuracy: 0.5219 - val_loss: 127.5946 - val_accuracy: 0.3250\n",
      "Epoch 31/100\n",
      "10/10 [==============================] - 0s 5ms/step - loss: 84.4114 - accuracy: 0.4219 - val_loss: 10.6981 - val_accuracy: 0.3250\n",
      "Epoch 32/100\n",
      "10/10 [==============================] - 0s 7ms/step - loss: 88.2644 - accuracy: 0.5406 - val_loss: 3.9611 - val_accuracy: 0.3250\n",
      "Epoch 33/100\n",
      "10/10 [==============================] - 0s 7ms/step - loss: 68.5343 - accuracy: 0.5156 - val_loss: 29.7452 - val_accuracy: 0.6750\n",
      "Epoch 34/100\n",
      "10/10 [==============================] - 0s 7ms/step - loss: 46.6746 - accuracy: 0.5594 - val_loss: 33.6179 - val_accuracy: 0.6750\n",
      "Epoch 35/100\n",
      "10/10 [==============================] - 0s 7ms/step - loss: 17.9239 - accuracy: 0.5250 - val_loss: 32.2590 - val_accuracy: 0.6750\n",
      "Epoch 36/100\n",
      "10/10 [==============================] - 0s 8ms/step - loss: 59.8443 - accuracy: 0.5656 - val_loss: 19.7749 - val_accuracy: 0.6750\n",
      "Epoch 37/100\n",
      "10/10 [==============================] - 0s 7ms/step - loss: 72.2452 - accuracy: 0.4531 - val_loss: 35.5590 - val_accuracy: 0.3250\n",
      "Epoch 38/100\n",
      "10/10 [==============================] - 0s 6ms/step - loss: 25.2034 - accuracy: 0.4969 - val_loss: 40.7783 - val_accuracy: 0.3250\n",
      "Epoch 39/100\n",
      "10/10 [==============================] - 0s 6ms/step - loss: 48.7923 - accuracy: 0.5031 - val_loss: 44.4150 - val_accuracy: 0.6750\n",
      "Epoch 40/100\n",
      "10/10 [==============================] - 0s 7ms/step - loss: 46.4207 - accuracy: 0.5344 - val_loss: 13.5298 - val_accuracy: 0.3250\n",
      "Epoch 41/100\n",
      "10/10 [==============================] - 0s 6ms/step - loss: 31.2577 - accuracy: 0.5406 - val_loss: 113.2842 - val_accuracy: 0.3250\n",
      "Epoch 42/100\n",
      "10/10 [==============================] - 0s 7ms/step - loss: 78.9921 - accuracy: 0.5031 - val_loss: 74.9471 - val_accuracy: 0.3250\n",
      "Epoch 43/100\n",
      "10/10 [==============================] - 0s 8ms/step - loss: 84.3551 - accuracy: 0.4781 - val_loss: 62.8383 - val_accuracy: 0.3250\n",
      "Epoch 44/100\n",
      "10/10 [==============================] - 0s 6ms/step - loss: 35.4113 - accuracy: 0.5469 - val_loss: 75.2830 - val_accuracy: 0.3250\n",
      "Epoch 45/100\n",
      "10/10 [==============================] - 0s 5ms/step - loss: 49.7728 - accuracy: 0.4344 - val_loss: 77.1608 - val_accuracy: 0.6750\n",
      "Epoch 46/100\n",
      "10/10 [==============================] - 0s 5ms/step - loss: 42.0143 - accuracy: 0.5844 - val_loss: 61.6817 - val_accuracy: 0.3250\n",
      "Epoch 47/100\n",
      "10/10 [==============================] - 0s 7ms/step - loss: 77.5658 - accuracy: 0.5156 - val_loss: 83.7074 - val_accuracy: 0.3250\n",
      "Epoch 48/100\n",
      "10/10 [==============================] - 0s 7ms/step - loss: 67.4790 - accuracy: 0.5094 - val_loss: 55.8694 - val_accuracy: 0.3250\n",
      "Epoch 49/100\n",
      "10/10 [==============================] - 0s 7ms/step - loss: 22.2242 - accuracy: 0.5344 - val_loss: 5.0808 - val_accuracy: 0.3250\n",
      "Epoch 50/100\n",
      "10/10 [==============================] - 0s 7ms/step - loss: 19.5104 - accuracy: 0.5156 - val_loss: 27.6208 - val_accuracy: 0.6750\n",
      "Epoch 51/100\n",
      "10/10 [==============================] - 0s 7ms/step - loss: 42.4394 - accuracy: 0.4406 - val_loss: 82.1552 - val_accuracy: 0.6750\n",
      "Epoch 52/100\n",
      "10/10 [==============================] - 0s 6ms/step - loss: 84.3827 - accuracy: 0.5156 - val_loss: 113.4889 - val_accuracy: 0.6750\n",
      "Epoch 53/100\n",
      "10/10 [==============================] - 0s 7ms/step - loss: 101.6120 - accuracy: 0.4969 - val_loss: 135.7584 - val_accuracy: 0.6750\n",
      "Epoch 54/100\n",
      "10/10 [==============================] - 0s 5ms/step - loss: 105.0277 - accuracy: 0.4969 - val_loss: 138.2367 - val_accuracy: 0.6750\n",
      "Epoch 55/100\n",
      "10/10 [==============================] - 0s 7ms/step - loss: 94.0328 - accuracy: 0.5656 - val_loss: 40.8541 - val_accuracy: 0.6750\n",
      "Epoch 56/100\n",
      "10/10 [==============================] - 0s 7ms/step - loss: 42.6137 - accuracy: 0.5469 - val_loss: 106.8405 - val_accuracy: 0.3250\n",
      "Epoch 57/100\n",
      "10/10 [==============================] - 0s 6ms/step - loss: 71.2892 - accuracy: 0.4656 - val_loss: 26.7504 - val_accuracy: 0.3250\n",
      "Epoch 58/100\n",
      "10/10 [==============================] - 0s 6ms/step - loss: 50.3845 - accuracy: 0.5031 - val_loss: 32.0107 - val_accuracy: 0.6750\n",
      "Epoch 59/100\n",
      "10/10 [==============================] - 0s 8ms/step - loss: 12.4511 - accuracy: 0.4906 - val_loss: 29.4789 - val_accuracy: 0.6750\n",
      "Epoch 60/100\n",
      "10/10 [==============================] - 0s 7ms/step - loss: 30.5815 - accuracy: 0.5281 - val_loss: 30.7697 - val_accuracy: 0.6750\n",
      "Epoch 61/100\n",
      "10/10 [==============================] - 0s 7ms/step - loss: 35.1291 - accuracy: 0.5719 - val_loss: 69.4403 - val_accuracy: 0.3250\n",
      "Epoch 62/100\n",
      "10/10 [==============================] - 0s 5ms/step - loss: 80.0520 - accuracy: 0.5156 - val_loss: 81.0036 - val_accuracy: 0.3250\n",
      "Epoch 63/100\n",
      "10/10 [==============================] - 0s 7ms/step - loss: 72.7384 - accuracy: 0.4906 - val_loss: 117.0226 - val_accuracy: 0.3250\n",
      "Epoch 64/100\n",
      "10/10 [==============================] - 0s 5ms/step - loss: 94.0617 - accuracy: 0.4719 - val_loss: 135.2094 - val_accuracy: 0.3250\n",
      "Epoch 65/100\n",
      "10/10 [==============================] - 0s 7ms/step - loss: 74.6843 - accuracy: 0.5094 - val_loss: 43.0935 - val_accuracy: 0.6750\n",
      "Epoch 66/100\n",
      "10/10 [==============================] - 0s 12ms/step - loss: 24.9478 - accuracy: 0.5281 - val_loss: 14.9948 - val_accuracy: 0.3250\n",
      "Epoch 67/100\n",
      "10/10 [==============================] - 0s 8ms/step - loss: 37.0043 - accuracy: 0.5219 - val_loss: 19.1577 - val_accuracy: 0.3250\n",
      "Epoch 68/100\n",
      "10/10 [==============================] - 0s 8ms/step - loss: 37.9180 - accuracy: 0.4656 - val_loss: 56.9674 - val_accuracy: 0.6750\n",
      "Epoch 69/100\n",
      "10/10 [==============================] - 0s 9ms/step - loss: 91.9680 - accuracy: 0.4969 - val_loss: 50.9863 - val_accuracy: 0.6750\n",
      "Epoch 70/100\n",
      "10/10 [==============================] - 0s 10ms/step - loss: 45.3553 - accuracy: 0.5281 - val_loss: 22.4690 - val_accuracy: 0.3250\n",
      "Epoch 71/100\n",
      "10/10 [==============================] - 0s 9ms/step - loss: 24.3633 - accuracy: 0.5031 - val_loss: 7.8293 - val_accuracy: 0.6750\n",
      "Epoch 72/100\n",
      "10/10 [==============================] - 0s 9ms/step - loss: 39.2436 - accuracy: 0.4844 - val_loss: 43.8561 - val_accuracy: 0.3250\n",
      "Epoch 73/100\n",
      "10/10 [==============================] - 0s 9ms/step - loss: 20.7008 - accuracy: 0.4969 - val_loss: 13.5876 - val_accuracy: 0.6750\n",
      "Epoch 74/100\n",
      "10/10 [==============================] - 0s 9ms/step - loss: 38.5813 - accuracy: 0.5469 - val_loss: 62.9156 - val_accuracy: 0.3250\n",
      "Epoch 75/100\n",
      "10/10 [==============================] - 0s 9ms/step - loss: 38.9307 - accuracy: 0.5094 - val_loss: 35.7649 - val_accuracy: 0.6750\n",
      "Epoch 76/100\n",
      "10/10 [==============================] - 0s 8ms/step - loss: 34.3196 - accuracy: 0.4531 - val_loss: 61.9515 - val_accuracy: 0.6750\n",
      "Epoch 77/100\n",
      "10/10 [==============================] - 0s 10ms/step - loss: 95.4844 - accuracy: 0.5594 - val_loss: 53.7045 - val_accuracy: 0.3250\n",
      "Epoch 78/100\n",
      "10/10 [==============================] - 0s 9ms/step - loss: 68.0111 - accuracy: 0.4781 - val_loss: 76.5614 - val_accuracy: 0.6750\n",
      "Epoch 79/100\n",
      "10/10 [==============================] - 0s 9ms/step - loss: 125.8074 - accuracy: 0.5219 - val_loss: 115.0025 - val_accuracy: 0.3250\n",
      "Epoch 80/100\n",
      "10/10 [==============================] - 0s 9ms/step - loss: 74.3439 - accuracy: 0.4969 - val_loss: 16.4271 - val_accuracy: 0.6750\n",
      "Epoch 81/100\n",
      "10/10 [==============================] - 0s 10ms/step - loss: 25.4934 - accuracy: 0.5406 - val_loss: 27.6218 - val_accuracy: 0.6750\n",
      "Epoch 82/100\n",
      "10/10 [==============================] - 0s 7ms/step - loss: 25.1923 - accuracy: 0.5312 - val_loss: 24.7702 - val_accuracy: 0.6750\n",
      "Epoch 83/100\n",
      "10/10 [==============================] - 0s 9ms/step - loss: 41.4795 - accuracy: 0.5281 - val_loss: 36.7274 - val_accuracy: 0.3250\n",
      "Epoch 84/100\n",
      "10/10 [==============================] - 0s 10ms/step - loss: 50.6932 - accuracy: 0.4781 - val_loss: 114.9151 - val_accuracy: 0.6750\n",
      "Epoch 85/100\n",
      "10/10 [==============================] - 0s 10ms/step - loss: 81.8980 - accuracy: 0.5406 - val_loss: 42.3159 - val_accuracy: 0.6750\n",
      "Epoch 86/100\n",
      "10/10 [==============================] - 0s 8ms/step - loss: 40.0826 - accuracy: 0.5531 - val_loss: 95.8299 - val_accuracy: 0.3250\n",
      "Epoch 87/100\n",
      "10/10 [==============================] - 0s 10ms/step - loss: 84.1760 - accuracy: 0.5406 - val_loss: 175.1932 - val_accuracy: 0.3250\n",
      "Epoch 88/100\n",
      "10/10 [==============================] - 0s 10ms/step - loss: 94.9309 - accuracy: 0.5031 - val_loss: 71.8219 - val_accuracy: 0.3250\n",
      "Epoch 89/100\n",
      "10/10 [==============================] - 0s 8ms/step - loss: 37.1335 - accuracy: 0.4844 - val_loss: 35.3207 - val_accuracy: 0.3250\n",
      "Epoch 90/100\n",
      "10/10 [==============================] - 0s 6ms/step - loss: 18.1609 - accuracy: 0.4906 - val_loss: 7.2441 - val_accuracy: 0.3250\n",
      "Epoch 91/100\n",
      "10/10 [==============================] - 0s 7ms/step - loss: 17.7626 - accuracy: 0.5188 - val_loss: 21.0211 - val_accuracy: 0.6750\n",
      "Epoch 92/100\n",
      "10/10 [==============================] - 0s 6ms/step - loss: 30.9981 - accuracy: 0.5250 - val_loss: 53.0734 - val_accuracy: 0.3250\n",
      "Epoch 93/100\n",
      "10/10 [==============================] - 0s 7ms/step - loss: 27.9999 - accuracy: 0.5094 - val_loss: 1.2119 - val_accuracy: 0.6750\n",
      "Epoch 94/100\n",
      "10/10 [==============================] - 0s 7ms/step - loss: 13.1463 - accuracy: 0.5406 - val_loss: 19.2771 - val_accuracy: 0.6750\n",
      "Epoch 95/100\n",
      "10/10 [==============================] - 0s 6ms/step - loss: 30.1915 - accuracy: 0.5031 - val_loss: 39.4302 - val_accuracy: 0.6750\n",
      "Epoch 96/100\n",
      "10/10 [==============================] - 0s 6ms/step - loss: 57.8070 - accuracy: 0.5469 - val_loss: 82.4245 - val_accuracy: 0.6750\n",
      "Epoch 97/100\n",
      "10/10 [==============================] - 0s 7ms/step - loss: 138.5815 - accuracy: 0.4844 - val_loss: 102.8949 - val_accuracy: 0.3250\n",
      "Epoch 98/100\n",
      "10/10 [==============================] - 0s 6ms/step - loss: 50.1400 - accuracy: 0.5344 - val_loss: 49.9202 - val_accuracy: 0.6750\n",
      "Epoch 99/100\n",
      "10/10 [==============================] - 0s 6ms/step - loss: 48.0449 - accuracy: 0.5156 - val_loss: 45.3557 - val_accuracy: 0.3250\n",
      "Epoch 100/100\n",
      "10/10 [==============================] - 0s 6ms/step - loss: 41.3459 - accuracy: 0.4844 - val_loss: 0.6632 - val_accuracy: 0.7125\n"
     ]
    }
   ],
   "source": [
    "history = model.fit(x_train, y_train, validation_data=(x_test, y_test), epochs=100)"
   ]
  },
  {
   "cell_type": "code",
   "execution_count": 18,
   "metadata": {
    "colab": {
     "base_uri": "https://localhost:8080/",
     "height": 282
    },
    "id": "vQxj7zAJO4LX",
    "outputId": "d80c31a7-54a3-4051-8f8c-2e1372861f6f"
   },
   "outputs": [
    {
     "data": {
      "text/plain": [
       "[<matplotlib.lines.Line2D at 0x7f00005a7b20>]"
      ]
     },
     "execution_count": 18,
     "metadata": {},
     "output_type": "execute_result"
    },
    {
     "data": {
      "image/png": "[encoded data removed]",
      "text/plain": [
       "<Figure size 432x288 with 1 Axes>"
      ]
     },
     "metadata": {
      "needs_background": "light"
     },
     "output_type": "display_data"
    }
   ],
   "source": [
    "plt.plot(history.history['accuracy'])"
   ]
  },
  {
   "cell_type": "code",
   "execution_count": 19,
   "metadata": {
    "colab": {
     "base_uri": "https://localhost:8080/",
     "height": 282
    },
    "id": "2mOTqxWHPODJ",
    "outputId": "01747a36-7ad5-4fbe-a30a-191df8b12885"
   },
   "outputs": [
    {
     "data": {
      "text/plain": [
       "[<matplotlib.lines.Line2D at 0x7f000057c910>]"
      ]
     },
     "execution_count": 19,
     "metadata": {},
     "output_type": "execute_result"
    },
    {
     "data": {
      "image/png": "[encoded data removed]",
      "text/plain": [
       "<Figure size 432x288 with 1 Axes>"
      ]
     },
     "metadata": {
      "needs_background": "light"
     },
     "output_type": "display_data"
    }
   ],
   "source": [
    "plt.plot(history.history['val_accuracy'])"
   ]
  },
  {
   "cell_type": "markdown",
   "metadata": {
    "id": "yEPyhw1EPrMN"
   },
   "source": [
    "# Applying Feature Scaling method"
   ]
  },
  {
   "cell_type": "code",
   "execution_count": 21,
   "metadata": {
    "id": "qrt7gec2KavS"
   },
   "outputs": [],
   "source": [
    "from sklearn.preprocessing import StandardScaler\n",
    "scaler =StandardScaler()\n",
    "x_train_scaler = scaler.fit_transform(x_train)\n",
    "x_test_scaler = scaler.fit_transform(x_test)"
   ]
  },
  {
   "cell_type": "code",
   "execution_count": 24,
   "metadata": {
    "colab": {
     "base_uri": "https://localhost:8080/",
     "height": 320
    },
    "id": "ioBHqsRpKazA",
    "outputId": "a366faa3-2378-4ef3-b03d-0a2e8b7934b5"
   },
   "outputs": [
    {
     "name": "stderr",
     "output_type": "stream",
     "text": [
      "/usr/local/lib/python3.8/dist-packages/seaborn/_decorators.py:36: FutureWarning: Pass the following variables as keyword args: x, y. From version 0.12, the only valid positional argument will be `data`, and passing other arguments without an explicit keyword will result in an error or misinterpretation.\n",
      "  warnings.warn(\n"
     ]
    },
    {
     "data": {
      "image/png": "[encoded data removed]",
      "text/plain": [
       "<Figure size 432x288 with 1 Axes>"
      ]
     },
     "metadata": {
      "needs_background": "light"
     },
     "output_type": "display_data"
    }
   ],
   "source": [
    "sns.scatterplot(x_train_scaler[:,0], x_train_scaler[:,1])\n",
    "plt.show()"
   ]
  },
  {
   "cell_type": "code",
   "execution_count": 25,
   "metadata": {
    "colab": {
     "base_uri": "https://localhost:8080/"
    },
    "id": "Fn10ZvGdKa2K",
    "outputId": "b6a21e9e-a3b7-4915-bccc-431b57800bf2"
   },
   "outputs": [
    {
     "name": "stdout",
     "output_type": "stream",
     "text": [
      "Epoch 1/100\n",
      "10/10 [==============================] - 1s 21ms/step - loss: 0.6609 - accuracy: 0.7625 - val_loss: 0.6266 - val_accuracy: 0.7500\n",
      "Epoch 2/100\n",
      "10/10 [==============================] - 0s 6ms/step - loss: 0.6098 - accuracy: 0.8000 - val_loss: 0.5767 - val_accuracy: 0.7625\n",
      "Epoch 3/100\n",
      "10/10 [==============================] - 0s 7ms/step - loss: 0.5641 - accuracy: 0.8125 - val_loss: 0.5358 - val_accuracy: 0.7625\n",
      "Epoch 4/100\n",
      "10/10 [==============================] - 0s 7ms/step - loss: 0.5291 - accuracy: 0.8219 - val_loss: 0.5003 - val_accuracy: 0.7750\n",
      "Epoch 5/100\n",
      "10/10 [==============================] - 0s 7ms/step - loss: 0.4983 - accuracy: 0.8375 - val_loss: 0.4689 - val_accuracy: 0.8125\n",
      "Epoch 6/100\n",
      "10/10 [==============================] - 0s 6ms/step - loss: 0.4715 - accuracy: 0.8469 - val_loss: 0.4407 - val_accuracy: 0.8250\n",
      "Epoch 7/100\n",
      "10/10 [==============================] - 0s 7ms/step - loss: 0.4475 - accuracy: 0.8500 - val_loss: 0.4157 - val_accuracy: 0.8250\n",
      "Epoch 8/100\n",
      "10/10 [==============================] - 0s 7ms/step - loss: 0.4267 - accuracy: 0.8500 - val_loss: 0.3926 - val_accuracy: 0.8375\n",
      "Epoch 9/100\n",
      "10/10 [==============================] - 0s 6ms/step - loss: 0.4074 - accuracy: 0.8469 - val_loss: 0.3723 - val_accuracy: 0.8500\n",
      "Epoch 10/100\n",
      "10/10 [==============================] - 0s 6ms/step - loss: 0.3907 - accuracy: 0.8594 - val_loss: 0.3544 - val_accuracy: 0.8500\n",
      "Epoch 11/100\n",
      "10/10 [==============================] - 0s 6ms/step - loss: 0.3761 - accuracy: 0.8656 - val_loss: 0.3383 - val_accuracy: 0.8625\n",
      "Epoch 12/100\n",
      "10/10 [==============================] - 0s 7ms/step - loss: 0.3624 - accuracy: 0.8813 - val_loss: 0.3241 - val_accuracy: 0.8750\n",
      "Epoch 13/100\n",
      "10/10 [==============================] - 0s 10ms/step - loss: 0.3507 - accuracy: 0.8844 - val_loss: 0.3117 - val_accuracy: 0.9000\n",
      "Epoch 14/100\n",
      "10/10 [==============================] - 0s 9ms/step - loss: 0.3409 - accuracy: 0.8875 - val_loss: 0.3006 - val_accuracy: 0.9000\n",
      "Epoch 15/100\n",
      "10/10 [==============================] - 0s 9ms/step - loss: 0.3314 - accuracy: 0.8875 - val_loss: 0.2911 - val_accuracy: 0.9000\n",
      "Epoch 16/100\n",
      "10/10 [==============================] - 0s 9ms/step - loss: 0.3234 - accuracy: 0.8844 - val_loss: 0.2825 - val_accuracy: 0.9125\n",
      "Epoch 17/100\n",
      "10/10 [==============================] - 0s 9ms/step - loss: 0.3163 - accuracy: 0.8906 - val_loss: 0.2742 - val_accuracy: 0.9125\n",
      "Epoch 18/100\n",
      "10/10 [==============================] - 0s 10ms/step - loss: 0.3095 - accuracy: 0.8969 - val_loss: 0.2681 - val_accuracy: 0.9125\n",
      "Epoch 19/100\n",
      "10/10 [==============================] - 0s 8ms/step - loss: 0.3041 - accuracy: 0.8938 - val_loss: 0.2624 - val_accuracy: 0.9125\n",
      "Epoch 20/100\n",
      "10/10 [==============================] - 0s 9ms/step - loss: 0.2987 - accuracy: 0.8938 - val_loss: 0.2572 - val_accuracy: 0.9125\n",
      "Epoch 21/100\n",
      "10/10 [==============================] - 0s 9ms/step - loss: 0.2941 - accuracy: 0.8938 - val_loss: 0.2521 - val_accuracy: 0.9125\n",
      "Epoch 22/100\n",
      "10/10 [==============================] - 0s 9ms/step - loss: 0.2903 - accuracy: 0.8938 - val_loss: 0.2472 - val_accuracy: 0.9125\n",
      "Epoch 23/100\n",
      "10/10 [==============================] - 0s 9ms/step - loss: 0.2868 - accuracy: 0.9000 - val_loss: 0.2438 - val_accuracy: 0.9250\n",
      "Epoch 24/100\n",
      "10/10 [==============================] - 0s 11ms/step - loss: 0.2834 - accuracy: 0.9000 - val_loss: 0.2407 - val_accuracy: 0.9125\n",
      "Epoch 25/100\n",
      "10/10 [==============================] - 0s 9ms/step - loss: 0.2808 - accuracy: 0.9000 - val_loss: 0.2386 - val_accuracy: 0.9125\n",
      "Epoch 26/100\n",
      "10/10 [==============================] - 0s 9ms/step - loss: 0.2777 - accuracy: 0.9000 - val_loss: 0.2359 - val_accuracy: 0.9125\n",
      "Epoch 27/100\n",
      "10/10 [==============================] - 0s 8ms/step - loss: 0.2755 - accuracy: 0.9094 - val_loss: 0.2336 - val_accuracy: 0.9125\n",
      "Epoch 28/100\n",
      "10/10 [==============================] - 0s 9ms/step - loss: 0.2736 - accuracy: 0.9094 - val_loss: 0.2307 - val_accuracy: 0.9125\n",
      "Epoch 29/100\n",
      "10/10 [==============================] - 0s 11ms/step - loss: 0.2720 - accuracy: 0.9094 - val_loss: 0.2309 - val_accuracy: 0.9125\n",
      "Epoch 30/100\n",
      "10/10 [==============================] - 0s 10ms/step - loss: 0.2697 - accuracy: 0.9094 - val_loss: 0.2278 - val_accuracy: 0.9125\n",
      "Epoch 31/100\n",
      "10/10 [==============================] - 0s 10ms/step - loss: 0.2680 - accuracy: 0.9094 - val_loss: 0.2261 - val_accuracy: 0.9125\n",
      "Epoch 32/100\n",
      "10/10 [==============================] - 0s 10ms/step - loss: 0.2663 - accuracy: 0.9094 - val_loss: 0.2253 - val_accuracy: 0.9125\n",
      "Epoch 33/100\n",
      "10/10 [==============================] - 0s 8ms/step - loss: 0.2657 - accuracy: 0.9094 - val_loss: 0.2232 - val_accuracy: 0.9125\n",
      "Epoch 34/100\n",
      "10/10 [==============================] - 0s 7ms/step - loss: 0.2638 - accuracy: 0.9094 - val_loss: 0.2228 - val_accuracy: 0.9125\n",
      "Epoch 35/100\n",
      "10/10 [==============================] - 0s 7ms/step - loss: 0.2629 - accuracy: 0.9094 - val_loss: 0.2236 - val_accuracy: 0.9125\n",
      "Epoch 36/100\n",
      "10/10 [==============================] - 0s 8ms/step - loss: 0.2612 - accuracy: 0.9094 - val_loss: 0.2223 - val_accuracy: 0.9125\n",
      "Epoch 37/100\n",
      "10/10 [==============================] - 0s 8ms/step - loss: 0.2606 - accuracy: 0.9094 - val_loss: 0.2192 - val_accuracy: 0.9125\n",
      "Epoch 38/100\n",
      "10/10 [==============================] - 0s 7ms/step - loss: 0.2597 - accuracy: 0.9094 - val_loss: 0.2185 - val_accuracy: 0.9125\n",
      "Epoch 39/100\n",
      "10/10 [==============================] - 0s 7ms/step - loss: 0.2585 - accuracy: 0.9094 - val_loss: 0.2192 - val_accuracy: 0.9125\n",
      "Epoch 40/100\n",
      "10/10 [==============================] - 0s 6ms/step - loss: 0.2577 - accuracy: 0.9094 - val_loss: 0.2193 - val_accuracy: 0.9125\n",
      "Epoch 41/100\n",
      "10/10 [==============================] - 0s 6ms/step - loss: 0.2565 - accuracy: 0.9094 - val_loss: 0.2184 - val_accuracy: 0.9125\n",
      "Epoch 42/100\n",
      "10/10 [==============================] - 0s 6ms/step - loss: 0.2559 - accuracy: 0.9094 - val_loss: 0.2176 - val_accuracy: 0.9125\n",
      "Epoch 43/100\n",
      "10/10 [==============================] - 0s 6ms/step - loss: 0.2553 - accuracy: 0.9094 - val_loss: 0.2167 - val_accuracy: 0.9125\n",
      "Epoch 44/100\n",
      "10/10 [==============================] - 0s 6ms/step - loss: 0.2546 - accuracy: 0.9094 - val_loss: 0.2164 - val_accuracy: 0.9125\n",
      "Epoch 45/100\n",
      "10/10 [==============================] - 0s 7ms/step - loss: 0.2539 - accuracy: 0.9094 - val_loss: 0.2161 - val_accuracy: 0.9125\n",
      "Epoch 46/100\n",
      "10/10 [==============================] - 0s 7ms/step - loss: 0.2534 - accuracy: 0.9094 - val_loss: 0.2160 - val_accuracy: 0.9125\n",
      "Epoch 47/100\n",
      "10/10 [==============================] - 0s 6ms/step - loss: 0.2529 - accuracy: 0.9094 - val_loss: 0.2151 - val_accuracy: 0.9125\n",
      "Epoch 48/100\n",
      "10/10 [==============================] - 0s 6ms/step - loss: 0.2529 - accuracy: 0.9094 - val_loss: 0.2167 - val_accuracy: 0.9125\n",
      "Epoch 49/100\n",
      "10/10 [==============================] - 0s 8ms/step - loss: 0.2518 - accuracy: 0.9094 - val_loss: 0.2156 - val_accuracy: 0.9125\n",
      "Epoch 50/100\n",
      "10/10 [==============================] - 0s 6ms/step - loss: 0.2523 - accuracy: 0.9094 - val_loss: 0.2140 - val_accuracy: 0.9125\n",
      "Epoch 51/100\n",
      "10/10 [==============================] - 0s 7ms/step - loss: 0.2511 - accuracy: 0.9094 - val_loss: 0.2134 - val_accuracy: 0.9125\n",
      "Epoch 52/100\n",
      "10/10 [==============================] - 0s 6ms/step - loss: 0.2506 - accuracy: 0.9094 - val_loss: 0.2141 - val_accuracy: 0.9125\n",
      "Epoch 53/100\n",
      "10/10 [==============================] - 0s 6ms/step - loss: 0.2506 - accuracy: 0.9094 - val_loss: 0.2152 - val_accuracy: 0.9125\n",
      "Epoch 54/100\n",
      "10/10 [==============================] - 0s 6ms/step - loss: 0.2502 - accuracy: 0.9094 - val_loss: 0.2132 - val_accuracy: 0.9125\n",
      "Epoch 55/100\n",
      "10/10 [==============================] - 0s 6ms/step - loss: 0.2493 - accuracy: 0.9094 - val_loss: 0.2130 - val_accuracy: 0.9125\n",
      "Epoch 56/100\n",
      "10/10 [==============================] - 0s 8ms/step - loss: 0.2492 - accuracy: 0.9094 - val_loss: 0.2126 - val_accuracy: 0.9125\n",
      "Epoch 57/100\n",
      "10/10 [==============================] - 0s 6ms/step - loss: 0.2486 - accuracy: 0.9094 - val_loss: 0.2126 - val_accuracy: 0.9125\n",
      "Epoch 58/100\n",
      "10/10 [==============================] - 0s 7ms/step - loss: 0.2488 - accuracy: 0.9094 - val_loss: 0.2145 - val_accuracy: 0.9125\n",
      "Epoch 59/100\n",
      "10/10 [==============================] - 0s 6ms/step - loss: 0.2481 - accuracy: 0.9094 - val_loss: 0.2133 - val_accuracy: 0.9125\n",
      "Epoch 60/100\n",
      "10/10 [==============================] - 0s 7ms/step - loss: 0.2481 - accuracy: 0.9094 - val_loss: 0.2132 - val_accuracy: 0.9125\n",
      "Epoch 61/100\n",
      "10/10 [==============================] - 0s 8ms/step - loss: 0.2486 - accuracy: 0.9094 - val_loss: 0.2114 - val_accuracy: 0.9125\n",
      "Epoch 62/100\n",
      "10/10 [==============================] - 0s 7ms/step - loss: 0.2473 - accuracy: 0.9125 - val_loss: 0.2110 - val_accuracy: 0.9125\n",
      "Epoch 63/100\n",
      "10/10 [==============================] - 0s 7ms/step - loss: 0.2470 - accuracy: 0.9125 - val_loss: 0.2130 - val_accuracy: 0.9125\n",
      "Epoch 64/100\n",
      "10/10 [==============================] - 0s 8ms/step - loss: 0.2471 - accuracy: 0.9094 - val_loss: 0.2117 - val_accuracy: 0.9125\n",
      "Epoch 65/100\n",
      "10/10 [==============================] - 0s 6ms/step - loss: 0.2463 - accuracy: 0.9094 - val_loss: 0.2124 - val_accuracy: 0.9125\n",
      "Epoch 66/100\n",
      "10/10 [==============================] - 0s 6ms/step - loss: 0.2462 - accuracy: 0.9125 - val_loss: 0.2118 - val_accuracy: 0.9125\n",
      "Epoch 67/100\n",
      "10/10 [==============================] - 0s 7ms/step - loss: 0.2458 - accuracy: 0.9125 - val_loss: 0.2120 - val_accuracy: 0.9125\n",
      "Epoch 68/100\n",
      "10/10 [==============================] - 0s 8ms/step - loss: 0.2460 - accuracy: 0.9125 - val_loss: 0.2103 - val_accuracy: 0.9125\n",
      "Epoch 69/100\n",
      "10/10 [==============================] - 0s 7ms/step - loss: 0.2456 - accuracy: 0.9125 - val_loss: 0.2106 - val_accuracy: 0.9125\n",
      "Epoch 70/100\n",
      "10/10 [==============================] - 0s 6ms/step - loss: 0.2458 - accuracy: 0.9125 - val_loss: 0.2122 - val_accuracy: 0.9125\n",
      "Epoch 71/100\n",
      "10/10 [==============================] - 0s 8ms/step - loss: 0.2451 - accuracy: 0.9094 - val_loss: 0.2118 - val_accuracy: 0.9125\n",
      "Epoch 72/100\n",
      "10/10 [==============================] - 0s 7ms/step - loss: 0.2457 - accuracy: 0.9125 - val_loss: 0.2104 - val_accuracy: 0.9125\n",
      "Epoch 73/100\n",
      "10/10 [==============================] - 0s 7ms/step - loss: 0.2446 - accuracy: 0.9125 - val_loss: 0.2115 - val_accuracy: 0.9125\n",
      "Epoch 74/100\n",
      "10/10 [==============================] - 0s 7ms/step - loss: 0.2443 - accuracy: 0.9125 - val_loss: 0.2112 - val_accuracy: 0.9125\n",
      "Epoch 75/100\n",
      "10/10 [==============================] - 0s 7ms/step - loss: 0.2440 - accuracy: 0.9125 - val_loss: 0.2097 - val_accuracy: 0.9125\n",
      "Epoch 76/100\n",
      "10/10 [==============================] - 0s 8ms/step - loss: 0.2440 - accuracy: 0.9125 - val_loss: 0.2099 - val_accuracy: 0.9125\n",
      "Epoch 77/100\n",
      "10/10 [==============================] - 0s 7ms/step - loss: 0.2442 - accuracy: 0.9125 - val_loss: 0.2088 - val_accuracy: 0.9125\n",
      "Epoch 78/100\n",
      "10/10 [==============================] - 0s 7ms/step - loss: 0.2433 - accuracy: 0.9125 - val_loss: 0.2089 - val_accuracy: 0.9125\n",
      "Epoch 79/100\n",
      "10/10 [==============================] - 0s 7ms/step - loss: 0.2433 - accuracy: 0.9125 - val_loss: 0.2101 - val_accuracy: 0.9125\n",
      "Epoch 80/100\n",
      "10/10 [==============================] - 0s 6ms/step - loss: 0.2434 - accuracy: 0.9125 - val_loss: 0.2104 - val_accuracy: 0.9125\n",
      "Epoch 81/100\n",
      "10/10 [==============================] - 0s 6ms/step - loss: 0.2431 - accuracy: 0.9125 - val_loss: 0.2101 - val_accuracy: 0.9125\n",
      "Epoch 82/100\n",
      "10/10 [==============================] - 0s 7ms/step - loss: 0.2431 - accuracy: 0.9156 - val_loss: 0.2107 - val_accuracy: 0.9125\n",
      "Epoch 83/100\n",
      "10/10 [==============================] - 0s 7ms/step - loss: 0.2427 - accuracy: 0.9156 - val_loss: 0.2105 - val_accuracy: 0.9125\n",
      "Epoch 84/100\n",
      "10/10 [==============================] - 0s 8ms/step - loss: 0.2424 - accuracy: 0.9156 - val_loss: 0.2102 - val_accuracy: 0.9125\n",
      "Epoch 85/100\n",
      "10/10 [==============================] - 0s 8ms/step - loss: 0.2425 - accuracy: 0.9156 - val_loss: 0.2086 - val_accuracy: 0.9125\n",
      "Epoch 86/100\n",
      "10/10 [==============================] - 0s 6ms/step - loss: 0.2427 - accuracy: 0.9125 - val_loss: 0.2100 - val_accuracy: 0.9125\n",
      "Epoch 87/100\n",
      "10/10 [==============================] - 0s 7ms/step - loss: 0.2420 - accuracy: 0.9156 - val_loss: 0.2095 - val_accuracy: 0.9125\n",
      "Epoch 88/100\n",
      "10/10 [==============================] - 0s 7ms/step - loss: 0.2428 - accuracy: 0.9125 - val_loss: 0.2072 - val_accuracy: 0.9125\n",
      "Epoch 89/100\n",
      "10/10 [==============================] - 0s 6ms/step - loss: 0.2420 - accuracy: 0.9156 - val_loss: 0.2095 - val_accuracy: 0.9125\n",
      "Epoch 90/100\n",
      "10/10 [==============================] - 0s 7ms/step - loss: 0.2419 - accuracy: 0.9156 - val_loss: 0.2104 - val_accuracy: 0.9125\n",
      "Epoch 91/100\n",
      "10/10 [==============================] - 0s 7ms/step - loss: 0.2416 - accuracy: 0.9125 - val_loss: 0.2087 - val_accuracy: 0.9125\n",
      "Epoch 92/100\n",
      "10/10 [==============================] - 0s 8ms/step - loss: 0.2412 - accuracy: 0.9156 - val_loss: 0.2088 - val_accuracy: 0.9125\n",
      "Epoch 93/100\n",
      "10/10 [==============================] - 0s 6ms/step - loss: 0.2410 - accuracy: 0.9156 - val_loss: 0.2095 - val_accuracy: 0.9125\n",
      "Epoch 94/100\n",
      "10/10 [==============================] - 0s 6ms/step - loss: 0.2409 - accuracy: 0.9156 - val_loss: 0.2081 - val_accuracy: 0.9125\n",
      "Epoch 95/100\n",
      "10/10 [==============================] - 0s 7ms/step - loss: 0.2410 - accuracy: 0.9156 - val_loss: 0.2088 - val_accuracy: 0.9125\n",
      "Epoch 96/100\n",
      "10/10 [==============================] - 0s 8ms/step - loss: 0.2410 - accuracy: 0.9156 - val_loss: 0.2084 - val_accuracy: 0.9125\n",
      "Epoch 97/100\n",
      "10/10 [==============================] - 0s 6ms/step - loss: 0.2406 - accuracy: 0.9156 - val_loss: 0.2089 - val_accuracy: 0.9125\n",
      "Epoch 98/100\n",
      "10/10 [==============================] - 0s 6ms/step - loss: 0.2408 - accuracy: 0.9156 - val_loss: 0.2078 - val_accuracy: 0.9125\n",
      "Epoch 99/100\n",
      "10/10 [==============================] - 0s 7ms/step - loss: 0.2404 - accuracy: 0.9156 - val_loss: 0.2084 - val_accuracy: 0.9125\n",
      "Epoch 100/100\n",
      "10/10 [==============================] - 0s 6ms/step - loss: 0.2404 - accuracy: 0.9156 - val_loss: 0.2080 - val_accuracy: 0.9125\n"
     ]
    }
   ],
   "source": [
    "model1 = Sequential()\n",
    "model1.add(Dense(128, activation='relu', input_dim=2))\n",
    "model1.add(Dense(1,activation='sigmoid'))\n",
    "model1.compile(optimizer='adam', loss='binary_crossentropy', metrics=['accuracy'])\n",
    "history = model1.fit(x_train_scaler, y_train, validation_data=(x_test_scaler, y_test), epochs=100)"
   ]
  },
  {
   "cell_type": "code",
   "execution_count": 26,
   "metadata": {
    "colab": {
     "base_uri": "https://localhost:8080/",
     "height": 282
    },
    "id": "x45Y4K84Ka5S",
    "outputId": "80003e66-4563-413f-ed49-2f2751bb8225"
   },
   "outputs": [
    {
     "data": {
      "text/plain": [
       "[<matplotlib.lines.Line2D at 0x7f00001a78b0>]"
      ]
     },
     "execution_count": 26,
     "metadata": {},
     "output_type": "execute_result"
    },
    {
     "data": {
      "image/png": "[encoded data removed]",
      "text/plain": [
       "<Figure size 432x288 with 1 Axes>"
      ]
     },
     "metadata": {
      "needs_background": "light"
     },
     "output_type": "display_data"
    }
   ],
   "source": [
    "plt.plot(history.history['val_accuracy'])"
   ]
  },
  {
   "cell_type": "code",
   "execution_count": 27,
   "metadata": {
    "colab": {
     "base_uri": "https://localhost:8080/",
     "height": 282
    },
    "id": "klo8jsQRKa8N",
    "outputId": "2d9316e8-f48c-448d-ea41-165360ac1183"
   },
   "outputs": [
    {
     "data": {
      "text/plain": [
       "[<matplotlib.lines.Line2D at 0x7f0000162400>]"
      ]
     },
     "execution_count": 27,
     "metadata": {},
     "output_type": "execute_result"
    },
    {
     "data": {
      "image/png": "[encoded data removed]",
      "text/plain": [
       "<Figure size 432x288 with 1 Axes>"
      ]
     },
     "metadata": {
      "needs_background": "light"
     },
     "output_type": "display_data"
    }
   ],
   "source": [
    "plt.plot(history.history['accuracy'])"
   ]
  },
  {
   "cell_type": "code",
   "execution_count": null,
   "metadata": {
    "id": "O6t_N9GJKa_x"
   },
   "outputs": [],
   "source": []
  },
  {
   "cell_type": "code",
   "execution_count": null,
   "metadata": {
    "id": "hqQJL0e2KbDC"
   },
   "outputs": [],
   "source": []
  },
  {
   "cell_type": "markdown",
   "metadata": {
    "id": "ROSFEdqlRcxj"
   },
   "source": [
    "# Dropout"
   ]
  },
  {
   "cell_type": "code",
   "execution_count": 29,
   "metadata": {
    "id": "C4wkDVeURbPM"
   },
   "outputs": [],
   "source": [
    "from tensorflow.keras.layers import Dropout"
   ]
  },
  {
   "cell_type": "code",
   "execution_count": 31,
   "metadata": {
    "colab": {
     "base_uri": "https://localhost:8080/"
    },
    "id": "ajNF7TuQRixg",
    "outputId": "2313ebed-1169-42a5-d7d0-02e8b516e4a9"
   },
   "outputs": [
    {
     "name": "stdout",
     "output_type": "stream",
     "text": [
      "Epoch 1/100\n",
      "10/10 [==============================] - 1s 20ms/step - loss: 0.6284 - accuracy: 0.7531 - val_loss: 0.5528 - val_accuracy: 0.8250\n",
      "Epoch 2/100\n",
      "10/10 [==============================] - 0s 9ms/step - loss: 0.5248 - accuracy: 0.8250 - val_loss: 0.4593 - val_accuracy: 0.8375\n",
      "Epoch 3/100\n",
      "10/10 [==============================] - 0s 6ms/step - loss: 0.4500 - accuracy: 0.8375 - val_loss: 0.3865 - val_accuracy: 0.8500\n",
      "Epoch 4/100\n",
      "10/10 [==============================] - 0s 6ms/step - loss: 0.3952 - accuracy: 0.8500 - val_loss: 0.3357 - val_accuracy: 0.8625\n",
      "Epoch 5/100\n",
      "10/10 [==============================] - 0s 8ms/step - loss: 0.3663 - accuracy: 0.8531 - val_loss: 0.3025 - val_accuracy: 0.8625\n",
      "Epoch 6/100\n",
      "10/10 [==============================] - 0s 6ms/step - loss: 0.3198 - accuracy: 0.8531 - val_loss: 0.2790 - val_accuracy: 0.8750\n",
      "Epoch 7/100\n",
      "10/10 [==============================] - 0s 8ms/step - loss: 0.3215 - accuracy: 0.8656 - val_loss: 0.2615 - val_accuracy: 0.8750\n",
      "Epoch 8/100\n",
      "10/10 [==============================] - 0s 8ms/step - loss: 0.3045 - accuracy: 0.8938 - val_loss: 0.2478 - val_accuracy: 0.9000\n",
      "Epoch 9/100\n",
      "10/10 [==============================] - 0s 6ms/step - loss: 0.3032 - accuracy: 0.8844 - val_loss: 0.2401 - val_accuracy: 0.9000\n",
      "Epoch 10/100\n",
      "10/10 [==============================] - 0s 6ms/step - loss: 0.2947 - accuracy: 0.8844 - val_loss: 0.2357 - val_accuracy: 0.9000\n",
      "Epoch 11/100\n",
      "10/10 [==============================] - 0s 8ms/step - loss: 0.2722 - accuracy: 0.9031 - val_loss: 0.2268 - val_accuracy: 0.9000\n",
      "Epoch 12/100\n",
      "10/10 [==============================] - 0s 8ms/step - loss: 0.2712 - accuracy: 0.9000 - val_loss: 0.2211 - val_accuracy: 0.9125\n",
      "Epoch 13/100\n",
      "10/10 [==============================] - 0s 8ms/step - loss: 0.2654 - accuracy: 0.9062 - val_loss: 0.2187 - val_accuracy: 0.9125\n",
      "Epoch 14/100\n",
      "10/10 [==============================] - 0s 7ms/step - loss: 0.2720 - accuracy: 0.9125 - val_loss: 0.2145 - val_accuracy: 0.9125\n",
      "Epoch 15/100\n",
      "10/10 [==============================] - 0s 7ms/step - loss: 0.2497 - accuracy: 0.9094 - val_loss: 0.2154 - val_accuracy: 0.9125\n",
      "Epoch 16/100\n",
      "10/10 [==============================] - 0s 8ms/step - loss: 0.2424 - accuracy: 0.9094 - val_loss: 0.2141 - val_accuracy: 0.9125\n",
      "Epoch 17/100\n",
      "10/10 [==============================] - 0s 6ms/step - loss: 0.2520 - accuracy: 0.9031 - val_loss: 0.2114 - val_accuracy: 0.9125\n",
      "Epoch 18/100\n",
      "10/10 [==============================] - 0s 7ms/step - loss: 0.2565 - accuracy: 0.9187 - val_loss: 0.2077 - val_accuracy: 0.9125\n",
      "Epoch 19/100\n",
      "10/10 [==============================] - 0s 6ms/step - loss: 0.2550 - accuracy: 0.9062 - val_loss: 0.2054 - val_accuracy: 0.9125\n",
      "Epoch 20/100\n",
      "10/10 [==============================] - 0s 6ms/step - loss: 0.2487 - accuracy: 0.9156 - val_loss: 0.2057 - val_accuracy: 0.9125\n",
      "Epoch 21/100\n",
      "10/10 [==============================] - 0s 8ms/step - loss: 0.2606 - accuracy: 0.9094 - val_loss: 0.2022 - val_accuracy: 0.9125\n",
      "Epoch 22/100\n",
      "10/10 [==============================] - 0s 7ms/step - loss: 0.2631 - accuracy: 0.9187 - val_loss: 0.2051 - val_accuracy: 0.9250\n",
      "Epoch 23/100\n",
      "10/10 [==============================] - 0s 6ms/step - loss: 0.2393 - accuracy: 0.9187 - val_loss: 0.2051 - val_accuracy: 0.9250\n",
      "Epoch 24/100\n",
      "10/10 [==============================] - 0s 7ms/step - loss: 0.2451 - accuracy: 0.9094 - val_loss: 0.2051 - val_accuracy: 0.9250\n",
      "Epoch 25/100\n",
      "10/10 [==============================] - 0s 8ms/step - loss: 0.2466 - accuracy: 0.9156 - val_loss: 0.2041 - val_accuracy: 0.9250\n",
      "Epoch 26/100\n",
      "10/10 [==============================] - 0s 7ms/step - loss: 0.2504 - accuracy: 0.9031 - val_loss: 0.2065 - val_accuracy: 0.9250\n",
      "Epoch 27/100\n",
      "10/10 [==============================] - 0s 8ms/step - loss: 0.2578 - accuracy: 0.9094 - val_loss: 0.2008 - val_accuracy: 0.9250\n",
      "Epoch 28/100\n",
      "10/10 [==============================] - 0s 7ms/step - loss: 0.2650 - accuracy: 0.9062 - val_loss: 0.1999 - val_accuracy: 0.9250\n",
      "Epoch 29/100\n",
      "10/10 [==============================] - 0s 9ms/step - loss: 0.2550 - accuracy: 0.9062 - val_loss: 0.2031 - val_accuracy: 0.9250\n",
      "Epoch 30/100\n",
      "10/10 [==============================] - 0s 7ms/step - loss: 0.2541 - accuracy: 0.9094 - val_loss: 0.2004 - val_accuracy: 0.9250\n",
      "Epoch 31/100\n",
      "10/10 [==============================] - 0s 8ms/step - loss: 0.2528 - accuracy: 0.9062 - val_loss: 0.1989 - val_accuracy: 0.9250\n",
      "Epoch 32/100\n",
      "10/10 [==============================] - 0s 6ms/step - loss: 0.2348 - accuracy: 0.9187 - val_loss: 0.1979 - val_accuracy: 0.9250\n",
      "Epoch 33/100\n",
      "10/10 [==============================] - 0s 6ms/step - loss: 0.2493 - accuracy: 0.9156 - val_loss: 0.2020 - val_accuracy: 0.9250\n",
      "Epoch 34/100\n",
      "10/10 [==============================] - 0s 7ms/step - loss: 0.2338 - accuracy: 0.9125 - val_loss: 0.2005 - val_accuracy: 0.9250\n",
      "Epoch 35/100\n",
      "10/10 [==============================] - 0s 6ms/step - loss: 0.2506 - accuracy: 0.9156 - val_loss: 0.1963 - val_accuracy: 0.9250\n",
      "Epoch 36/100\n",
      "10/10 [==============================] - 0s 8ms/step - loss: 0.2609 - accuracy: 0.9125 - val_loss: 0.1947 - val_accuracy: 0.9250\n",
      "Epoch 37/100\n",
      "10/10 [==============================] - 0s 7ms/step - loss: 0.2614 - accuracy: 0.9062 - val_loss: 0.1959 - val_accuracy: 0.9250\n",
      "Epoch 38/100\n",
      "10/10 [==============================] - 0s 8ms/step - loss: 0.2627 - accuracy: 0.9125 - val_loss: 0.1960 - val_accuracy: 0.9250\n",
      "Epoch 39/100\n",
      "10/10 [==============================] - 0s 7ms/step - loss: 0.2360 - accuracy: 0.9125 - val_loss: 0.1932 - val_accuracy: 0.9250\n",
      "Epoch 40/100\n",
      "10/10 [==============================] - 0s 8ms/step - loss: 0.2320 - accuracy: 0.9125 - val_loss: 0.1920 - val_accuracy: 0.9250\n",
      "Epoch 41/100\n",
      "10/10 [==============================] - 0s 8ms/step - loss: 0.2465 - accuracy: 0.9156 - val_loss: 0.1928 - val_accuracy: 0.9250\n",
      "Epoch 42/100\n",
      "10/10 [==============================] - 0s 8ms/step - loss: 0.2448 - accuracy: 0.9125 - val_loss: 0.1932 - val_accuracy: 0.9250\n",
      "Epoch 43/100\n",
      "10/10 [==============================] - 0s 7ms/step - loss: 0.2541 - accuracy: 0.9219 - val_loss: 0.1910 - val_accuracy: 0.9250\n",
      "Epoch 44/100\n",
      "10/10 [==============================] - 0s 6ms/step - loss: 0.2430 - accuracy: 0.9094 - val_loss: 0.1933 - val_accuracy: 0.9250\n",
      "Epoch 45/100\n",
      "10/10 [==============================] - 0s 6ms/step - loss: 0.2462 - accuracy: 0.9125 - val_loss: 0.1966 - val_accuracy: 0.9250\n",
      "Epoch 46/100\n",
      "10/10 [==============================] - 0s 8ms/step - loss: 0.2596 - accuracy: 0.9125 - val_loss: 0.1950 - val_accuracy: 0.9250\n",
      "Epoch 47/100\n",
      "10/10 [==============================] - 0s 8ms/step - loss: 0.2277 - accuracy: 0.9156 - val_loss: 0.1924 - val_accuracy: 0.9250\n",
      "Epoch 48/100\n",
      "10/10 [==============================] - 0s 8ms/step - loss: 0.2458 - accuracy: 0.9125 - val_loss: 0.1896 - val_accuracy: 0.9250\n",
      "Epoch 49/100\n",
      "10/10 [==============================] - 0s 6ms/step - loss: 0.2351 - accuracy: 0.9125 - val_loss: 0.1914 - val_accuracy: 0.9250\n",
      "Epoch 50/100\n",
      "10/10 [==============================] - 0s 7ms/step - loss: 0.2557 - accuracy: 0.9062 - val_loss: 0.1905 - val_accuracy: 0.9250\n",
      "Epoch 51/100\n",
      "10/10 [==============================] - 0s 6ms/step - loss: 0.2484 - accuracy: 0.9187 - val_loss: 0.1876 - val_accuracy: 0.9250\n",
      "Epoch 52/100\n",
      "10/10 [==============================] - 0s 8ms/step - loss: 0.2459 - accuracy: 0.9187 - val_loss: 0.1871 - val_accuracy: 0.9250\n",
      "Epoch 53/100\n",
      "10/10 [==============================] - 0s 8ms/step - loss: 0.2364 - accuracy: 0.9156 - val_loss: 0.1899 - val_accuracy: 0.9250\n",
      "Epoch 54/100\n",
      "10/10 [==============================] - 0s 8ms/step - loss: 0.2348 - accuracy: 0.9187 - val_loss: 0.1923 - val_accuracy: 0.9250\n",
      "Epoch 55/100\n",
      "10/10 [==============================] - 0s 7ms/step - loss: 0.2393 - accuracy: 0.9250 - val_loss: 0.1906 - val_accuracy: 0.9250\n",
      "Epoch 56/100\n",
      "10/10 [==============================] - 0s 6ms/step - loss: 0.2432 - accuracy: 0.9156 - val_loss: 0.1890 - val_accuracy: 0.9250\n",
      "Epoch 57/100\n",
      "10/10 [==============================] - 0s 8ms/step - loss: 0.2383 - accuracy: 0.9187 - val_loss: 0.1874 - val_accuracy: 0.9250\n",
      "Epoch 58/100\n",
      "10/10 [==============================] - 0s 7ms/step - loss: 0.2309 - accuracy: 0.9094 - val_loss: 0.1889 - val_accuracy: 0.9250\n",
      "Epoch 59/100\n",
      "10/10 [==============================] - 0s 8ms/step - loss: 0.2438 - accuracy: 0.9187 - val_loss: 0.1898 - val_accuracy: 0.9250\n",
      "Epoch 60/100\n",
      "10/10 [==============================] - 0s 8ms/step - loss: 0.2362 - accuracy: 0.9156 - val_loss: 0.1878 - val_accuracy: 0.9250\n",
      "Epoch 61/100\n",
      "10/10 [==============================] - 0s 7ms/step - loss: 0.2312 - accuracy: 0.9187 - val_loss: 0.1892 - val_accuracy: 0.9250\n",
      "Epoch 62/100\n",
      "10/10 [==============================] - 0s 6ms/step - loss: 0.2248 - accuracy: 0.9156 - val_loss: 0.1853 - val_accuracy: 0.9250\n",
      "Epoch 63/100\n",
      "10/10 [==============================] - 0s 8ms/step - loss: 0.2424 - accuracy: 0.9094 - val_loss: 0.1854 - val_accuracy: 0.9250\n",
      "Epoch 64/100\n",
      "10/10 [==============================] - 0s 8ms/step - loss: 0.2381 - accuracy: 0.9094 - val_loss: 0.1872 - val_accuracy: 0.9250\n",
      "Epoch 65/100\n",
      "10/10 [==============================] - 0s 6ms/step - loss: 0.2447 - accuracy: 0.9094 - val_loss: 0.1907 - val_accuracy: 0.9250\n",
      "Epoch 66/100\n",
      "10/10 [==============================] - 0s 6ms/step - loss: 0.2450 - accuracy: 0.9156 - val_loss: 0.1903 - val_accuracy: 0.9250\n",
      "Epoch 67/100\n",
      "10/10 [==============================] - 0s 8ms/step - loss: 0.2324 - accuracy: 0.9156 - val_loss: 0.1882 - val_accuracy: 0.9250\n",
      "Epoch 68/100\n",
      "10/10 [==============================] - 0s 7ms/step - loss: 0.2286 - accuracy: 0.9125 - val_loss: 0.1876 - val_accuracy: 0.9250\n",
      "Epoch 69/100\n",
      "10/10 [==============================] - 0s 8ms/step - loss: 0.2263 - accuracy: 0.9219 - val_loss: 0.1891 - val_accuracy: 0.9250\n",
      "Epoch 70/100\n",
      "10/10 [==============================] - 0s 8ms/step - loss: 0.2392 - accuracy: 0.9219 - val_loss: 0.1866 - val_accuracy: 0.9250\n",
      "Epoch 71/100\n",
      "10/10 [==============================] - 0s 8ms/step - loss: 0.2286 - accuracy: 0.9156 - val_loss: 0.1869 - val_accuracy: 0.9250\n",
      "Epoch 72/100\n",
      "10/10 [==============================] - 0s 6ms/step - loss: 0.2305 - accuracy: 0.9219 - val_loss: 0.1873 - val_accuracy: 0.9250\n",
      "Epoch 73/100\n",
      "10/10 [==============================] - 0s 8ms/step - loss: 0.2315 - accuracy: 0.9187 - val_loss: 0.1863 - val_accuracy: 0.9250\n",
      "Epoch 74/100\n",
      "10/10 [==============================] - 0s 8ms/step - loss: 0.2387 - accuracy: 0.9187 - val_loss: 0.1849 - val_accuracy: 0.9250\n",
      "Epoch 75/100\n",
      "10/10 [==============================] - 0s 8ms/step - loss: 0.2588 - accuracy: 0.9219 - val_loss: 0.1835 - val_accuracy: 0.9250\n",
      "Epoch 76/100\n",
      "10/10 [==============================] - 0s 6ms/step - loss: 0.2399 - accuracy: 0.9219 - val_loss: 0.1837 - val_accuracy: 0.9250\n",
      "Epoch 77/100\n",
      "10/10 [==============================] - 0s 7ms/step - loss: 0.2355 - accuracy: 0.9125 - val_loss: 0.1880 - val_accuracy: 0.9250\n",
      "Epoch 78/100\n",
      "10/10 [==============================] - 0s 8ms/step - loss: 0.2352 - accuracy: 0.9187 - val_loss: 0.1869 - val_accuracy: 0.9250\n",
      "Epoch 79/100\n",
      "10/10 [==============================] - 0s 8ms/step - loss: 0.2490 - accuracy: 0.9062 - val_loss: 0.1899 - val_accuracy: 0.9250\n",
      "Epoch 80/100\n",
      "10/10 [==============================] - 0s 8ms/step - loss: 0.2372 - accuracy: 0.9156 - val_loss: 0.1853 - val_accuracy: 0.9250\n",
      "Epoch 81/100\n",
      "10/10 [==============================] - 0s 8ms/step - loss: 0.2405 - accuracy: 0.9094 - val_loss: 0.1850 - val_accuracy: 0.9250\n",
      "Epoch 82/100\n",
      "10/10 [==============================] - 0s 6ms/step - loss: 0.2561 - accuracy: 0.9125 - val_loss: 0.1889 - val_accuracy: 0.9250\n",
      "Epoch 83/100\n",
      "10/10 [==============================] - 0s 8ms/step - loss: 0.2369 - accuracy: 0.9156 - val_loss: 0.1883 - val_accuracy: 0.9250\n",
      "Epoch 84/100\n",
      "10/10 [==============================] - 0s 8ms/step - loss: 0.2346 - accuracy: 0.9156 - val_loss: 0.1859 - val_accuracy: 0.9250\n",
      "Epoch 85/100\n",
      "10/10 [==============================] - 0s 8ms/step - loss: 0.2256 - accuracy: 0.9125 - val_loss: 0.1849 - val_accuracy: 0.9250\n",
      "Epoch 86/100\n",
      "10/10 [==============================] - 0s 8ms/step - loss: 0.2368 - accuracy: 0.9031 - val_loss: 0.1842 - val_accuracy: 0.9250\n",
      "Epoch 87/100\n",
      "10/10 [==============================] - 0s 6ms/step - loss: 0.2345 - accuracy: 0.9187 - val_loss: 0.1865 - val_accuracy: 0.9250\n",
      "Epoch 88/100\n",
      "10/10 [==============================] - 0s 8ms/step - loss: 0.2382 - accuracy: 0.9094 - val_loss: 0.1849 - val_accuracy: 0.9250\n",
      "Epoch 89/100\n",
      "10/10 [==============================] - 0s 8ms/step - loss: 0.2240 - accuracy: 0.9281 - val_loss: 0.1816 - val_accuracy: 0.9250\n",
      "Epoch 90/100\n",
      "10/10 [==============================] - 0s 6ms/step - loss: 0.2401 - accuracy: 0.9187 - val_loss: 0.1815 - val_accuracy: 0.9250\n",
      "Epoch 91/100\n",
      "10/10 [==============================] - 0s 6ms/step - loss: 0.2479 - accuracy: 0.9094 - val_loss: 0.1819 - val_accuracy: 0.9250\n",
      "Epoch 92/100\n",
      "10/10 [==============================] - 0s 6ms/step - loss: 0.2433 - accuracy: 0.9156 - val_loss: 0.1815 - val_accuracy: 0.9250\n",
      "Epoch 93/100\n",
      "10/10 [==============================] - 0s 8ms/step - loss: 0.2305 - accuracy: 0.9125 - val_loss: 0.1872 - val_accuracy: 0.9250\n",
      "Epoch 94/100\n",
      "10/10 [==============================] - 0s 7ms/step - loss: 0.2434 - accuracy: 0.9156 - val_loss: 0.1858 - val_accuracy: 0.9250\n",
      "Epoch 95/100\n",
      "10/10 [==============================] - 0s 8ms/step - loss: 0.2562 - accuracy: 0.9094 - val_loss: 0.1819 - val_accuracy: 0.9250\n",
      "Epoch 96/100\n",
      "10/10 [==============================] - 0s 7ms/step - loss: 0.2393 - accuracy: 0.9187 - val_loss: 0.1820 - val_accuracy: 0.9250\n",
      "Epoch 97/100\n",
      "10/10 [==============================] - 0s 8ms/step - loss: 0.2245 - accuracy: 0.9125 - val_loss: 0.1839 - val_accuracy: 0.9250\n",
      "Epoch 98/100\n",
      "10/10 [==============================] - 0s 8ms/step - loss: 0.2367 - accuracy: 0.9219 - val_loss: 0.1832 - val_accuracy: 0.9250\n",
      "Epoch 99/100\n",
      "10/10 [==============================] - 0s 7ms/step - loss: 0.2348 - accuracy: 0.9156 - val_loss: 0.1830 - val_accuracy: 0.9250\n",
      "Epoch 100/100\n",
      "10/10 [==============================] - 0s 6ms/step - loss: 0.2217 - accuracy: 0.9281 - val_loss: 0.1826 - val_accuracy: 0.9250\n"
     ]
    }
   ],
   "source": [
    "model2 = Sequential()\n",
    "model2.add(Dense(128, activation='relu', input_dim=2))\n",
    "model2.add(Dropout(0.5))\n",
    "model2.add(Dense(128, activation='relu', input_dim=2))\n",
    "model2.add(Dropout(0.4))\n",
    "model2.add(Dense(1,activation='sigmoid'))\n",
    "model2.compile(optimizer='adam', loss='binary_crossentropy', metrics=['accuracy'])\n",
    "history = model2.fit(x_train_scaler, y_train, validation_data=(x_test_scaler, y_test), epochs=100)"
   ]
  },
  {
   "cell_type": "code",
   "execution_count": null,
   "metadata": {
    "id": "Ny8z_fO0Ri1o"
   },
   "outputs": [],
   "source": []
  },
  {
   "cell_type": "code",
   "execution_count": null,
   "metadata": {
    "id": "UFWNlpgJRi8D"
   },
   "outputs": [],
   "source": []
  },
  {
   "cell_type": "code",
   "execution_count": null,
   "metadata": {
    "id": "WGmMOzZiRi_V"
   },
   "outputs": [],
   "source": []
  }
 ],
 "metadata": {
  "accelerator": "GPU",
  "colab": {
   "provenance": []
  },
  "gpuClass": "standard",
  "kernelspec": {
   "display_name": "Python 3",
   "name": "python3"
  },
  "language_info": {
   "name": "python"
  }
 },
 "nbformat": 4,
 "nbformat_minor": 0
}
