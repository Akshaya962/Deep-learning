{
 "cells": [
  {
   "cell_type": "code",
   "execution_count": 1,
   "metadata": {
    "id": "Pm2MPJpfjSG-"
   },
   "outputs": [],
   "source": [
    "import numpy as np\n",
    "import pandas as pd\n",
    "import matplotlib.pyplot as plt\n",
    "import seaborn as sns\n",
    "import time"
   ]
  },
  {
   "cell_type": "code",
   "execution_count": 2,
   "metadata": {
    "colab": {
     "base_uri": "https://localhost:8080/",
     "height": 206
    },
    "id": "1DyGQEujjYEM",
    "outputId": "3e1058c3-9df1-408b-c18c-18255cf23d07"
   },
   "outputs": [
    {
     "data": {
      "text/html": [
       "\n",
       "  <div id=\"df-5269668b-27ac-4183-b7dc-2f8527075f3d\">\n",
       "    <div class=\"colab-df-container\">\n",
       "      <div>\n",
       "<style scoped>\n",
       "    .dataframe tbody tr th:only-of-type {\n",
       "        vertical-align: middle;\n",
       "    }\n",
       "\n",
       "    .dataframe tbody tr th {\n",
       "        vertical-align: top;\n",
       "    }\n",
       "\n",
       "    .dataframe thead th {\n",
       "        text-align: right;\n",
       "    }\n",
       "</style>\n",
       "<table border=\"1\" class=\"dataframe\">\n",
       "  <thead>\n",
       "    <tr style=\"text-align: right;\">\n",
       "      <th></th>\n",
       "      <th>User ID</th>\n",
       "      <th>Gender</th>\n",
       "      <th>Age</th>\n",
       "      <th>EstimatedSalary</th>\n",
       "      <th>Purchased</th>\n",
       "    </tr>\n",
       "  </thead>\n",
       "  <tbody>\n",
       "    <tr>\n",
       "      <th>0</th>\n",
       "      <td>15624510</td>\n",
       "      <td>Male</td>\n",
       "      <td>19</td>\n",
       "      <td>19000</td>\n",
       "      <td>0</td>\n",
       "    </tr>\n",
       "    <tr>\n",
       "      <th>1</th>\n",
       "      <td>15810944</td>\n",
       "      <td>Male</td>\n",
       "      <td>35</td>\n",
       "      <td>20000</td>\n",
       "      <td>0</td>\n",
       "    </tr>\n",
       "    <tr>\n",
       "      <th>2</th>\n",
       "      <td>15668575</td>\n",
       "      <td>Female</td>\n",
       "      <td>26</td>\n",
       "      <td>43000</td>\n",
       "      <td>0</td>\n",
       "    </tr>\n",
       "    <tr>\n",
       "      <th>3</th>\n",
       "      <td>15603246</td>\n",
       "      <td>Female</td>\n",
       "      <td>27</td>\n",
       "      <td>57000</td>\n",
       "      <td>0</td>\n",
       "    </tr>\n",
       "    <tr>\n",
       "      <th>4</th>\n",
       "      <td>15804002</td>\n",
       "      <td>Male</td>\n",
       "      <td>19</td>\n",
       "      <td>76000</td>\n",
       "      <td>0</td>\n",
       "    </tr>\n",
       "  </tbody>\n",
       "</table>\n",
       "</div>\n",
       "      <button class=\"colab-df-convert\" onclick=\"convertToInteractive('df-5269668b-27ac-4183-b7dc-2f8527075f3d')\"\n",
       "              title=\"Convert this dataframe to an interactive table.\"\n",
       "              style=\"display:none;\">\n",
       "        \n",
       "  <svg xmlns=\"http://www.w3.org/2000/svg\" height=\"24px\"viewBox=\"0 0 24 24\"\n",
       "       width=\"24px\">\n",
       "    <path d=\"M0 0h24v24H0V0z\" fill=\"none\"/>\n",
       "    <path d=\"M18.56 5.44l.94 2.06.94-2.06 2.06-.94-2.06-.94-.94-2.06-.94 2.06-2.06.94zm-11 1L8.5 8.5l.94-2.06 2.06-.94-2.06-.94L8.5 2.5l-.94 2.06-2.06.94zm10 10l.94 2.06.94-2.06 2.06-.94-2.06-.94-.94-2.06-.94 2.06-2.06.94z\"/><path d=\"M17.41 7.96l-1.37-1.37c-.4-.4-.92-.59-1.43-.59-.52 0-1.04.2-1.43.59L10.3 9.45l-7.72 7.72c-.78.78-.78 2.05 0 2.83L4 21.41c.39.39.9.59 1.41.59.51 0 1.02-.2 1.41-.59l7.78-7.78 2.81-2.81c.8-.78.8-2.07 0-2.86zM5.41 20L4 18.59l7.72-7.72 1.47 1.35L5.41 20z\"/>\n",
       "  </svg>\n",
       "      </button>\n",
       "      \n",
       "  <style>\n",
       "    .colab-df-container {\n",
       "      display:flex;\n",
       "      flex-wrap:wrap;\n",
       "      gap: 12px;\n",
       "    }\n",
       "\n",
       "    .colab-df-convert {\n",
       "      background-color: #E8F0FE;\n",
       "      border: none;\n",
       "      border-radius: 50%;\n",
       "      cursor: pointer;\n",
       "      display: none;\n",
       "      fill: #1967D2;\n",
       "      height: 32px;\n",
       "      padding: 0 0 0 0;\n",
       "      width: 32px;\n",
       "    }\n",
       "\n",
       "    .colab-df-convert:hover {\n",
       "      background-color: #E2EBFA;\n",
       "      box-shadow: 0px 1px 2px rgba(60, 64, 67, 0.3), 0px 1px 3px 1px rgba(60, 64, 67, 0.15);\n",
       "      fill: #174EA6;\n",
       "    }\n",
       "\n",
       "    [theme=dark] .colab-df-convert {\n",
       "      background-color: #3B4455;\n",
       "      fill: #D2E3FC;\n",
       "    }\n",
       "\n",
       "    [theme=dark] .colab-df-convert:hover {\n",
       "      background-color: #434B5C;\n",
       "      box-shadow: 0px 1px 3px 1px rgba(0, 0, 0, 0.15);\n",
       "      filter: drop-shadow(0px 1px 2px rgba(0, 0, 0, 0.3));\n",
       "      fill: #FFFFFF;\n",
       "    }\n",
       "  </style>\n",
       "\n",
       "      <script>\n",
       "        const buttonEl =\n",
       "          document.querySelector('#df-5269668b-27ac-4183-b7dc-2f8527075f3d button.colab-df-convert');\n",
       "        buttonEl.style.display =\n",
       "          google.colab.kernel.accessAllowed ? 'block' : 'none';\n",
       "\n",
       "        async function convertToInteractive(key) {\n",
       "          const element = document.querySelector('#df-5269668b-27ac-4183-b7dc-2f8527075f3d');\n",
       "          const dataTable =\n",
       "            await google.colab.kernel.invokeFunction('convertToInteractive',\n",
       "                                                     [key], {});\n",
       "          if (!dataTable) return;\n",
       "\n",
       "          const docLinkHtml = 'Like what you see? Visit the ' +\n",
       "            '<a target=\"_blank\" href=https://colab.research.google.com/notebooks/data_table.ipynb>data table notebook</a>'\n",
       "            + ' to learn more about interactive tables.';\n",
       "          element.innerHTML = '';\n",
       "          dataTable['output_type'] = 'display_data';\n",
       "          await google.colab.output.renderOutput(dataTable, element);\n",
       "          const docLink = document.createElement('div');\n",
       "          docLink.innerHTML = docLinkHtml;\n",
       "          element.appendChild(docLink);\n",
       "        }\n",
       "      </script>\n",
       "    </div>\n",
       "  </div>\n",
       "  "
      ],
      "text/plain": [
       "    User ID  Gender  Age  EstimatedSalary  Purchased\n",
       "0  15624510    Male   19            19000          0\n",
       "1  15810944    Male   35            20000          0\n",
       "2  15668575  Female   26            43000          0\n",
       "3  15603246  Female   27            57000          0\n",
       "4  15804002    Male   19            76000          0"
      ]
     },
     "execution_count": 2,
     "metadata": {},
     "output_type": "execute_result"
    }
   ],
   "source": [
    "df = pd.read_csv('/content/Social_Network_Ads.csv')\n",
    "df.head()"
   ]
  },
  {
   "cell_type": "code",
   "execution_count": 3,
   "metadata": {
    "id": "RfZsPBbIjsNu"
   },
   "outputs": [],
   "source": [
    "df = df.iloc[:,2:]"
   ]
  },
  {
   "cell_type": "code",
   "execution_count": 4,
   "metadata": {
    "colab": {
     "base_uri": "https://localhost:8080/",
     "height": 206
    },
    "id": "6P4A5-xUjxve",
    "outputId": "d5b79a43-daee-4ed1-aaba-983ea974de4b"
   },
   "outputs": [
    {
     "data": {
      "text/html": [
       "\n",
       "  <div id=\"df-a3becd5a-0a7a-4fd1-9ef2-702e230e044b\">\n",
       "    <div class=\"colab-df-container\">\n",
       "      <div>\n",
       "<style scoped>\n",
       "    .dataframe tbody tr th:only-of-type {\n",
       "        vertical-align: middle;\n",
       "    }\n",
       "\n",
       "    .dataframe tbody tr th {\n",
       "        vertical-align: top;\n",
       "    }\n",
       "\n",
       "    .dataframe thead th {\n",
       "        text-align: right;\n",
       "    }\n",
       "</style>\n",
       "<table border=\"1\" class=\"dataframe\">\n",
       "  <thead>\n",
       "    <tr style=\"text-align: right;\">\n",
       "      <th></th>\n",
       "      <th>Age</th>\n",
       "      <th>EstimatedSalary</th>\n",
       "      <th>Purchased</th>\n",
       "    </tr>\n",
       "  </thead>\n",
       "  <tbody>\n",
       "    <tr>\n",
       "      <th>0</th>\n",
       "      <td>19</td>\n",
       "      <td>19000</td>\n",
       "      <td>0</td>\n",
       "    </tr>\n",
       "    <tr>\n",
       "      <th>1</th>\n",
       "      <td>35</td>\n",
       "      <td>20000</td>\n",
       "      <td>0</td>\n",
       "    </tr>\n",
       "    <tr>\n",
       "      <th>2</th>\n",
       "      <td>26</td>\n",
       "      <td>43000</td>\n",
       "      <td>0</td>\n",
       "    </tr>\n",
       "    <tr>\n",
       "      <th>3</th>\n",
       "      <td>27</td>\n",
       "      <td>57000</td>\n",
       "      <td>0</td>\n",
       "    </tr>\n",
       "    <tr>\n",
       "      <th>4</th>\n",
       "      <td>19</td>\n",
       "      <td>76000</td>\n",
       "      <td>0</td>\n",
       "    </tr>\n",
       "  </tbody>\n",
       "</table>\n",
       "</div>\n",
       "      <button class=\"colab-df-convert\" onclick=\"convertToInteractive('df-a3becd5a-0a7a-4fd1-9ef2-702e230e044b')\"\n",
       "              title=\"Convert this dataframe to an interactive table.\"\n",
       "              style=\"display:none;\">\n",
       "        \n",
       "  <svg xmlns=\"http://www.w3.org/2000/svg\" height=\"24px\"viewBox=\"0 0 24 24\"\n",
       "       width=\"24px\">\n",
       "    <path d=\"M0 0h24v24H0V0z\" fill=\"none\"/>\n",
       "    <path d=\"M18.56 5.44l.94 2.06.94-2.06 2.06-.94-2.06-.94-.94-2.06-.94 2.06-2.06.94zm-11 1L8.5 8.5l.94-2.06 2.06-.94-2.06-.94L8.5 2.5l-.94 2.06-2.06.94zm10 10l.94 2.06.94-2.06 2.06-.94-2.06-.94-.94-2.06-.94 2.06-2.06.94z\"/><path d=\"M17.41 7.96l-1.37-1.37c-.4-.4-.92-.59-1.43-.59-.52 0-1.04.2-1.43.59L10.3 9.45l-7.72 7.72c-.78.78-.78 2.05 0 2.83L4 21.41c.39.39.9.59 1.41.59.51 0 1.02-.2 1.41-.59l7.78-7.78 2.81-2.81c.8-.78.8-2.07 0-2.86zM5.41 20L4 18.59l7.72-7.72 1.47 1.35L5.41 20z\"/>\n",
       "  </svg>\n",
       "      </button>\n",
       "      \n",
       "  <style>\n",
       "    .colab-df-container {\n",
       "      display:flex;\n",
       "      flex-wrap:wrap;\n",
       "      gap: 12px;\n",
       "    }\n",
       "\n",
       "    .colab-df-convert {\n",
       "      background-color: #E8F0FE;\n",
       "      border: none;\n",
       "      border-radius: 50%;\n",
       "      cursor: pointer;\n",
       "      display: none;\n",
       "      fill: #1967D2;\n",
       "      height: 32px;\n",
       "      padding: 0 0 0 0;\n",
       "      width: 32px;\n",
       "    }\n",
       "\n",
       "    .colab-df-convert:hover {\n",
       "      background-color: #E2EBFA;\n",
       "      box-shadow: 0px 1px 2px rgba(60, 64, 67, 0.3), 0px 1px 3px 1px rgba(60, 64, 67, 0.15);\n",
       "      fill: #174EA6;\n",
       "    }\n",
       "\n",
       "    [theme=dark] .colab-df-convert {\n",
       "      background-color: #3B4455;\n",
       "      fill: #D2E3FC;\n",
       "    }\n",
       "\n",
       "    [theme=dark] .colab-df-convert:hover {\n",
       "      background-color: #434B5C;\n",
       "      box-shadow: 0px 1px 3px 1px rgba(0, 0, 0, 0.15);\n",
       "      filter: drop-shadow(0px 1px 2px rgba(0, 0, 0, 0.3));\n",
       "      fill: #FFFFFF;\n",
       "    }\n",
       "  </style>\n",
       "\n",
       "      <script>\n",
       "        const buttonEl =\n",
       "          document.querySelector('#df-a3becd5a-0a7a-4fd1-9ef2-702e230e044b button.colab-df-convert');\n",
       "        buttonEl.style.display =\n",
       "          google.colab.kernel.accessAllowed ? 'block' : 'none';\n",
       "\n",
       "        async function convertToInteractive(key) {\n",
       "          const element = document.querySelector('#df-a3becd5a-0a7a-4fd1-9ef2-702e230e044b');\n",
       "          const dataTable =\n",
       "            await google.colab.kernel.invokeFunction('convertToInteractive',\n",
       "                                                     [key], {});\n",
       "          if (!dataTable) return;\n",
       "\n",
       "          const docLinkHtml = 'Like what you see? Visit the ' +\n",
       "            '<a target=\"_blank\" href=https://colab.research.google.com/notebooks/data_table.ipynb>data table notebook</a>'\n",
       "            + ' to learn more about interactive tables.';\n",
       "          element.innerHTML = '';\n",
       "          dataTable['output_type'] = 'display_data';\n",
       "          await google.colab.output.renderOutput(dataTable, element);\n",
       "          const docLink = document.createElement('div');\n",
       "          docLink.innerHTML = docLinkHtml;\n",
       "          element.appendChild(docLink);\n",
       "        }\n",
       "      </script>\n",
       "    </div>\n",
       "  </div>\n",
       "  "
      ],
      "text/plain": [
       "   Age  EstimatedSalary  Purchased\n",
       "0   19            19000          0\n",
       "1   35            20000          0\n",
       "2   26            43000          0\n",
       "3   27            57000          0\n",
       "4   19            76000          0"
      ]
     },
     "execution_count": 4,
     "metadata": {},
     "output_type": "execute_result"
    }
   ],
   "source": [
    "df.head()"
   ]
  },
  {
   "cell_type": "code",
   "execution_count": 5,
   "metadata": {
    "id": "dtbX4Snnjyf6"
   },
   "outputs": [],
   "source": [
    "x = df.iloc[:,0:2]\n",
    "y = df.iloc[:,-1]"
   ]
  },
  {
   "cell_type": "code",
   "execution_count": 6,
   "metadata": {
    "colab": {
     "base_uri": "https://localhost:8080/",
     "height": 206
    },
    "id": "GpD9SUBQj60C",
    "outputId": "981b0055-46cf-4202-8d6b-2439d4a96938"
   },
   "outputs": [
    {
     "data": {
      "text/html": [
       "\n",
       "  <div id=\"df-f0dced00-a961-44be-b244-dea562a48f3e\">\n",
       "    <div class=\"colab-df-container\">\n",
       "      <div>\n",
       "<style scoped>\n",
       "    .dataframe tbody tr th:only-of-type {\n",
       "        vertical-align: middle;\n",
       "    }\n",
       "\n",
       "    .dataframe tbody tr th {\n",
       "        vertical-align: top;\n",
       "    }\n",
       "\n",
       "    .dataframe thead th {\n",
       "        text-align: right;\n",
       "    }\n",
       "</style>\n",
       "<table border=\"1\" class=\"dataframe\">\n",
       "  <thead>\n",
       "    <tr style=\"text-align: right;\">\n",
       "      <th></th>\n",
       "      <th>Age</th>\n",
       "      <th>EstimatedSalary</th>\n",
       "    </tr>\n",
       "  </thead>\n",
       "  <tbody>\n",
       "    <tr>\n",
       "      <th>0</th>\n",
       "      <td>19</td>\n",
       "      <td>19000</td>\n",
       "    </tr>\n",
       "    <tr>\n",
       "      <th>1</th>\n",
       "      <td>35</td>\n",
       "      <td>20000</td>\n",
       "    </tr>\n",
       "    <tr>\n",
       "      <th>2</th>\n",
       "      <td>26</td>\n",
       "      <td>43000</td>\n",
       "    </tr>\n",
       "    <tr>\n",
       "      <th>3</th>\n",
       "      <td>27</td>\n",
       "      <td>57000</td>\n",
       "    </tr>\n",
       "    <tr>\n",
       "      <th>4</th>\n",
       "      <td>19</td>\n",
       "      <td>76000</td>\n",
       "    </tr>\n",
       "  </tbody>\n",
       "</table>\n",
       "</div>\n",
       "      <button class=\"colab-df-convert\" onclick=\"convertToInteractive('df-f0dced00-a961-44be-b244-dea562a48f3e')\"\n",
       "              title=\"Convert this dataframe to an interactive table.\"\n",
       "              style=\"display:none;\">\n",
       "        \n",
       "  <svg xmlns=\"http://www.w3.org/2000/svg\" height=\"24px\"viewBox=\"0 0 24 24\"\n",
       "       width=\"24px\">\n",
       "    <path d=\"M0 0h24v24H0V0z\" fill=\"none\"/>\n",
       "    <path d=\"M18.56 5.44l.94 2.06.94-2.06 2.06-.94-2.06-.94-.94-2.06-.94 2.06-2.06.94zm-11 1L8.5 8.5l.94-2.06 2.06-.94-2.06-.94L8.5 2.5l-.94 2.06-2.06.94zm10 10l.94 2.06.94-2.06 2.06-.94-2.06-.94-.94-2.06-.94 2.06-2.06.94z\"/><path d=\"M17.41 7.96l-1.37-1.37c-.4-.4-.92-.59-1.43-.59-.52 0-1.04.2-1.43.59L10.3 9.45l-7.72 7.72c-.78.78-.78 2.05 0 2.83L4 21.41c.39.39.9.59 1.41.59.51 0 1.02-.2 1.41-.59l7.78-7.78 2.81-2.81c.8-.78.8-2.07 0-2.86zM5.41 20L4 18.59l7.72-7.72 1.47 1.35L5.41 20z\"/>\n",
       "  </svg>\n",
       "      </button>\n",
       "      \n",
       "  <style>\n",
       "    .colab-df-container {\n",
       "      display:flex;\n",
       "      flex-wrap:wrap;\n",
       "      gap: 12px;\n",
       "    }\n",
       "\n",
       "    .colab-df-convert {\n",
       "      background-color: #E8F0FE;\n",
       "      border: none;\n",
       "      border-radius: 50%;\n",
       "      cursor: pointer;\n",
       "      display: none;\n",
       "      fill: #1967D2;\n",
       "      height: 32px;\n",
       "      padding: 0 0 0 0;\n",
       "      width: 32px;\n",
       "    }\n",
       "\n",
       "    .colab-df-convert:hover {\n",
       "      background-color: #E2EBFA;\n",
       "      box-shadow: 0px 1px 2px rgba(60, 64, 67, 0.3), 0px 1px 3px 1px rgba(60, 64, 67, 0.15);\n",
       "      fill: #174EA6;\n",
       "    }\n",
       "\n",
       "    [theme=dark] .colab-df-convert {\n",
       "      background-color: #3B4455;\n",
       "      fill: #D2E3FC;\n",
       "    }\n",
       "\n",
       "    [theme=dark] .colab-df-convert:hover {\n",
       "      background-color: #434B5C;\n",
       "      box-shadow: 0px 1px 3px 1px rgba(0, 0, 0, 0.15);\n",
       "      filter: drop-shadow(0px 1px 2px rgba(0, 0, 0, 0.3));\n",
       "      fill: #FFFFFF;\n",
       "    }\n",
       "  </style>\n",
       "\n",
       "      <script>\n",
       "        const buttonEl =\n",
       "          document.querySelector('#df-f0dced00-a961-44be-b244-dea562a48f3e button.colab-df-convert');\n",
       "        buttonEl.style.display =\n",
       "          google.colab.kernel.accessAllowed ? 'block' : 'none';\n",
       "\n",
       "        async function convertToInteractive(key) {\n",
       "          const element = document.querySelector('#df-f0dced00-a961-44be-b244-dea562a48f3e');\n",
       "          const dataTable =\n",
       "            await google.colab.kernel.invokeFunction('convertToInteractive',\n",
       "                                                     [key], {});\n",
       "          if (!dataTable) return;\n",
       "\n",
       "          const docLinkHtml = 'Like what you see? Visit the ' +\n",
       "            '<a target=\"_blank\" href=https://colab.research.google.com/notebooks/data_table.ipynb>data table notebook</a>'\n",
       "            + ' to learn more about interactive tables.';\n",
       "          element.innerHTML = '';\n",
       "          dataTable['output_type'] = 'display_data';\n",
       "          await google.colab.output.renderOutput(dataTable, element);\n",
       "          const docLink = document.createElement('div');\n",
       "          docLink.innerHTML = docLinkHtml;\n",
       "          element.appendChild(docLink);\n",
       "        }\n",
       "      </script>\n",
       "    </div>\n",
       "  </div>\n",
       "  "
      ],
      "text/plain": [
       "   Age  EstimatedSalary\n",
       "0   19            19000\n",
       "1   35            20000\n",
       "2   26            43000\n",
       "3   27            57000\n",
       "4   19            76000"
      ]
     },
     "execution_count": 6,
     "metadata": {},
     "output_type": "execute_result"
    }
   ],
   "source": [
    "x.head()"
   ]
  },
  {
   "cell_type": "code",
   "execution_count": 7,
   "metadata": {
    "colab": {
     "base_uri": "https://localhost:8080/"
    },
    "id": "GjdCDY2Hj7kY",
    "outputId": "4a38aa32-cde8-4882-ea1b-e90d21328213"
   },
   "outputs": [
    {
     "data": {
      "text/plain": [
       "0    0\n",
       "1    0\n",
       "2    0\n",
       "3    0\n",
       "4    0\n",
       "Name: Purchased, dtype: int64"
      ]
     },
     "execution_count": 7,
     "metadata": {},
     "output_type": "execute_result"
    }
   ],
   "source": [
    "y.head()"
   ]
  },
  {
   "cell_type": "code",
   "execution_count": 9,
   "metadata": {
    "id": "BgYySq75j9N7"
   },
   "outputs": [],
   "source": [
    "from sklearn.preprocessing import StandardScaler\n",
    "scaler = StandardScaler()\n",
    "x_scaled = scaler.fit_transform(x)"
   ]
  },
  {
   "cell_type": "code",
   "execution_count": 11,
   "metadata": {
    "colab": {
     "base_uri": "https://localhost:8080/"
    },
    "id": "CSKbInJekLXo",
    "outputId": "fc892ea1-10ff-4009-ef10-7268f2ceebcb"
   },
   "outputs": [
    {
     "data": {
      "text/plain": [
       "(400, 2)"
      ]
     },
     "execution_count": 11,
     "metadata": {},
     "output_type": "execute_result"
    }
   ],
   "source": [
    "x_scaled.shape"
   ]
  },
  {
   "cell_type": "code",
   "execution_count": 12,
   "metadata": {
    "id": "U4b3uqBGkSHb"
   },
   "outputs": [],
   "source": [
    "from sklearn.model_selection import train_test_split\n",
    "x_train, x_test, y_train, y_test = train_test_split(x_scaled, y, test_size=0.2, random_state=1)"
   ]
  },
  {
   "cell_type": "code",
   "execution_count": 13,
   "metadata": {
    "colab": {
     "base_uri": "https://localhost:8080/"
    },
    "id": "fSX8ma3akjRG",
    "outputId": "3d1a91eb-96e4-47ee-d850-a1aa5e55452f"
   },
   "outputs": [
    {
     "data": {
      "text/plain": [
       "(320, 2)"
      ]
     },
     "execution_count": 13,
     "metadata": {},
     "output_type": "execute_result"
    }
   ],
   "source": [
    "x_train.shape"
   ]
  },
  {
   "cell_type": "code",
   "execution_count": 14,
   "metadata": {
    "id": "EjWsYTy0kk7Z"
   },
   "outputs": [],
   "source": [
    "import tensorflow as tf\n",
    "from tensorflow import keras\n",
    "from keras import Sequential\n",
    "from keras.layers import Dense"
   ]
  },
  {
   "cell_type": "code",
   "execution_count": 17,
   "metadata": {
    "colab": {
     "base_uri": "https://localhost:8080/"
    },
    "id": "qyCMlAXmkzHD",
    "outputId": "f8ae6a51-f3bc-44fd-b187-7b837edfb743"
   },
   "outputs": [
    {
     "name": "stdout",
     "output_type": "stream",
     "text": [
      "Model: \"sequential_1\"\n",
      "_________________________________________________________________\n",
      " Layer (type)                Output Shape              Param #   \n",
      "=================================================================\n",
      " dense_3 (Dense)             (None, 10)                30        \n",
      "                                                                 \n",
      " dense_4 (Dense)             (None, 10)                110       \n",
      "                                                                 \n",
      " dense_5 (Dense)             (None, 1)                 11        \n",
      "                                                                 \n",
      "=================================================================\n",
      "Total params: 151\n",
      "Trainable params: 151\n",
      "Non-trainable params: 0\n",
      "_________________________________________________________________\n"
     ]
    }
   ],
   "source": [
    "model = Sequential()\n",
    "model.add(Dense(10, activation='relu', input_dim=2))\n",
    "model.add(Dense(10, activation='relu'))\n",
    "model.add(Dense(1, activation='sigmoid'))\n",
    "model.summary()"
   ]
  },
  {
   "cell_type": "markdown",
   "metadata": {
    "id": "nwS0ihE0lX0q"
   },
   "source": [
    "# Batch Gradient Descent"
   ]
  },
  {
   "cell_type": "code",
   "execution_count": 18,
   "metadata": {
    "colab": {
     "base_uri": "https://localhost:8080/"
    },
    "id": "6er_aFTSlFvp",
    "outputId": "55701457-0824-495f-d250-9fe0b519f081"
   },
   "outputs": [
    {
     "name": "stdout",
     "output_type": "stream",
     "text": [
      "Epoch 1/10\n",
      "1/1 [==============================] - 1s 907ms/step - loss: 0.6515 - accuracy: 0.6500 - val_loss: 0.6574 - val_accuracy: 0.6875\n",
      "Epoch 2/10\n",
      "1/1 [==============================] - 0s 34ms/step - loss: 0.6452 - accuracy: 0.6906 - val_loss: 0.6533 - val_accuracy: 0.7125\n",
      "Epoch 3/10\n",
      "1/1 [==============================] - 0s 34ms/step - loss: 0.6408 - accuracy: 0.7031 - val_loss: 0.6499 - val_accuracy: 0.7125\n",
      "Epoch 4/10\n",
      "1/1 [==============================] - 0s 34ms/step - loss: 0.6371 - accuracy: 0.7094 - val_loss: 0.6470 - val_accuracy: 0.7000\n",
      "Epoch 5/10\n",
      "1/1 [==============================] - 0s 33ms/step - loss: 0.6338 - accuracy: 0.7188 - val_loss: 0.6443 - val_accuracy: 0.7125\n",
      "Epoch 6/10\n",
      "1/1 [==============================] - 0s 51ms/step - loss: 0.6309 - accuracy: 0.7312 - val_loss: 0.6418 - val_accuracy: 0.7250\n",
      "Epoch 7/10\n",
      "1/1 [==============================] - 0s 32ms/step - loss: 0.6281 - accuracy: 0.7500 - val_loss: 0.6395 - val_accuracy: 0.7250\n",
      "Epoch 8/10\n",
      "1/1 [==============================] - 0s 31ms/step - loss: 0.6256 - accuracy: 0.7531 - val_loss: 0.6373 - val_accuracy: 0.7375\n",
      "Epoch 9/10\n",
      "1/1 [==============================] - 0s 33ms/step - loss: 0.6232 - accuracy: 0.7656 - val_loss: 0.6352 - val_accuracy: 0.7375\n",
      "Epoch 10/10\n",
      "1/1 [==============================] - 0s 31ms/step - loss: 0.6209 - accuracy: 0.7750 - val_loss: 0.6331 - val_accuracy: 0.7625\n",
      "1.7054085731506348\n"
     ]
    }
   ],
   "source": [
    "model.compile(loss='binary_crossentropy', metrics=['accuracy'])\n",
    "start = time.time()\n",
    "history = model.fit(x_train, y_train, validation_data=(x_test, y_test), epochs=10, batch_size=320)\n",
    "print(time.time() - start)"
   ]
  },
  {
   "cell_type": "code",
   "execution_count": 23,
   "metadata": {
    "colab": {
     "base_uri": "https://localhost:8080/"
    },
    "id": "fdSrv8EAocm0",
    "outputId": "9c0230ee-f384-4632-da9a-5e7f320b54a6"
   },
   "outputs": [
    {
     "name": "stdout",
     "output_type": "stream",
     "text": [
      "Epoch 1/100\n",
      "1/1 [==============================] - 1s 918ms/step - loss: 0.6186 - accuracy: 0.7750 - val_loss: 0.6279 - val_accuracy: 0.7875\n",
      "Epoch 2/100\n",
      "1/1 [==============================] - 0s 38ms/step - loss: 0.6129 - accuracy: 0.7969 - val_loss: 0.6242 - val_accuracy: 0.7875\n",
      "Epoch 3/100\n",
      "1/1 [==============================] - 0s 36ms/step - loss: 0.6089 - accuracy: 0.7906 - val_loss: 0.6214 - val_accuracy: 0.7875\n",
      "Epoch 4/100\n",
      "1/1 [==============================] - 0s 34ms/step - loss: 0.6057 - accuracy: 0.7969 - val_loss: 0.6188 - val_accuracy: 0.7875\n",
      "Epoch 5/100\n",
      "1/1 [==============================] - 0s 33ms/step - loss: 0.6028 - accuracy: 0.7937 - val_loss: 0.6165 - val_accuracy: 0.7875\n",
      "Epoch 6/100\n",
      "1/1 [==============================] - 0s 41ms/step - loss: 0.6002 - accuracy: 0.7937 - val_loss: 0.6143 - val_accuracy: 0.7625\n",
      "Epoch 7/100\n",
      "1/1 [==============================] - 0s 39ms/step - loss: 0.5978 - accuracy: 0.7937 - val_loss: 0.6123 - val_accuracy: 0.7750\n",
      "Epoch 8/100\n",
      "1/1 [==============================] - 0s 34ms/step - loss: 0.5955 - accuracy: 0.7937 - val_loss: 0.6104 - val_accuracy: 0.7750\n",
      "Epoch 9/100\n",
      "1/1 [==============================] - 0s 32ms/step - loss: 0.5934 - accuracy: 0.7937 - val_loss: 0.6086 - val_accuracy: 0.8000\n",
      "Epoch 10/100\n",
      "1/1 [==============================] - 0s 50ms/step - loss: 0.5913 - accuracy: 0.7937 - val_loss: 0.6068 - val_accuracy: 0.8000\n",
      "Epoch 11/100\n",
      "1/1 [==============================] - 0s 32ms/step - loss: 0.5893 - accuracy: 0.7906 - val_loss: 0.6051 - val_accuracy: 0.8000\n",
      "Epoch 12/100\n",
      "1/1 [==============================] - 0s 36ms/step - loss: 0.5874 - accuracy: 0.7906 - val_loss: 0.6034 - val_accuracy: 0.8000\n",
      "Epoch 13/100\n",
      "1/1 [==============================] - 0s 32ms/step - loss: 0.5855 - accuracy: 0.7906 - val_loss: 0.6017 - val_accuracy: 0.8000\n",
      "Epoch 14/100\n",
      "1/1 [==============================] - 0s 32ms/step - loss: 0.5837 - accuracy: 0.7906 - val_loss: 0.6001 - val_accuracy: 0.8000\n",
      "Epoch 15/100\n",
      "1/1 [==============================] - 0s 32ms/step - loss: 0.5819 - accuracy: 0.7906 - val_loss: 0.5985 - val_accuracy: 0.8000\n",
      "Epoch 16/100\n",
      "1/1 [==============================] - 0s 32ms/step - loss: 0.5801 - accuracy: 0.7906 - val_loss: 0.5970 - val_accuracy: 0.8000\n",
      "Epoch 17/100\n",
      "1/1 [==============================] - 0s 33ms/step - loss: 0.5784 - accuracy: 0.7937 - val_loss: 0.5954 - val_accuracy: 0.8000\n",
      "Epoch 18/100\n",
      "1/1 [==============================] - 0s 32ms/step - loss: 0.5767 - accuracy: 0.7937 - val_loss: 0.5939 - val_accuracy: 0.8000\n",
      "Epoch 19/100\n",
      "1/1 [==============================] - 0s 33ms/step - loss: 0.5750 - accuracy: 0.7937 - val_loss: 0.5924 - val_accuracy: 0.8000\n",
      "Epoch 20/100\n",
      "1/1 [==============================] - 0s 35ms/step - loss: 0.5733 - accuracy: 0.8000 - val_loss: 0.5909 - val_accuracy: 0.8000\n",
      "Epoch 21/100\n",
      "1/1 [==============================] - 0s 35ms/step - loss: 0.5716 - accuracy: 0.8000 - val_loss: 0.5895 - val_accuracy: 0.8000\n",
      "Epoch 22/100\n",
      "1/1 [==============================] - 0s 33ms/step - loss: 0.5700 - accuracy: 0.8000 - val_loss: 0.5881 - val_accuracy: 0.8000\n",
      "Epoch 23/100\n",
      "1/1 [==============================] - 0s 38ms/step - loss: 0.5683 - accuracy: 0.8000 - val_loss: 0.5867 - val_accuracy: 0.8000\n",
      "Epoch 24/100\n",
      "1/1 [==============================] - 0s 32ms/step - loss: 0.5667 - accuracy: 0.8000 - val_loss: 0.5853 - val_accuracy: 0.8000\n",
      "Epoch 25/100\n",
      "1/1 [==============================] - 0s 31ms/step - loss: 0.5651 - accuracy: 0.8125 - val_loss: 0.5839 - val_accuracy: 0.8000\n",
      "Epoch 26/100\n",
      "1/1 [==============================] - 0s 33ms/step - loss: 0.5635 - accuracy: 0.8125 - val_loss: 0.5826 - val_accuracy: 0.8000\n",
      "Epoch 27/100\n",
      "1/1 [==============================] - 0s 35ms/step - loss: 0.5619 - accuracy: 0.8125 - val_loss: 0.5812 - val_accuracy: 0.8250\n",
      "Epoch 28/100\n",
      "1/1 [==============================] - 0s 37ms/step - loss: 0.5603 - accuracy: 0.8156 - val_loss: 0.5799 - val_accuracy: 0.8250\n",
      "Epoch 29/100\n",
      "1/1 [==============================] - 0s 37ms/step - loss: 0.5587 - accuracy: 0.8156 - val_loss: 0.5785 - val_accuracy: 0.8125\n",
      "Epoch 30/100\n",
      "1/1 [==============================] - 0s 37ms/step - loss: 0.5571 - accuracy: 0.8156 - val_loss: 0.5771 - val_accuracy: 0.8125\n",
      "Epoch 31/100\n",
      "1/1 [==============================] - 0s 38ms/step - loss: 0.5555 - accuracy: 0.8156 - val_loss: 0.5758 - val_accuracy: 0.8125\n",
      "Epoch 32/100\n",
      "1/1 [==============================] - 0s 33ms/step - loss: 0.5539 - accuracy: 0.8156 - val_loss: 0.5745 - val_accuracy: 0.8125\n",
      "Epoch 33/100\n",
      "1/1 [==============================] - 0s 41ms/step - loss: 0.5524 - accuracy: 0.8156 - val_loss: 0.5731 - val_accuracy: 0.8125\n",
      "Epoch 34/100\n",
      "1/1 [==============================] - 0s 40ms/step - loss: 0.5508 - accuracy: 0.8156 - val_loss: 0.5718 - val_accuracy: 0.8125\n",
      "Epoch 35/100\n",
      "1/1 [==============================] - 0s 50ms/step - loss: 0.5493 - accuracy: 0.8156 - val_loss: 0.5704 - val_accuracy: 0.8125\n",
      "Epoch 36/100\n",
      "1/1 [==============================] - 0s 32ms/step - loss: 0.5477 - accuracy: 0.8156 - val_loss: 0.5691 - val_accuracy: 0.8125\n",
      "Epoch 37/100\n",
      "1/1 [==============================] - 0s 32ms/step - loss: 0.5462 - accuracy: 0.8156 - val_loss: 0.5678 - val_accuracy: 0.8125\n",
      "Epoch 38/100\n",
      "1/1 [==============================] - 0s 35ms/step - loss: 0.5446 - accuracy: 0.8156 - val_loss: 0.5664 - val_accuracy: 0.8125\n",
      "Epoch 39/100\n",
      "1/1 [==============================] - 0s 32ms/step - loss: 0.5431 - accuracy: 0.8188 - val_loss: 0.5651 - val_accuracy: 0.8125\n",
      "Epoch 40/100\n",
      "1/1 [==============================] - 0s 34ms/step - loss: 0.5415 - accuracy: 0.8188 - val_loss: 0.5638 - val_accuracy: 0.8125\n",
      "Epoch 41/100\n",
      "1/1 [==============================] - 0s 33ms/step - loss: 0.5400 - accuracy: 0.8188 - val_loss: 0.5625 - val_accuracy: 0.8125\n",
      "Epoch 42/100\n",
      "1/1 [==============================] - 0s 35ms/step - loss: 0.5384 - accuracy: 0.8188 - val_loss: 0.5611 - val_accuracy: 0.8125\n",
      "Epoch 43/100\n",
      "1/1 [==============================] - 0s 33ms/step - loss: 0.5369 - accuracy: 0.8188 - val_loss: 0.5598 - val_accuracy: 0.8125\n",
      "Epoch 44/100\n",
      "1/1 [==============================] - 0s 38ms/step - loss: 0.5353 - accuracy: 0.8188 - val_loss: 0.5585 - val_accuracy: 0.8125\n",
      "Epoch 45/100\n",
      "1/1 [==============================] - 0s 32ms/step - loss: 0.5338 - accuracy: 0.8188 - val_loss: 0.5572 - val_accuracy: 0.8125\n",
      "Epoch 46/100\n",
      "1/1 [==============================] - 0s 33ms/step - loss: 0.5323 - accuracy: 0.8188 - val_loss: 0.5559 - val_accuracy: 0.8125\n",
      "Epoch 47/100\n",
      "1/1 [==============================] - 0s 32ms/step - loss: 0.5307 - accuracy: 0.8188 - val_loss: 0.5546 - val_accuracy: 0.8125\n",
      "Epoch 48/100\n",
      "1/1 [==============================] - 0s 32ms/step - loss: 0.5292 - accuracy: 0.8219 - val_loss: 0.5533 - val_accuracy: 0.8125\n",
      "Epoch 49/100\n",
      "1/1 [==============================] - 0s 32ms/step - loss: 0.5277 - accuracy: 0.8219 - val_loss: 0.5519 - val_accuracy: 0.8125\n",
      "Epoch 50/100\n",
      "1/1 [==============================] - 0s 33ms/step - loss: 0.5261 - accuracy: 0.8250 - val_loss: 0.5506 - val_accuracy: 0.8125\n",
      "Epoch 51/100\n",
      "1/1 [==============================] - 0s 34ms/step - loss: 0.5246 - accuracy: 0.8250 - val_loss: 0.5493 - val_accuracy: 0.8125\n",
      "Epoch 52/100\n",
      "1/1 [==============================] - 0s 33ms/step - loss: 0.5231 - accuracy: 0.8250 - val_loss: 0.5480 - val_accuracy: 0.8125\n",
      "Epoch 53/100\n",
      "1/1 [==============================] - 0s 33ms/step - loss: 0.5216 - accuracy: 0.8250 - val_loss: 0.5467 - val_accuracy: 0.8125\n",
      "Epoch 54/100\n",
      "1/1 [==============================] - 0s 32ms/step - loss: 0.5200 - accuracy: 0.8219 - val_loss: 0.5454 - val_accuracy: 0.8125\n",
      "Epoch 55/100\n",
      "1/1 [==============================] - 0s 32ms/step - loss: 0.5185 - accuracy: 0.8219 - val_loss: 0.5442 - val_accuracy: 0.8125\n",
      "Epoch 56/100\n",
      "1/1 [==============================] - 0s 32ms/step - loss: 0.5170 - accuracy: 0.8250 - val_loss: 0.5429 - val_accuracy: 0.8125\n",
      "Epoch 57/100\n",
      "1/1 [==============================] - 0s 32ms/step - loss: 0.5155 - accuracy: 0.8250 - val_loss: 0.5416 - val_accuracy: 0.8125\n",
      "Epoch 58/100\n",
      "1/1 [==============================] - 0s 52ms/step - loss: 0.5140 - accuracy: 0.8250 - val_loss: 0.5403 - val_accuracy: 0.8125\n",
      "Epoch 59/100\n",
      "1/1 [==============================] - 0s 32ms/step - loss: 0.5125 - accuracy: 0.8250 - val_loss: 0.5391 - val_accuracy: 0.8125\n",
      "Epoch 60/100\n",
      "1/1 [==============================] - 0s 33ms/step - loss: 0.5109 - accuracy: 0.8250 - val_loss: 0.5378 - val_accuracy: 0.8125\n",
      "Epoch 61/100\n",
      "1/1 [==============================] - 0s 33ms/step - loss: 0.5094 - accuracy: 0.8250 - val_loss: 0.5365 - val_accuracy: 0.8125\n",
      "Epoch 62/100\n",
      "1/1 [==============================] - 0s 32ms/step - loss: 0.5079 - accuracy: 0.8250 - val_loss: 0.5353 - val_accuracy: 0.8125\n",
      "Epoch 63/100\n",
      "1/1 [==============================] - 0s 33ms/step - loss: 0.5064 - accuracy: 0.8250 - val_loss: 0.5340 - val_accuracy: 0.8125\n",
      "Epoch 64/100\n",
      "1/1 [==============================] - 0s 33ms/step - loss: 0.5049 - accuracy: 0.8250 - val_loss: 0.5328 - val_accuracy: 0.8125\n",
      "Epoch 65/100\n",
      "1/1 [==============================] - 0s 33ms/step - loss: 0.5034 - accuracy: 0.8250 - val_loss: 0.5316 - val_accuracy: 0.8125\n",
      "Epoch 66/100\n",
      "1/1 [==============================] - 0s 33ms/step - loss: 0.5020 - accuracy: 0.8250 - val_loss: 0.5303 - val_accuracy: 0.8125\n",
      "Epoch 67/100\n",
      "1/1 [==============================] - 0s 34ms/step - loss: 0.5005 - accuracy: 0.8250 - val_loss: 0.5291 - val_accuracy: 0.8125\n",
      "Epoch 68/100\n",
      "1/1 [==============================] - 0s 34ms/step - loss: 0.4990 - accuracy: 0.8250 - val_loss: 0.5279 - val_accuracy: 0.8125\n",
      "Epoch 69/100\n",
      "1/1 [==============================] - 0s 35ms/step - loss: 0.4975 - accuracy: 0.8250 - val_loss: 0.5266 - val_accuracy: 0.8125\n",
      "Epoch 70/100\n",
      "1/1 [==============================] - 0s 34ms/step - loss: 0.4960 - accuracy: 0.8250 - val_loss: 0.5254 - val_accuracy: 0.8125\n",
      "Epoch 71/100\n",
      "1/1 [==============================] - 0s 35ms/step - loss: 0.4945 - accuracy: 0.8250 - val_loss: 0.5242 - val_accuracy: 0.8125\n",
      "Epoch 72/100\n",
      "1/1 [==============================] - 0s 34ms/step - loss: 0.4931 - accuracy: 0.8250 - val_loss: 0.5230 - val_accuracy: 0.8125\n",
      "Epoch 73/100\n",
      "1/1 [==============================] - 0s 34ms/step - loss: 0.4916 - accuracy: 0.8250 - val_loss: 0.5218 - val_accuracy: 0.8125\n",
      "Epoch 74/100\n",
      "1/1 [==============================] - 0s 33ms/step - loss: 0.4901 - accuracy: 0.8250 - val_loss: 0.5206 - val_accuracy: 0.8125\n",
      "Epoch 75/100\n",
      "1/1 [==============================] - 0s 34ms/step - loss: 0.4887 - accuracy: 0.8219 - val_loss: 0.5194 - val_accuracy: 0.8000\n",
      "Epoch 76/100\n",
      "1/1 [==============================] - 0s 36ms/step - loss: 0.4872 - accuracy: 0.8219 - val_loss: 0.5183 - val_accuracy: 0.8000\n",
      "Epoch 77/100\n",
      "1/1 [==============================] - 0s 34ms/step - loss: 0.4858 - accuracy: 0.8219 - val_loss: 0.5171 - val_accuracy: 0.8000\n",
      "Epoch 78/100\n",
      "1/1 [==============================] - 0s 34ms/step - loss: 0.4843 - accuracy: 0.8219 - val_loss: 0.5159 - val_accuracy: 0.8000\n",
      "Epoch 79/100\n",
      "1/1 [==============================] - 0s 34ms/step - loss: 0.4829 - accuracy: 0.8250 - val_loss: 0.5148 - val_accuracy: 0.8000\n",
      "Epoch 80/100\n",
      "1/1 [==============================] - 0s 33ms/step - loss: 0.4815 - accuracy: 0.8219 - val_loss: 0.5136 - val_accuracy: 0.8000\n",
      "Epoch 81/100\n",
      "1/1 [==============================] - 0s 35ms/step - loss: 0.4801 - accuracy: 0.8250 - val_loss: 0.5125 - val_accuracy: 0.8000\n",
      "Epoch 82/100\n",
      "1/1 [==============================] - 0s 45ms/step - loss: 0.4787 - accuracy: 0.8250 - val_loss: 0.5114 - val_accuracy: 0.8000\n",
      "Epoch 83/100\n",
      "1/1 [==============================] - 0s 34ms/step - loss: 0.4773 - accuracy: 0.8250 - val_loss: 0.5103 - val_accuracy: 0.8000\n",
      "Epoch 84/100\n",
      "1/1 [==============================] - 0s 38ms/step - loss: 0.4759 - accuracy: 0.8250 - val_loss: 0.5091 - val_accuracy: 0.8000\n",
      "Epoch 85/100\n",
      "1/1 [==============================] - 0s 34ms/step - loss: 0.4745 - accuracy: 0.8250 - val_loss: 0.5080 - val_accuracy: 0.8000\n",
      "Epoch 86/100\n",
      "1/1 [==============================] - 0s 34ms/step - loss: 0.4732 - accuracy: 0.8250 - val_loss: 0.5069 - val_accuracy: 0.8000\n",
      "Epoch 87/100\n",
      "1/1 [==============================] - 0s 36ms/step - loss: 0.4718 - accuracy: 0.8250 - val_loss: 0.5058 - val_accuracy: 0.8000\n",
      "Epoch 88/100\n",
      "1/1 [==============================] - 0s 34ms/step - loss: 0.4704 - accuracy: 0.8250 - val_loss: 0.5046 - val_accuracy: 0.8000\n",
      "Epoch 89/100\n",
      "1/1 [==============================] - 0s 34ms/step - loss: 0.4691 - accuracy: 0.8250 - val_loss: 0.5035 - val_accuracy: 0.8000\n",
      "Epoch 90/100\n",
      "1/1 [==============================] - 0s 33ms/step - loss: 0.4677 - accuracy: 0.8250 - val_loss: 0.5024 - val_accuracy: 0.8000\n",
      "Epoch 91/100\n",
      "1/1 [==============================] - 0s 33ms/step - loss: 0.4664 - accuracy: 0.8250 - val_loss: 0.5012 - val_accuracy: 0.8000\n",
      "Epoch 92/100\n",
      "1/1 [==============================] - 0s 35ms/step - loss: 0.4650 - accuracy: 0.8250 - val_loss: 0.5001 - val_accuracy: 0.8000\n",
      "Epoch 93/100\n",
      "1/1 [==============================] - 0s 33ms/step - loss: 0.4637 - accuracy: 0.8250 - val_loss: 0.4990 - val_accuracy: 0.8000\n",
      "Epoch 94/100\n",
      "1/1 [==============================] - 0s 33ms/step - loss: 0.4623 - accuracy: 0.8250 - val_loss: 0.4978 - val_accuracy: 0.8000\n",
      "Epoch 95/100\n",
      "1/1 [==============================] - 0s 34ms/step - loss: 0.4610 - accuracy: 0.8250 - val_loss: 0.4967 - val_accuracy: 0.8000\n",
      "Epoch 96/100\n",
      "1/1 [==============================] - 0s 34ms/step - loss: 0.4597 - accuracy: 0.8250 - val_loss: 0.4956 - val_accuracy: 0.8000\n",
      "Epoch 97/100\n",
      "1/1 [==============================] - 0s 34ms/step - loss: 0.4583 - accuracy: 0.8250 - val_loss: 0.4945 - val_accuracy: 0.8000\n",
      "Epoch 98/100\n",
      "1/1 [==============================] - 0s 39ms/step - loss: 0.4570 - accuracy: 0.8250 - val_loss: 0.4934 - val_accuracy: 0.8000\n",
      "Epoch 99/100\n",
      "1/1 [==============================] - 0s 33ms/step - loss: 0.4557 - accuracy: 0.8250 - val_loss: 0.4923 - val_accuracy: 0.8000\n",
      "Epoch 100/100\n",
      "1/1 [==============================] - 0s 33ms/step - loss: 0.4544 - accuracy: 0.8250 - val_loss: 0.4912 - val_accuracy: 0.8000\n",
      "4.946263313293457\n"
     ]
    }
   ],
   "source": [
    "model.compile(loss='binary_crossentropy', metrics=['accuracy'])\n",
    "start = time.time()\n",
    "history = model.fit(x_train, y_train, validation_data=(x_test, y_test), epochs=100, batch_size=320)\n",
    "print(time.time() - start)"
   ]
  },
  {
   "cell_type": "code",
   "execution_count": null,
   "metadata": {
    "id": "Obcfb_5ukNfr"
   },
   "outputs": [],
   "source": [
    "# time - 1.7054085731506348\n",
    "# accuracy: 0.7750"
   ]
  },
  {
   "cell_type": "markdown",
   "metadata": {
    "id": "do0tvPn4muEu"
   },
   "source": [
    "# SGD"
   ]
  },
  {
   "cell_type": "code",
   "execution_count": 19,
   "metadata": {
    "colab": {
     "base_uri": "https://localhost:8080/"
    },
    "id": "aa9DhiiZkFv-",
    "outputId": "6a3f35ba-dc0b-4046-82ec-95613e1fcce2"
   },
   "outputs": [
    {
     "name": "stdout",
     "output_type": "stream",
     "text": [
      "Model: \"sequential_2\"\n",
      "_________________________________________________________________\n",
      " Layer (type)                Output Shape              Param #   \n",
      "=================================================================\n",
      " dense_6 (Dense)             (None, 10)                30        \n",
      "                                                                 \n",
      " dense_7 (Dense)             (None, 10)                110       \n",
      "                                                                 \n",
      " dense_8 (Dense)             (None, 1)                 11        \n",
      "                                                                 \n",
      "=================================================================\n",
      "Total params: 151\n",
      "Trainable params: 151\n",
      "Non-trainable params: 0\n",
      "_________________________________________________________________\n"
     ]
    }
   ],
   "source": [
    "model1 = Sequential()\n",
    "model1.add(Dense(10, activation='relu', input_dim=2))\n",
    "model1.add(Dense(10, activation='relu'))\n",
    "model1.add(Dense(1, activation='sigmoid'))\n",
    "model1.summary()"
   ]
  },
  {
   "cell_type": "code",
   "execution_count": 20,
   "metadata": {
    "colab": {
     "base_uri": "https://localhost:8080/"
    },
    "id": "J4W04rZrjYH7",
    "outputId": "41fccab0-1171-475b-d61d-ffd1c9b24377"
   },
   "outputs": [
    {
     "name": "stdout",
     "output_type": "stream",
     "text": [
      "Epoch 1/10\n",
      "320/320 [==============================] - 2s 3ms/step - loss: 0.6153 - accuracy: 0.6469 - val_loss: 0.5658 - val_accuracy: 0.6000\n",
      "Epoch 2/10\n",
      "320/320 [==============================] - 1s 3ms/step - loss: 0.4823 - accuracy: 0.6531 - val_loss: 0.4671 - val_accuracy: 0.6625\n",
      "Epoch 3/10\n",
      "320/320 [==============================] - 1s 4ms/step - loss: 0.4096 - accuracy: 0.7719 - val_loss: 0.4027 - val_accuracy: 0.8250\n",
      "Epoch 4/10\n",
      "320/320 [==============================] - 1s 4ms/step - loss: 0.3672 - accuracy: 0.8250 - val_loss: 0.3601 - val_accuracy: 0.8375\n",
      "Epoch 5/10\n",
      "320/320 [==============================] - 1s 3ms/step - loss: 0.3393 - accuracy: 0.8438 - val_loss: 0.3313 - val_accuracy: 0.8375\n",
      "Epoch 6/10\n",
      "320/320 [==============================] - 1s 3ms/step - loss: 0.3189 - accuracy: 0.8625 - val_loss: 0.3156 - val_accuracy: 0.8375\n",
      "Epoch 7/10\n",
      "320/320 [==============================] - 1s 3ms/step - loss: 0.3076 - accuracy: 0.8594 - val_loss: 0.3070 - val_accuracy: 0.8500\n",
      "Epoch 8/10\n",
      "320/320 [==============================] - 1s 3ms/step - loss: 0.2964 - accuracy: 0.8562 - val_loss: 0.3035 - val_accuracy: 0.8625\n",
      "Epoch 9/10\n",
      "320/320 [==============================] - 1s 3ms/step - loss: 0.2888 - accuracy: 0.8625 - val_loss: 0.3049 - val_accuracy: 0.8625\n",
      "Epoch 10/10\n",
      "320/320 [==============================] - 1s 3ms/step - loss: 0.2830 - accuracy: 0.8781 - val_loss: 0.3067 - val_accuracy: 0.8750\n",
      "20.918317079544067\n"
     ]
    }
   ],
   "source": [
    "model1.compile(loss='binary_crossentropy', metrics=['accuracy'])\n",
    "start = time.time()\n",
    "history1 = model1.fit(x_train, y_train, validation_data=(x_test, y_test), epochs=10, batch_size=1)\n",
    "print(time.time() - start)"
   ]
  },
  {
   "cell_type": "code",
   "execution_count": 22,
   "metadata": {
    "colab": {
     "base_uri": "https://localhost:8080/"
    },
    "id": "0IPp-Drfn_A4",
    "outputId": "190c8551-6a5d-40f8-871d-a55e83829385"
   },
   "outputs": [
    {
     "name": "stdout",
     "output_type": "stream",
     "text": [
      "Epoch 1/100\n",
      "320/320 [==============================] - 4s 4ms/step - loss: 0.2770 - accuracy: 0.8781 - val_loss: 0.3099 - val_accuracy: 0.8625\n",
      "Epoch 2/100\n",
      "320/320 [==============================] - 1s 3ms/step - loss: 0.2744 - accuracy: 0.8875 - val_loss: 0.3134 - val_accuracy: 0.8750\n",
      "Epoch 3/100\n",
      "320/320 [==============================] - 1s 3ms/step - loss: 0.2696 - accuracy: 0.8969 - val_loss: 0.3177 - val_accuracy: 0.8625\n",
      "Epoch 4/100\n",
      "320/320 [==============================] - 1s 3ms/step - loss: 0.2676 - accuracy: 0.8969 - val_loss: 0.3227 - val_accuracy: 0.8750\n",
      "Epoch 5/100\n",
      "320/320 [==============================] - 1s 3ms/step - loss: 0.2596 - accuracy: 0.9000 - val_loss: 0.3271 - val_accuracy: 0.8750\n",
      "Epoch 6/100\n",
      "320/320 [==============================] - 1s 3ms/step - loss: 0.2541 - accuracy: 0.9000 - val_loss: 0.3286 - val_accuracy: 0.8750\n",
      "Epoch 7/100\n",
      "320/320 [==============================] - 1s 3ms/step - loss: 0.2501 - accuracy: 0.9062 - val_loss: 0.3478 - val_accuracy: 0.8750\n",
      "Epoch 8/100\n",
      "320/320 [==============================] - 1s 3ms/step - loss: 0.2469 - accuracy: 0.9031 - val_loss: 0.3412 - val_accuracy: 0.8750\n",
      "Epoch 9/100\n",
      "320/320 [==============================] - 1s 4ms/step - loss: 0.2499 - accuracy: 0.9125 - val_loss: 0.3447 - val_accuracy: 0.8625\n",
      "Epoch 10/100\n",
      "320/320 [==============================] - 1s 3ms/step - loss: 0.2454 - accuracy: 0.9156 - val_loss: 0.3511 - val_accuracy: 0.8625\n",
      "Epoch 11/100\n",
      "320/320 [==============================] - 1s 3ms/step - loss: 0.2432 - accuracy: 0.9156 - val_loss: 0.3538 - val_accuracy: 0.8625\n",
      "Epoch 12/100\n",
      "320/320 [==============================] - 1s 3ms/step - loss: 0.2383 - accuracy: 0.9156 - val_loss: 0.3637 - val_accuracy: 0.8625\n",
      "Epoch 13/100\n",
      "320/320 [==============================] - 1s 3ms/step - loss: 0.2425 - accuracy: 0.9187 - val_loss: 0.3699 - val_accuracy: 0.8625\n",
      "Epoch 14/100\n",
      "320/320 [==============================] - 1s 3ms/step - loss: 0.2436 - accuracy: 0.9156 - val_loss: 0.3873 - val_accuracy: 0.8625\n",
      "Epoch 15/100\n",
      "320/320 [==============================] - 1s 3ms/step - loss: 0.2395 - accuracy: 0.9281 - val_loss: 0.3933 - val_accuracy: 0.8625\n",
      "Epoch 16/100\n",
      "320/320 [==============================] - 1s 3ms/step - loss: 0.2402 - accuracy: 0.9187 - val_loss: 0.4022 - val_accuracy: 0.8625\n",
      "Epoch 17/100\n",
      "320/320 [==============================] - 1s 3ms/step - loss: 0.2384 - accuracy: 0.9312 - val_loss: 0.4097 - val_accuracy: 0.8625\n",
      "Epoch 18/100\n",
      "320/320 [==============================] - 1s 3ms/step - loss: 0.2367 - accuracy: 0.9281 - val_loss: 0.4162 - val_accuracy: 0.8625\n",
      "Epoch 19/100\n",
      "320/320 [==============================] - 1s 3ms/step - loss: 0.2358 - accuracy: 0.9250 - val_loss: 0.4356 - val_accuracy: 0.8625\n",
      "Epoch 20/100\n",
      "320/320 [==============================] - 1s 3ms/step - loss: 0.2394 - accuracy: 0.9281 - val_loss: 0.4439 - val_accuracy: 0.8625\n",
      "Epoch 21/100\n",
      "320/320 [==============================] - 1s 4ms/step - loss: 0.2385 - accuracy: 0.9312 - val_loss: 0.4434 - val_accuracy: 0.8625\n",
      "Epoch 22/100\n",
      "320/320 [==============================] - 1s 3ms/step - loss: 0.2366 - accuracy: 0.9250 - val_loss: 0.4462 - val_accuracy: 0.8625\n",
      "Epoch 23/100\n",
      "320/320 [==============================] - 1s 3ms/step - loss: 0.2406 - accuracy: 0.9250 - val_loss: 0.4628 - val_accuracy: 0.8625\n",
      "Epoch 24/100\n",
      "320/320 [==============================] - 1s 3ms/step - loss: 0.2431 - accuracy: 0.9219 - val_loss: 0.4648 - val_accuracy: 0.8625\n",
      "Epoch 25/100\n",
      "320/320 [==============================] - 1s 3ms/step - loss: 0.2433 - accuracy: 0.9281 - val_loss: 0.4777 - val_accuracy: 0.8625\n",
      "Epoch 26/100\n",
      "320/320 [==============================] - 1s 3ms/step - loss: 0.2449 - accuracy: 0.9312 - val_loss: 0.4783 - val_accuracy: 0.8625\n",
      "Epoch 27/100\n",
      "320/320 [==============================] - 1s 3ms/step - loss: 0.2464 - accuracy: 0.9281 - val_loss: 0.4878 - val_accuracy: 0.8625\n",
      "Epoch 28/100\n",
      "320/320 [==============================] - 1s 3ms/step - loss: 0.2464 - accuracy: 0.9344 - val_loss: 0.5010 - val_accuracy: 0.8625\n",
      "Epoch 29/100\n",
      "320/320 [==============================] - 1s 3ms/step - loss: 0.2458 - accuracy: 0.9312 - val_loss: 0.5171 - val_accuracy: 0.8625\n",
      "Epoch 30/100\n",
      "320/320 [==============================] - 1s 3ms/step - loss: 0.2458 - accuracy: 0.9344 - val_loss: 0.5112 - val_accuracy: 0.8625\n",
      "Epoch 31/100\n",
      "320/320 [==============================] - 1s 3ms/step - loss: 0.2445 - accuracy: 0.9312 - val_loss: 0.5305 - val_accuracy: 0.8625\n",
      "Epoch 32/100\n",
      "320/320 [==============================] - 1s 3ms/step - loss: 0.2474 - accuracy: 0.9344 - val_loss: 0.5559 - val_accuracy: 0.8625\n",
      "Epoch 33/100\n",
      "320/320 [==============================] - 1s 5ms/step - loss: 0.2490 - accuracy: 0.9344 - val_loss: 0.5452 - val_accuracy: 0.8625\n",
      "Epoch 34/100\n",
      "320/320 [==============================] - 1s 3ms/step - loss: 0.2503 - accuracy: 0.9344 - val_loss: 0.5591 - val_accuracy: 0.8625\n",
      "Epoch 35/100\n",
      "320/320 [==============================] - 1s 3ms/step - loss: 0.2506 - accuracy: 0.9312 - val_loss: 0.5613 - val_accuracy: 0.8625\n",
      "Epoch 36/100\n",
      "320/320 [==============================] - 1s 3ms/step - loss: 0.2513 - accuracy: 0.9344 - val_loss: 0.5652 - val_accuracy: 0.8625\n",
      "Epoch 37/100\n",
      "320/320 [==============================] - 1s 3ms/step - loss: 0.2482 - accuracy: 0.9344 - val_loss: 0.5590 - val_accuracy: 0.8625\n",
      "Epoch 38/100\n",
      "320/320 [==============================] - 1s 4ms/step - loss: 0.2447 - accuracy: 0.9406 - val_loss: 0.5543 - val_accuracy: 0.8625\n",
      "Epoch 39/100\n",
      "320/320 [==============================] - 1s 4ms/step - loss: 0.2506 - accuracy: 0.9312 - val_loss: 0.5583 - val_accuracy: 0.8625\n",
      "Epoch 40/100\n",
      "320/320 [==============================] - 1s 3ms/step - loss: 0.2520 - accuracy: 0.9344 - val_loss: 0.5764 - val_accuracy: 0.8625\n",
      "Epoch 41/100\n",
      "320/320 [==============================] - 1s 3ms/step - loss: 0.2496 - accuracy: 0.9344 - val_loss: 0.5806 - val_accuracy: 0.8625\n",
      "Epoch 42/100\n",
      "320/320 [==============================] - 1s 3ms/step - loss: 0.2493 - accuracy: 0.9375 - val_loss: 0.5761 - val_accuracy: 0.8625\n",
      "Epoch 43/100\n",
      "320/320 [==============================] - 1s 3ms/step - loss: 0.2443 - accuracy: 0.9344 - val_loss: 0.5722 - val_accuracy: 0.8625\n",
      "Epoch 44/100\n",
      "320/320 [==============================] - 1s 4ms/step - loss: 0.2465 - accuracy: 0.9344 - val_loss: 0.5959 - val_accuracy: 0.8625\n",
      "Epoch 45/100\n",
      "320/320 [==============================] - 1s 5ms/step - loss: 0.2483 - accuracy: 0.9375 - val_loss: 0.5901 - val_accuracy: 0.8625\n",
      "Epoch 46/100\n",
      "320/320 [==============================] - 1s 3ms/step - loss: 0.2558 - accuracy: 0.9312 - val_loss: 0.5913 - val_accuracy: 0.8625\n",
      "Epoch 47/100\n",
      "320/320 [==============================] - 1s 3ms/step - loss: 0.2481 - accuracy: 0.9344 - val_loss: 0.5942 - val_accuracy: 0.8625\n",
      "Epoch 48/100\n",
      "320/320 [==============================] - 1s 3ms/step - loss: 0.2485 - accuracy: 0.9375 - val_loss: 0.5912 - val_accuracy: 0.8625\n",
      "Epoch 49/100\n",
      "320/320 [==============================] - 1s 3ms/step - loss: 0.2510 - accuracy: 0.9312 - val_loss: 0.5987 - val_accuracy: 0.8625\n",
      "Epoch 50/100\n",
      "320/320 [==============================] - 1s 3ms/step - loss: 0.2535 - accuracy: 0.9344 - val_loss: 0.5954 - val_accuracy: 0.8625\n",
      "Epoch 51/100\n",
      "320/320 [==============================] - 1s 3ms/step - loss: 0.2477 - accuracy: 0.9375 - val_loss: 0.5925 - val_accuracy: 0.8625\n",
      "Epoch 52/100\n",
      "320/320 [==============================] - 1s 3ms/step - loss: 0.2476 - accuracy: 0.9375 - val_loss: 0.6183 - val_accuracy: 0.8625\n",
      "Epoch 53/100\n",
      "320/320 [==============================] - 1s 3ms/step - loss: 0.2557 - accuracy: 0.9344 - val_loss: 0.6088 - val_accuracy: 0.8625\n",
      "Epoch 54/100\n",
      "320/320 [==============================] - 1s 3ms/step - loss: 0.2525 - accuracy: 0.9375 - val_loss: 0.6280 - val_accuracy: 0.8625\n",
      "Epoch 55/100\n",
      "320/320 [==============================] - 1s 3ms/step - loss: 0.2562 - accuracy: 0.9375 - val_loss: 0.6240 - val_accuracy: 0.8625\n",
      "Epoch 56/100\n",
      "320/320 [==============================] - 1s 4ms/step - loss: 0.2543 - accuracy: 0.9344 - val_loss: 0.6362 - val_accuracy: 0.8625\n",
      "Epoch 57/100\n",
      "320/320 [==============================] - 1s 4ms/step - loss: 0.2488 - accuracy: 0.9375 - val_loss: 0.6222 - val_accuracy: 0.8625\n",
      "Epoch 58/100\n",
      "320/320 [==============================] - 1s 3ms/step - loss: 0.2483 - accuracy: 0.9375 - val_loss: 0.6201 - val_accuracy: 0.8625\n",
      "Epoch 59/100\n",
      "320/320 [==============================] - 1s 3ms/step - loss: 0.2483 - accuracy: 0.9344 - val_loss: 0.6171 - val_accuracy: 0.8625\n",
      "Epoch 60/100\n",
      "320/320 [==============================] - 1s 3ms/step - loss: 0.2577 - accuracy: 0.9375 - val_loss: 0.6192 - val_accuracy: 0.8625\n",
      "Epoch 61/100\n",
      "320/320 [==============================] - 1s 3ms/step - loss: 0.2544 - accuracy: 0.9375 - val_loss: 0.6280 - val_accuracy: 0.8625\n",
      "Epoch 62/100\n",
      "320/320 [==============================] - 1s 3ms/step - loss: 0.2519 - accuracy: 0.9375 - val_loss: 0.6331 - val_accuracy: 0.8625\n",
      "Epoch 63/100\n",
      "320/320 [==============================] - 1s 3ms/step - loss: 0.2630 - accuracy: 0.9375 - val_loss: 0.6581 - val_accuracy: 0.8625\n",
      "Epoch 64/100\n",
      "320/320 [==============================] - 1s 3ms/step - loss: 0.2558 - accuracy: 0.9406 - val_loss: 0.6664 - val_accuracy: 0.8625\n",
      "Epoch 65/100\n",
      "320/320 [==============================] - 1s 3ms/step - loss: 0.2632 - accuracy: 0.9406 - val_loss: 0.6681 - val_accuracy: 0.8625\n",
      "Epoch 66/100\n",
      "320/320 [==============================] - 1s 3ms/step - loss: 0.2601 - accuracy: 0.9375 - val_loss: 0.6595 - val_accuracy: 0.8625\n",
      "Epoch 67/100\n",
      "320/320 [==============================] - 1s 3ms/step - loss: 0.2650 - accuracy: 0.9375 - val_loss: 0.6701 - val_accuracy: 0.8625\n",
      "Epoch 68/100\n",
      "320/320 [==============================] - 1s 4ms/step - loss: 0.2650 - accuracy: 0.9375 - val_loss: 0.6642 - val_accuracy: 0.8625\n",
      "Epoch 69/100\n",
      "320/320 [==============================] - 1s 4ms/step - loss: 0.2654 - accuracy: 0.9375 - val_loss: 0.6653 - val_accuracy: 0.8625\n",
      "Epoch 70/100\n",
      "320/320 [==============================] - 1s 3ms/step - loss: 0.2667 - accuracy: 0.9375 - val_loss: 0.6882 - val_accuracy: 0.8625\n",
      "Epoch 71/100\n",
      "320/320 [==============================] - 1s 3ms/step - loss: 0.2649 - accuracy: 0.9375 - val_loss: 0.6795 - val_accuracy: 0.8625\n",
      "Epoch 72/100\n",
      "320/320 [==============================] - 1s 3ms/step - loss: 0.2623 - accuracy: 0.9375 - val_loss: 0.6734 - val_accuracy: 0.8625\n",
      "Epoch 73/100\n",
      "320/320 [==============================] - 1s 3ms/step - loss: 0.2619 - accuracy: 0.9344 - val_loss: 0.6694 - val_accuracy: 0.8625\n",
      "Epoch 74/100\n",
      "320/320 [==============================] - 1s 3ms/step - loss: 0.2642 - accuracy: 0.9375 - val_loss: 0.6821 - val_accuracy: 0.8625\n",
      "Epoch 75/100\n",
      "320/320 [==============================] - 1s 3ms/step - loss: 0.2596 - accuracy: 0.9375 - val_loss: 0.6875 - val_accuracy: 0.8625\n",
      "Epoch 76/100\n",
      "320/320 [==============================] - 1s 3ms/step - loss: 0.2622 - accuracy: 0.9344 - val_loss: 0.6841 - val_accuracy: 0.8625\n",
      "Epoch 77/100\n",
      "320/320 [==============================] - 1s 3ms/step - loss: 0.2648 - accuracy: 0.9375 - val_loss: 0.6832 - val_accuracy: 0.8625\n",
      "Epoch 78/100\n",
      "320/320 [==============================] - 1s 3ms/step - loss: 0.2640 - accuracy: 0.9344 - val_loss: 0.6747 - val_accuracy: 0.8625\n",
      "Epoch 79/100\n",
      "320/320 [==============================] - 1s 3ms/step - loss: 0.2632 - accuracy: 0.9344 - val_loss: 0.6832 - val_accuracy: 0.8625\n",
      "Epoch 80/100\n",
      "320/320 [==============================] - 1s 4ms/step - loss: 0.2626 - accuracy: 0.9344 - val_loss: 0.6753 - val_accuracy: 0.8625\n",
      "Epoch 81/100\n",
      "320/320 [==============================] - 1s 4ms/step - loss: 0.2595 - accuracy: 0.9312 - val_loss: 0.6738 - val_accuracy: 0.8625\n",
      "Epoch 82/100\n",
      "320/320 [==============================] - 1s 3ms/step - loss: 0.2647 - accuracy: 0.9344 - val_loss: 0.6911 - val_accuracy: 0.8625\n",
      "Epoch 83/100\n",
      "320/320 [==============================] - 1s 3ms/step - loss: 0.2632 - accuracy: 0.9312 - val_loss: 0.6857 - val_accuracy: 0.8625\n",
      "Epoch 84/100\n",
      "320/320 [==============================] - 1s 3ms/step - loss: 0.2631 - accuracy: 0.9312 - val_loss: 0.6952 - val_accuracy: 0.8625\n",
      "Epoch 85/100\n",
      "320/320 [==============================] - 1s 3ms/step - loss: 0.2651 - accuracy: 0.9344 - val_loss: 0.7068 - val_accuracy: 0.8625\n",
      "Epoch 86/100\n",
      "320/320 [==============================] - 1s 3ms/step - loss: 0.2671 - accuracy: 0.9375 - val_loss: 0.6996 - val_accuracy: 0.8625\n",
      "Epoch 87/100\n",
      "320/320 [==============================] - 1s 3ms/step - loss: 0.2661 - accuracy: 0.9312 - val_loss: 0.7070 - val_accuracy: 0.8625\n",
      "Epoch 88/100\n",
      "320/320 [==============================] - 1s 3ms/step - loss: 0.2654 - accuracy: 0.9344 - val_loss: 0.7159 - val_accuracy: 0.8625\n",
      "Epoch 89/100\n",
      "320/320 [==============================] - 1s 3ms/step - loss: 0.2673 - accuracy: 0.9375 - val_loss: 0.7302 - val_accuracy: 0.8625\n",
      "Epoch 90/100\n",
      "320/320 [==============================] - 1s 3ms/step - loss: 0.2720 - accuracy: 0.9406 - val_loss: 0.7260 - val_accuracy: 0.8625\n",
      "Epoch 91/100\n",
      "320/320 [==============================] - 1s 3ms/step - loss: 0.2683 - accuracy: 0.9375 - val_loss: 0.7298 - val_accuracy: 0.8625\n",
      "Epoch 92/100\n",
      "320/320 [==============================] - 1s 4ms/step - loss: 0.2732 - accuracy: 0.9406 - val_loss: 0.7295 - val_accuracy: 0.8625\n",
      "Epoch 93/100\n",
      "320/320 [==============================] - 1s 4ms/step - loss: 0.2707 - accuracy: 0.9312 - val_loss: 0.7319 - val_accuracy: 0.8625\n",
      "Epoch 94/100\n",
      "320/320 [==============================] - 1s 3ms/step - loss: 0.2675 - accuracy: 0.9344 - val_loss: 0.7197 - val_accuracy: 0.8625\n",
      "Epoch 95/100\n",
      "320/320 [==============================] - 1s 3ms/step - loss: 0.2617 - accuracy: 0.9375 - val_loss: 0.7267 - val_accuracy: 0.8625\n",
      "Epoch 96/100\n",
      "320/320 [==============================] - 1s 3ms/step - loss: 0.2708 - accuracy: 0.9344 - val_loss: 0.7256 - val_accuracy: 0.8625\n",
      "Epoch 97/100\n",
      "320/320 [==============================] - 1s 3ms/step - loss: 0.2678 - accuracy: 0.9312 - val_loss: 0.7214 - val_accuracy: 0.8625\n",
      "Epoch 98/100\n",
      "320/320 [==============================] - 1s 3ms/step - loss: 0.2648 - accuracy: 0.9344 - val_loss: 0.7262 - val_accuracy: 0.8625\n",
      "Epoch 99/100\n",
      "320/320 [==============================] - 1s 3ms/step - loss: 0.2673 - accuracy: 0.9312 - val_loss: 0.7206 - val_accuracy: 0.8625\n",
      "Epoch 100/100\n",
      "320/320 [==============================] - 1s 3ms/step - loss: 0.2672 - accuracy: 0.9312 - val_loss: 0.7256 - val_accuracy: 0.8625\n",
      "104.30552959442139\n"
     ]
    }
   ],
   "source": [
    "model1.compile(loss='binary_crossentropy', metrics=['accuracy'])\n",
    "start = time.time()\n",
    "history1 = model1.fit(x_train, y_train, validation_data=(x_test, y_test), epochs=100, batch_size=1)\n",
    "print(time.time() - start)"
   ]
  },
  {
   "cell_type": "code",
   "execution_count": null,
   "metadata": {
    "id": "nBTzxilTjYKx"
   },
   "outputs": [],
   "source": [
    "# BGD\n",
    "# time - 1.7054085731506348\n",
    "# accuracy: 0.7750\n",
    "\n",
    "# SGD\n",
    "# time - 20.918317079544067\n",
    "# accuracy: 0.8781\n",
    "\n",
    "# BGD > SGD - TIME\n",
    "# SGD > BGD - Performanace"
   ]
  },
  {
   "cell_type": "code",
   "execution_count": 24,
   "metadata": {
    "colab": {
     "base_uri": "https://localhost:8080/",
     "height": 282
    },
    "id": "w_dG7AwEjYN8",
    "outputId": "b8fc14c9-42b4-44cf-a083-497f1288d088"
   },
   "outputs": [
    {
     "data": {
      "text/plain": [
       "[<matplotlib.lines.Line2D at 0x7fb7cd6f6e20>]"
      ]
     },
     "execution_count": 24,
     "metadata": {},
     "output_type": "execute_result"
    },
    {
     "data": {
      "image/png": "[encoded data removed]",
      "text/plain": [
       "<Figure size 432x288 with 1 Axes>"
      ]
     },
     "metadata": {
      "needs_background": "light"
     },
     "output_type": "display_data"
    }
   ],
   "source": [
    "plt.plot(history.history['loss'], color='red') # BGD\n",
    "plt.plot(history1.history['loss'], color='green') # SGD"
   ]
  },
  {
   "cell_type": "markdown",
   "metadata": {
    "id": "1CbjceLqo3tv"
   },
   "source": [
    "# Mini-batch GD"
   ]
  },
  {
   "cell_type": "code",
   "execution_count": 25,
   "metadata": {
    "colab": {
     "base_uri": "https://localhost:8080/"
    },
    "id": "OOC1mV6Qo6s4",
    "outputId": "a456f16e-edfc-42d0-cca6-0fba8bfac79b"
   },
   "outputs": [
    {
     "name": "stdout",
     "output_type": "stream",
     "text": [
      "Model: \"sequential_3\"\n",
      "_________________________________________________________________\n",
      " Layer (type)                Output Shape              Param #   \n",
      "=================================================================\n",
      " dense_9 (Dense)             (None, 10)                30        \n",
      "                                                                 \n",
      " dense_10 (Dense)            (None, 10)                110       \n",
      "                                                                 \n",
      " dense_11 (Dense)            (None, 1)                 11        \n",
      "                                                                 \n",
      "=================================================================\n",
      "Total params: 151\n",
      "Trainable params: 151\n",
      "Non-trainable params: 0\n",
      "_________________________________________________________________\n"
     ]
    }
   ],
   "source": [
    "model2 = Sequential()\n",
    "model2.add(Dense(10, activation='relu', input_dim=2))\n",
    "model2.add(Dense(10, activation='relu'))\n",
    "model2.add(Dense(1, activation='sigmoid'))\n",
    "model2.summary()"
   ]
  },
  {
   "cell_type": "code",
   "execution_count": 26,
   "metadata": {
    "colab": {
     "base_uri": "https://localhost:8080/"
    },
    "id": "vxr3WXWEo6wJ",
    "outputId": "165a854f-4a92-4fff-8894-c8a8210985b4"
   },
   "outputs": [
    {
     "name": "stdout",
     "output_type": "stream",
     "text": [
      "Epoch 1/10\n",
      "4/4 [==============================] - 1s 58ms/step - loss: 0.7039 - accuracy: 0.3875 - val_loss: 0.6785 - val_accuracy: 0.5000\n",
      "Epoch 2/10\n",
      "4/4 [==============================] - 0s 14ms/step - loss: 0.6844 - accuracy: 0.4531 - val_loss: 0.6640 - val_accuracy: 0.6000\n",
      "Epoch 3/10\n",
      "4/4 [==============================] - 0s 12ms/step - loss: 0.6708 - accuracy: 0.5562 - val_loss: 0.6535 - val_accuracy: 0.6500\n",
      "Epoch 4/10\n",
      "4/4 [==============================] - 0s 11ms/step - loss: 0.6604 - accuracy: 0.6187 - val_loss: 0.6445 - val_accuracy: 0.6625\n",
      "Epoch 5/10\n",
      "4/4 [==============================] - 0s 13ms/step - loss: 0.6519 - accuracy: 0.6656 - val_loss: 0.6357 - val_accuracy: 0.7375\n",
      "Epoch 6/10\n",
      "4/4 [==============================] - 0s 11ms/step - loss: 0.6432 - accuracy: 0.7188 - val_loss: 0.6287 - val_accuracy: 0.7500\n",
      "Epoch 7/10\n",
      "4/4 [==============================] - 0s 15ms/step - loss: 0.6357 - accuracy: 0.7656 - val_loss: 0.6211 - val_accuracy: 0.8750\n",
      "Epoch 8/10\n",
      "4/4 [==============================] - 0s 12ms/step - loss: 0.6281 - accuracy: 0.8313 - val_loss: 0.6146 - val_accuracy: 0.8750\n",
      "Epoch 9/10\n",
      "4/4 [==============================] - 0s 12ms/step - loss: 0.6212 - accuracy: 0.8281 - val_loss: 0.6076 - val_accuracy: 0.8750\n",
      "Epoch 10/10\n",
      "4/4 [==============================] - 0s 12ms/step - loss: 0.6139 - accuracy: 0.8250 - val_loss: 0.6011 - val_accuracy: 0.8750\n",
      "1.778728723526001\n"
     ]
    }
   ],
   "source": [
    "model2.compile(loss='binary_crossentropy', metrics=['accuracy'])\n",
    "start = time.time()\n",
    "history2 = model2.fit(x_train, y_train, validation_data=(x_test, y_test), epochs=10, batch_size=100)\n",
    "print(time.time() - start)"
   ]
  },
  {
   "cell_type": "code",
   "execution_count": null,
   "metadata": {
    "id": "VKnegKeho6z2"
   },
   "outputs": [],
   "source": [
    "# BGD\n",
    "# time - 1.7054085731506348\n",
    "# accuracy: 0.7750\n",
    "\n",
    "# SGD\n",
    "# time - 20.918317079544067\n",
    "# accuracy: 0.8781\n",
    "\n",
    "# Mini-batch\n",
    "# time - 1.778728723526001\n",
    "# accuracy: 0.8250\n",
    "\n",
    "# BGD > SGD - TIME\n",
    "# SGD > BGD - Performanace"
   ]
  },
  {
   "cell_type": "code",
   "execution_count": 27,
   "metadata": {
    "colab": {
     "base_uri": "https://localhost:8080/"
    },
    "id": "7J4zELBUpsug",
    "outputId": "f9f072eb-b3b1-4e99-f52b-7c88e302f3cf"
   },
   "outputs": [
    {
     "name": "stdout",
     "output_type": "stream",
     "text": [
      "Epoch 1/100\n",
      "4/4 [==============================] - 1s 107ms/step - loss: 0.6038 - accuracy: 0.8375 - val_loss: 0.5876 - val_accuracy: 0.8750\n",
      "Epoch 2/100\n",
      "4/4 [==============================] - 0s 38ms/step - loss: 0.5909 - accuracy: 0.8594 - val_loss: 0.5797 - val_accuracy: 0.8750\n",
      "Epoch 3/100\n",
      "4/4 [==============================] - 0s 24ms/step - loss: 0.5817 - accuracy: 0.8656 - val_loss: 0.5718 - val_accuracy: 0.8750\n",
      "Epoch 4/100\n",
      "4/4 [==============================] - 0s 37ms/step - loss: 0.5736 - accuracy: 0.8625 - val_loss: 0.5653 - val_accuracy: 0.8750\n",
      "Epoch 5/100\n",
      "4/4 [==============================] - 0s 35ms/step - loss: 0.5663 - accuracy: 0.8656 - val_loss: 0.5582 - val_accuracy: 0.8750\n",
      "Epoch 6/100\n",
      "4/4 [==============================] - 0s 31ms/step - loss: 0.5587 - accuracy: 0.8687 - val_loss: 0.5520 - val_accuracy: 0.8750\n",
      "Epoch 7/100\n",
      "4/4 [==============================] - 0s 26ms/step - loss: 0.5511 - accuracy: 0.8781 - val_loss: 0.5457 - val_accuracy: 0.8750\n",
      "Epoch 8/100\n",
      "4/4 [==============================] - 0s 55ms/step - loss: 0.5436 - accuracy: 0.8844 - val_loss: 0.5387 - val_accuracy: 0.8875\n",
      "Epoch 9/100\n",
      "4/4 [==============================] - 0s 76ms/step - loss: 0.5359 - accuracy: 0.8844 - val_loss: 0.5325 - val_accuracy: 0.8875\n",
      "Epoch 10/100\n",
      "4/4 [==============================] - 0s 54ms/step - loss: 0.5287 - accuracy: 0.8844 - val_loss: 0.5258 - val_accuracy: 0.8875\n",
      "Epoch 11/100\n",
      "4/4 [==============================] - 0s 46ms/step - loss: 0.5211 - accuracy: 0.8844 - val_loss: 0.5198 - val_accuracy: 0.8750\n",
      "Epoch 12/100\n",
      "4/4 [==============================] - 0s 51ms/step - loss: 0.5134 - accuracy: 0.8875 - val_loss: 0.5125 - val_accuracy: 0.8875\n",
      "Epoch 13/100\n",
      "4/4 [==============================] - 0s 28ms/step - loss: 0.5057 - accuracy: 0.8844 - val_loss: 0.5064 - val_accuracy: 0.8875\n",
      "Epoch 14/100\n",
      "4/4 [==============================] - 0s 22ms/step - loss: 0.4981 - accuracy: 0.8938 - val_loss: 0.5011 - val_accuracy: 0.8875\n",
      "Epoch 15/100\n",
      "4/4 [==============================] - 0s 21ms/step - loss: 0.4907 - accuracy: 0.9062 - val_loss: 0.4948 - val_accuracy: 0.9000\n",
      "Epoch 16/100\n",
      "4/4 [==============================] - 0s 18ms/step - loss: 0.4836 - accuracy: 0.9031 - val_loss: 0.4889 - val_accuracy: 0.9000\n",
      "Epoch 17/100\n",
      "4/4 [==============================] - 0s 15ms/step - loss: 0.4763 - accuracy: 0.9031 - val_loss: 0.4835 - val_accuracy: 0.8875\n",
      "Epoch 18/100\n",
      "4/4 [==============================] - 0s 15ms/step - loss: 0.4689 - accuracy: 0.9125 - val_loss: 0.4780 - val_accuracy: 0.8875\n",
      "Epoch 19/100\n",
      "4/4 [==============================] - 0s 16ms/step - loss: 0.4613 - accuracy: 0.9094 - val_loss: 0.4719 - val_accuracy: 0.8875\n",
      "Epoch 20/100\n",
      "4/4 [==============================] - 0s 16ms/step - loss: 0.4541 - accuracy: 0.9031 - val_loss: 0.4674 - val_accuracy: 0.8750\n",
      "Epoch 21/100\n",
      "4/4 [==============================] - 0s 16ms/step - loss: 0.4471 - accuracy: 0.9062 - val_loss: 0.4619 - val_accuracy: 0.8875\n",
      "Epoch 22/100\n",
      "4/4 [==============================] - 0s 16ms/step - loss: 0.4401 - accuracy: 0.9156 - val_loss: 0.4559 - val_accuracy: 0.8750\n",
      "Epoch 23/100\n",
      "4/4 [==============================] - 0s 17ms/step - loss: 0.4332 - accuracy: 0.9031 - val_loss: 0.4518 - val_accuracy: 0.8750\n",
      "Epoch 24/100\n",
      "4/4 [==============================] - 0s 17ms/step - loss: 0.4271 - accuracy: 0.9125 - val_loss: 0.4469 - val_accuracy: 0.8750\n",
      "Epoch 25/100\n",
      "4/4 [==============================] - 0s 19ms/step - loss: 0.4204 - accuracy: 0.9062 - val_loss: 0.4413 - val_accuracy: 0.8750\n",
      "Epoch 26/100\n",
      "4/4 [==============================] - 0s 25ms/step - loss: 0.4137 - accuracy: 0.9062 - val_loss: 0.4365 - val_accuracy: 0.8750\n",
      "Epoch 27/100\n",
      "4/4 [==============================] - 0s 18ms/step - loss: 0.4073 - accuracy: 0.9094 - val_loss: 0.4312 - val_accuracy: 0.8875\n",
      "Epoch 28/100\n",
      "4/4 [==============================] - 0s 23ms/step - loss: 0.4009 - accuracy: 0.9062 - val_loss: 0.4274 - val_accuracy: 0.8750\n",
      "Epoch 29/100\n",
      "4/4 [==============================] - 0s 18ms/step - loss: 0.3946 - accuracy: 0.9125 - val_loss: 0.4231 - val_accuracy: 0.8750\n",
      "Epoch 30/100\n",
      "4/4 [==============================] - 0s 20ms/step - loss: 0.3886 - accuracy: 0.9187 - val_loss: 0.4185 - val_accuracy: 0.8750\n",
      "Epoch 31/100\n",
      "4/4 [==============================] - 0s 19ms/step - loss: 0.3826 - accuracy: 0.9125 - val_loss: 0.4147 - val_accuracy: 0.8750\n",
      "Epoch 32/100\n",
      "4/4 [==============================] - 0s 16ms/step - loss: 0.3767 - accuracy: 0.9125 - val_loss: 0.4088 - val_accuracy: 0.8875\n",
      "Epoch 33/100\n",
      "4/4 [==============================] - 0s 22ms/step - loss: 0.3708 - accuracy: 0.9125 - val_loss: 0.4050 - val_accuracy: 0.8875\n",
      "Epoch 34/100\n",
      "4/4 [==============================] - 0s 17ms/step - loss: 0.3660 - accuracy: 0.9125 - val_loss: 0.4019 - val_accuracy: 0.8875\n",
      "Epoch 35/100\n",
      "4/4 [==============================] - 0s 14ms/step - loss: 0.3601 - accuracy: 0.9062 - val_loss: 0.3976 - val_accuracy: 0.8875\n",
      "Epoch 36/100\n",
      "4/4 [==============================] - 0s 14ms/step - loss: 0.3550 - accuracy: 0.9062 - val_loss: 0.3945 - val_accuracy: 0.8875\n",
      "Epoch 37/100\n",
      "4/4 [==============================] - 0s 14ms/step - loss: 0.3496 - accuracy: 0.9094 - val_loss: 0.3909 - val_accuracy: 0.8875\n",
      "Epoch 38/100\n",
      "4/4 [==============================] - 0s 12ms/step - loss: 0.3453 - accuracy: 0.9062 - val_loss: 0.3876 - val_accuracy: 0.8875\n",
      "Epoch 39/100\n",
      "4/4 [==============================] - 0s 11ms/step - loss: 0.3402 - accuracy: 0.9062 - val_loss: 0.3846 - val_accuracy: 0.8750\n",
      "Epoch 40/100\n",
      "4/4 [==============================] - 0s 12ms/step - loss: 0.3355 - accuracy: 0.9062 - val_loss: 0.3829 - val_accuracy: 0.8750\n",
      "Epoch 41/100\n",
      "4/4 [==============================] - 0s 12ms/step - loss: 0.3312 - accuracy: 0.9094 - val_loss: 0.3810 - val_accuracy: 0.8750\n",
      "Epoch 42/100\n",
      "4/4 [==============================] - 0s 12ms/step - loss: 0.3264 - accuracy: 0.9094 - val_loss: 0.3784 - val_accuracy: 0.8750\n",
      "Epoch 43/100\n",
      "4/4 [==============================] - 0s 14ms/step - loss: 0.3218 - accuracy: 0.9125 - val_loss: 0.3753 - val_accuracy: 0.8750\n",
      "Epoch 44/100\n",
      "4/4 [==============================] - 0s 12ms/step - loss: 0.3174 - accuracy: 0.9062 - val_loss: 0.3735 - val_accuracy: 0.8750\n",
      "Epoch 45/100\n",
      "4/4 [==============================] - 0s 13ms/step - loss: 0.3133 - accuracy: 0.9094 - val_loss: 0.3713 - val_accuracy: 0.8750\n",
      "Epoch 46/100\n",
      "4/4 [==============================] - 0s 12ms/step - loss: 0.3095 - accuracy: 0.9125 - val_loss: 0.3701 - val_accuracy: 0.8625\n",
      "Epoch 47/100\n",
      "4/4 [==============================] - 0s 12ms/step - loss: 0.3058 - accuracy: 0.9125 - val_loss: 0.3698 - val_accuracy: 0.8625\n",
      "Epoch 48/100\n",
      "4/4 [==============================] - 0s 12ms/step - loss: 0.3024 - accuracy: 0.9125 - val_loss: 0.3672 - val_accuracy: 0.8625\n",
      "Epoch 49/100\n",
      "4/4 [==============================] - 0s 11ms/step - loss: 0.2986 - accuracy: 0.9125 - val_loss: 0.3648 - val_accuracy: 0.8625\n",
      "Epoch 50/100\n",
      "4/4 [==============================] - 0s 18ms/step - loss: 0.2952 - accuracy: 0.9094 - val_loss: 0.3616 - val_accuracy: 0.8750\n",
      "Epoch 51/100\n",
      "4/4 [==============================] - 0s 12ms/step - loss: 0.2920 - accuracy: 0.9094 - val_loss: 0.3611 - val_accuracy: 0.8500\n",
      "Epoch 52/100\n",
      "4/4 [==============================] - 0s 17ms/step - loss: 0.2889 - accuracy: 0.9125 - val_loss: 0.3562 - val_accuracy: 0.8625\n",
      "Epoch 53/100\n",
      "4/4 [==============================] - 0s 13ms/step - loss: 0.2858 - accuracy: 0.9094 - val_loss: 0.3560 - val_accuracy: 0.8750\n",
      "Epoch 54/100\n",
      "4/4 [==============================] - 0s 12ms/step - loss: 0.2828 - accuracy: 0.9156 - val_loss: 0.3553 - val_accuracy: 0.8750\n",
      "Epoch 55/100\n",
      "4/4 [==============================] - 0s 12ms/step - loss: 0.2799 - accuracy: 0.9156 - val_loss: 0.3541 - val_accuracy: 0.8625\n",
      "Epoch 56/100\n",
      "4/4 [==============================] - 0s 12ms/step - loss: 0.2770 - accuracy: 0.9156 - val_loss: 0.3534 - val_accuracy: 0.8625\n",
      "Epoch 57/100\n",
      "4/4 [==============================] - 0s 12ms/step - loss: 0.2745 - accuracy: 0.9156 - val_loss: 0.3518 - val_accuracy: 0.8625\n",
      "Epoch 58/100\n",
      "4/4 [==============================] - 0s 13ms/step - loss: 0.2717 - accuracy: 0.9187 - val_loss: 0.3516 - val_accuracy: 0.8625\n",
      "Epoch 59/100\n",
      "4/4 [==============================] - 0s 13ms/step - loss: 0.2690 - accuracy: 0.9187 - val_loss: 0.3510 - val_accuracy: 0.8625\n",
      "Epoch 60/100\n",
      "4/4 [==============================] - 0s 12ms/step - loss: 0.2665 - accuracy: 0.9156 - val_loss: 0.3501 - val_accuracy: 0.8625\n",
      "Epoch 61/100\n",
      "4/4 [==============================] - 0s 12ms/step - loss: 0.2640 - accuracy: 0.9156 - val_loss: 0.3502 - val_accuracy: 0.8500\n",
      "Epoch 62/100\n",
      "4/4 [==============================] - 0s 11ms/step - loss: 0.2619 - accuracy: 0.9187 - val_loss: 0.3511 - val_accuracy: 0.8500\n",
      "Epoch 63/100\n",
      "4/4 [==============================] - 0s 13ms/step - loss: 0.2605 - accuracy: 0.9187 - val_loss: 0.3503 - val_accuracy: 0.8625\n",
      "Epoch 64/100\n",
      "4/4 [==============================] - 0s 13ms/step - loss: 0.2589 - accuracy: 0.9187 - val_loss: 0.3472 - val_accuracy: 0.8750\n",
      "Epoch 65/100\n",
      "4/4 [==============================] - 0s 12ms/step - loss: 0.2570 - accuracy: 0.9156 - val_loss: 0.3483 - val_accuracy: 0.8625\n",
      "Epoch 66/100\n",
      "4/4 [==============================] - 0s 12ms/step - loss: 0.2553 - accuracy: 0.9187 - val_loss: 0.3471 - val_accuracy: 0.8625\n",
      "Epoch 67/100\n",
      "4/4 [==============================] - 0s 12ms/step - loss: 0.2539 - accuracy: 0.9187 - val_loss: 0.3436 - val_accuracy: 0.8625\n",
      "Epoch 68/100\n",
      "4/4 [==============================] - 0s 15ms/step - loss: 0.2525 - accuracy: 0.9125 - val_loss: 0.3452 - val_accuracy: 0.8625\n",
      "Epoch 69/100\n",
      "4/4 [==============================] - 0s 13ms/step - loss: 0.2510 - accuracy: 0.9125 - val_loss: 0.3456 - val_accuracy: 0.8625\n",
      "Epoch 70/100\n",
      "4/4 [==============================] - 0s 14ms/step - loss: 0.2496 - accuracy: 0.9125 - val_loss: 0.3448 - val_accuracy: 0.8625\n",
      "Epoch 71/100\n",
      "4/4 [==============================] - 0s 13ms/step - loss: 0.2483 - accuracy: 0.9125 - val_loss: 0.3458 - val_accuracy: 0.8625\n",
      "Epoch 72/100\n",
      "4/4 [==============================] - 0s 16ms/step - loss: 0.2468 - accuracy: 0.9125 - val_loss: 0.3461 - val_accuracy: 0.8625\n",
      "Epoch 73/100\n",
      "4/4 [==============================] - 0s 13ms/step - loss: 0.2455 - accuracy: 0.9125 - val_loss: 0.3450 - val_accuracy: 0.8625\n",
      "Epoch 74/100\n",
      "4/4 [==============================] - 0s 12ms/step - loss: 0.2442 - accuracy: 0.9125 - val_loss: 0.3419 - val_accuracy: 0.8625\n",
      "Epoch 75/100\n",
      "4/4 [==============================] - 0s 12ms/step - loss: 0.2431 - accuracy: 0.9125 - val_loss: 0.3429 - val_accuracy: 0.8625\n",
      "Epoch 76/100\n",
      "4/4 [==============================] - 0s 12ms/step - loss: 0.2420 - accuracy: 0.9125 - val_loss: 0.3454 - val_accuracy: 0.8625\n",
      "Epoch 77/100\n",
      "4/4 [==============================] - 0s 12ms/step - loss: 0.2408 - accuracy: 0.9125 - val_loss: 0.3446 - val_accuracy: 0.8625\n",
      "Epoch 78/100\n",
      "4/4 [==============================] - 0s 12ms/step - loss: 0.2400 - accuracy: 0.9094 - val_loss: 0.3453 - val_accuracy: 0.8625\n",
      "Epoch 79/100\n",
      "4/4 [==============================] - 0s 12ms/step - loss: 0.2387 - accuracy: 0.9125 - val_loss: 0.3449 - val_accuracy: 0.8625\n",
      "Epoch 80/100\n",
      "4/4 [==============================] - 0s 12ms/step - loss: 0.2382 - accuracy: 0.9125 - val_loss: 0.3454 - val_accuracy: 0.8625\n",
      "Epoch 81/100\n",
      "4/4 [==============================] - 0s 13ms/step - loss: 0.2371 - accuracy: 0.9125 - val_loss: 0.3453 - val_accuracy: 0.8625\n",
      "Epoch 82/100\n",
      "4/4 [==============================] - 0s 12ms/step - loss: 0.2358 - accuracy: 0.9125 - val_loss: 0.3461 - val_accuracy: 0.8750\n",
      "Epoch 83/100\n",
      "4/4 [==============================] - 0s 12ms/step - loss: 0.2348 - accuracy: 0.9125 - val_loss: 0.3443 - val_accuracy: 0.8750\n",
      "Epoch 84/100\n",
      "4/4 [==============================] - 0s 16ms/step - loss: 0.2341 - accuracy: 0.9125 - val_loss: 0.3414 - val_accuracy: 0.8750\n",
      "Epoch 85/100\n",
      "4/4 [==============================] - 0s 13ms/step - loss: 0.2333 - accuracy: 0.9125 - val_loss: 0.3388 - val_accuracy: 0.8750\n",
      "Epoch 86/100\n",
      "4/4 [==============================] - 0s 13ms/step - loss: 0.2329 - accuracy: 0.9187 - val_loss: 0.3404 - val_accuracy: 0.8750\n",
      "Epoch 87/100\n",
      "4/4 [==============================] - 0s 13ms/step - loss: 0.2323 - accuracy: 0.9125 - val_loss: 0.3421 - val_accuracy: 0.8750\n",
      "Epoch 88/100\n",
      "4/4 [==============================] - 0s 12ms/step - loss: 0.2312 - accuracy: 0.9187 - val_loss: 0.3429 - val_accuracy: 0.8750\n",
      "Epoch 89/100\n",
      "4/4 [==============================] - 0s 12ms/step - loss: 0.2311 - accuracy: 0.9187 - val_loss: 0.3460 - val_accuracy: 0.8750\n",
      "Epoch 90/100\n",
      "4/4 [==============================] - 0s 14ms/step - loss: 0.2299 - accuracy: 0.9187 - val_loss: 0.3463 - val_accuracy: 0.8750\n",
      "Epoch 91/100\n",
      "4/4 [==============================] - 0s 12ms/step - loss: 0.2293 - accuracy: 0.9187 - val_loss: 0.3488 - val_accuracy: 0.8625\n",
      "Epoch 92/100\n",
      "4/4 [==============================] - 0s 12ms/step - loss: 0.2288 - accuracy: 0.9187 - val_loss: 0.3479 - val_accuracy: 0.8750\n",
      "Epoch 93/100\n",
      "4/4 [==============================] - 0s 14ms/step - loss: 0.2283 - accuracy: 0.9187 - val_loss: 0.3518 - val_accuracy: 0.8625\n",
      "Epoch 94/100\n",
      "4/4 [==============================] - 0s 14ms/step - loss: 0.2277 - accuracy: 0.9250 - val_loss: 0.3478 - val_accuracy: 0.8750\n",
      "Epoch 95/100\n",
      "4/4 [==============================] - 0s 14ms/step - loss: 0.2272 - accuracy: 0.9187 - val_loss: 0.3474 - val_accuracy: 0.8750\n",
      "Epoch 96/100\n",
      "4/4 [==============================] - 0s 12ms/step - loss: 0.2265 - accuracy: 0.9187 - val_loss: 0.3456 - val_accuracy: 0.8750\n",
      "Epoch 97/100\n",
      "4/4 [==============================] - 0s 12ms/step - loss: 0.2261 - accuracy: 0.9187 - val_loss: 0.3435 - val_accuracy: 0.8750\n",
      "Epoch 98/100\n",
      "4/4 [==============================] - 0s 15ms/step - loss: 0.2259 - accuracy: 0.9187 - val_loss: 0.3410 - val_accuracy: 0.8750\n",
      "Epoch 99/100\n",
      "4/4 [==============================] - 0s 13ms/step - loss: 0.2252 - accuracy: 0.9187 - val_loss: 0.3417 - val_accuracy: 0.8750\n",
      "Epoch 100/100\n",
      "4/4 [==============================] - 0s 20ms/step - loss: 0.2248 - accuracy: 0.9187 - val_loss: 0.3451 - val_accuracy: 0.8750\n",
      "10.732575416564941\n"
     ]
    }
   ],
   "source": [
    "model2.compile(loss='binary_crossentropy', metrics=['accuracy'])\n",
    "start = time.time()\n",
    "history2 = model2.fit(x_train, y_train, validation_data=(x_test, y_test), epochs=100, batch_size=100)\n",
    "print(time.time() - start)"
   ]
  },
  {
   "cell_type": "code",
   "execution_count": 29,
   "metadata": {
    "colab": {
     "base_uri": "https://localhost:8080/",
     "height": 282
    },
    "id": "Mg7O-69OqAVP",
    "outputId": "a3c7664a-cb59-4a35-901b-9fb7001eedf2"
   },
   "outputs": [
    {
     "data": {
      "text/plain": [
       "[<matplotlib.lines.Line2D at 0x7fb7cd356880>]"
      ]
     },
     "execution_count": 29,
     "metadata": {},
     "output_type": "execute_result"
    },
    {
     "data": {
      "image/png": "[encoded data removed]",
      "text/plain": [
       "<Figure size 432x288 with 1 Axes>"
      ]
     },
     "metadata": {
      "needs_background": "light"
     },
     "output_type": "display_data"
    }
   ],
   "source": [
    "plt.plot(history.history['loss'], color='black') # BGD\n",
    "plt.plot(history2.history['loss'], color='red') # mini-batch\n",
    "plt.plot(history1.history['loss'], color='green') # SGD"
   ]
  },
  {
   "cell_type": "code",
   "execution_count": null,
   "metadata": {
    "id": "c-FcHJxiqDhB"
   },
   "outputs": [],
   "source": []
  }
 ],
 "metadata": {
  "accelerator": "GPU",
  "colab": {
   "provenance": []
  },
  "gpuClass": "standard",
  "kernelspec": {
   "display_name": "Python 3",
   "name": "python3"
  },
  "language_info": {
   "name": "python"
  }
 },
 "nbformat": 4,
 "nbformat_minor": 0
}
