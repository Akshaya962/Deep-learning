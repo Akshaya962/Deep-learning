{
 "cells": [
  {
   "cell_type": "code",
   "execution_count": 3,
   "metadata": {
    "id": "OTsMSS0FQcAH"
   },
   "outputs": [],
   "source": [
    "import tensorflow as tf\n",
    "from tensorflow import keras"
   ]
  },
  {
   "cell_type": "code",
   "execution_count": 2,
   "metadata": {},
   "outputs": [],
   "source": [
    "#pip install tensorflow"
   ]
  },
  {
   "cell_type": "code",
   "execution_count": null,
   "metadata": {},
   "outputs": [],
   "source": []
  },
  {
   "cell_type": "code",
   "execution_count": null,
   "metadata": {},
   "outputs": [],
   "source": []
  },
  {
   "cell_type": "markdown",
   "metadata": {
    "id": "uuRtbmmzRj5L"
   },
   "source": [
    "# Collect Dataset"
   ]
  },
  {
   "cell_type": "code",
   "execution_count": 2,
   "metadata": {
    "id": "MJGwuByQQtFV"
   },
   "outputs": [],
   "source": [
    "(features, actual_prices),_ = tf.keras.datasets.boston_housing.load_data(test_split=0)"
   ]
  },
  {
   "cell_type": "code",
   "execution_count": 3,
   "metadata": {
    "colab": {
     "base_uri": "https://localhost:8080/"
    },
    "id": "tUFbe1DUQtJD",
    "outputId": "277be2e9-45ba-45b2-d38b-ce138c9cc68d"
   },
   "outputs": [
    {
     "name": "stdout",
     "output_type": "stream",
     "text": [
      "Number of examples : 506\n",
      "Number of features for each examples : 13\n",
      "Shape of actual Prices : (506,)\n"
     ]
    }
   ],
   "source": [
    "print(\"Number of examples :\", features.shape[0])\n",
    "print(\"Number of features for each examples :\", features.shape[1])\n",
    "print(\"Shape of actual Prices :\", actual_prices.shape)"
   ]
  },
  {
   "cell_type": "code",
   "execution_count": 5,
   "metadata": {
    "colab": {
     "base_uri": "https://localhost:8080/"
    },
    "id": "IgHpJE4CQtNt",
    "outputId": "812119c7-b3a6-4510-cf3d-d40c93741094"
   },
   "outputs": [
    {
     "name": "stdout",
     "output_type": "stream",
     "text": [
      "Epoch 1/100\n",
      "16/16 [==============================] - 0s 3ms/step - loss: 568.8004\n",
      "Epoch 2/100\n",
      "16/16 [==============================] - 0s 3ms/step - loss: 557.4192\n",
      "Epoch 3/100\n",
      "16/16 [==============================] - 0s 2ms/step - loss: 545.5107\n",
      "Epoch 4/100\n",
      "16/16 [==============================] - 0s 2ms/step - loss: 533.9851\n",
      "Epoch 5/100\n",
      "16/16 [==============================] - 0s 3ms/step - loss: 520.9097\n",
      "Epoch 6/100\n",
      "16/16 [==============================] - 0s 3ms/step - loss: 507.4879\n",
      "Epoch 7/100\n",
      "16/16 [==============================] - 0s 3ms/step - loss: 492.7439\n",
      "Epoch 8/100\n",
      "16/16 [==============================] - 0s 3ms/step - loss: 479.4726\n",
      "Epoch 9/100\n",
      "16/16 [==============================] - 0s 2ms/step - loss: 460.2022\n",
      "Epoch 10/100\n",
      "16/16 [==============================] - 0s 2ms/step - loss: 440.7018\n",
      "Epoch 11/100\n",
      "16/16 [==============================] - 0s 3ms/step - loss: 420.5654\n",
      "Epoch 12/100\n",
      "16/16 [==============================] - 0s 3ms/step - loss: 398.2180\n",
      "Epoch 13/100\n",
      "16/16 [==============================] - 0s 3ms/step - loss: 372.7164\n",
      "Epoch 14/100\n",
      "16/16 [==============================] - 0s 3ms/step - loss: 345.9415\n",
      "Epoch 15/100\n",
      "16/16 [==============================] - 0s 3ms/step - loss: 319.5765\n",
      "Epoch 16/100\n",
      "16/16 [==============================] - 0s 2ms/step - loss: 290.7869\n",
      "Epoch 17/100\n",
      "16/16 [==============================] - 0s 2ms/step - loss: 262.7820\n",
      "Epoch 18/100\n",
      "16/16 [==============================] - 0s 2ms/step - loss: 234.5146\n",
      "Epoch 19/100\n",
      "16/16 [==============================] - 0s 2ms/step - loss: 206.9976\n",
      "Epoch 20/100\n",
      "16/16 [==============================] - 0s 3ms/step - loss: 178.1222\n",
      "Epoch 21/100\n",
      "16/16 [==============================] - 0s 2ms/step - loss: 156.1674\n",
      "Epoch 22/100\n",
      "16/16 [==============================] - 0s 2ms/step - loss: 131.7074\n",
      "Epoch 23/100\n",
      "16/16 [==============================] - 0s 2ms/step - loss: 113.3676\n",
      "Epoch 24/100\n",
      "16/16 [==============================] - 0s 3ms/step - loss: 94.6694\n",
      "Epoch 25/100\n",
      "16/16 [==============================] - 0s 4ms/step - loss: 79.8682\n",
      "Epoch 26/100\n",
      "16/16 [==============================] - 0s 3ms/step - loss: 69.7417\n",
      "Epoch 27/100\n",
      "16/16 [==============================] - 0s 3ms/step - loss: 59.3936\n",
      "Epoch 28/100\n",
      "16/16 [==============================] - 0s 2ms/step - loss: 54.3252\n",
      "Epoch 29/100\n",
      "16/16 [==============================] - 0s 3ms/step - loss: 48.4087\n",
      "Epoch 30/100\n",
      "16/16 [==============================] - 0s 3ms/step - loss: 42.6028\n",
      "Epoch 31/100\n",
      "16/16 [==============================] - 0s 2ms/step - loss: 41.1969\n",
      "Epoch 32/100\n",
      "16/16 [==============================] - 0s 2ms/step - loss: 40.4941\n",
      "Epoch 33/100\n",
      "16/16 [==============================] - 0s 3ms/step - loss: 38.8841\n",
      "Epoch 34/100\n",
      "16/16 [==============================] - 0s 2ms/step - loss: 37.9406\n",
      "Epoch 35/100\n",
      "16/16 [==============================] - 0s 3ms/step - loss: 37.8122\n",
      "Epoch 36/100\n",
      "16/16 [==============================] - 0s 2ms/step - loss: 35.7132\n",
      "Epoch 37/100\n",
      "16/16 [==============================] - 0s 2ms/step - loss: 36.2667\n",
      "Epoch 38/100\n",
      "16/16 [==============================] - 0s 2ms/step - loss: 34.3378\n",
      "Epoch 39/100\n",
      "16/16 [==============================] - 0s 3ms/step - loss: 36.3099\n",
      "Epoch 40/100\n",
      "16/16 [==============================] - 0s 3ms/step - loss: 36.1671\n",
      "Epoch 41/100\n",
      "16/16 [==============================] - 0s 3ms/step - loss: 35.2877\n",
      "Epoch 42/100\n",
      "16/16 [==============================] - 0s 3ms/step - loss: 35.3036\n",
      "Epoch 43/100\n",
      "16/16 [==============================] - 0s 2ms/step - loss: 34.3075\n",
      "Epoch 44/100\n",
      "16/16 [==============================] - 0s 2ms/step - loss: 35.4777\n",
      "Epoch 45/100\n",
      "16/16 [==============================] - 0s 2ms/step - loss: 31.4456\n",
      "Epoch 46/100\n",
      "16/16 [==============================] - 0s 3ms/step - loss: 32.3478\n",
      "Epoch 47/100\n",
      "16/16 [==============================] - 0s 2ms/step - loss: 37.5130\n",
      "Epoch 48/100\n",
      "16/16 [==============================] - 0s 3ms/step - loss: 30.3473\n",
      "Epoch 49/100\n",
      "16/16 [==============================] - 0s 2ms/step - loss: 32.5430\n",
      "Epoch 50/100\n",
      "16/16 [==============================] - 0s 2ms/step - loss: 32.9898\n",
      "Epoch 51/100\n",
      "16/16 [==============================] - 0s 2ms/step - loss: 31.8702\n",
      "Epoch 52/100\n",
      "16/16 [==============================] - 0s 3ms/step - loss: 32.7129\n",
      "Epoch 53/100\n",
      "16/16 [==============================] - 0s 3ms/step - loss: 33.3182\n",
      "Epoch 54/100\n",
      "16/16 [==============================] - 0s 4ms/step - loss: 30.1269\n",
      "Epoch 55/100\n",
      "16/16 [==============================] - 0s 2ms/step - loss: 30.8147\n",
      "Epoch 56/100\n",
      "16/16 [==============================] - 0s 2ms/step - loss: 30.2628\n",
      "Epoch 57/100\n",
      "16/16 [==============================] - 0s 2ms/step - loss: 31.4695\n",
      "Epoch 58/100\n",
      "16/16 [==============================] - 0s 2ms/step - loss: 30.5138\n",
      "Epoch 59/100\n",
      "16/16 [==============================] - 0s 3ms/step - loss: 30.0042\n",
      "Epoch 60/100\n",
      "16/16 [==============================] - 0s 2ms/step - loss: 30.5596\n",
      "Epoch 61/100\n",
      "16/16 [==============================] - 0s 2ms/step - loss: 30.5730\n",
      "Epoch 62/100\n",
      "16/16 [==============================] - 0s 3ms/step - loss: 30.7234\n",
      "Epoch 63/100\n",
      "16/16 [==============================] - 0s 3ms/step - loss: 30.4639\n",
      "Epoch 64/100\n",
      "16/16 [==============================] - 0s 2ms/step - loss: 30.0089\n",
      "Epoch 65/100\n",
      "16/16 [==============================] - 0s 3ms/step - loss: 30.8570\n",
      "Epoch 66/100\n",
      "16/16 [==============================] - 0s 3ms/step - loss: 29.2195\n",
      "Epoch 67/100\n",
      "16/16 [==============================] - 0s 3ms/step - loss: 29.5086\n",
      "Epoch 68/100\n",
      "16/16 [==============================] - 0s 2ms/step - loss: 29.7112\n",
      "Epoch 69/100\n",
      "16/16 [==============================] - 0s 3ms/step - loss: 29.3200\n",
      "Epoch 70/100\n",
      "16/16 [==============================] - 0s 2ms/step - loss: 29.2825\n",
      "Epoch 71/100\n",
      "16/16 [==============================] - 0s 2ms/step - loss: 28.3907\n",
      "Epoch 72/100\n",
      "16/16 [==============================] - 0s 2ms/step - loss: 28.0792\n",
      "Epoch 73/100\n",
      "16/16 [==============================] - 0s 3ms/step - loss: 27.6881\n",
      "Epoch 74/100\n",
      "16/16 [==============================] - 0s 2ms/step - loss: 29.3981\n",
      "Epoch 75/100\n",
      "16/16 [==============================] - 0s 2ms/step - loss: 28.8744\n",
      "Epoch 76/100\n",
      "16/16 [==============================] - 0s 2ms/step - loss: 31.3281\n",
      "Epoch 77/100\n",
      "16/16 [==============================] - 0s 2ms/step - loss: 27.7450\n",
      "Epoch 78/100\n",
      "16/16 [==============================] - 0s 3ms/step - loss: 28.1460\n",
      "Epoch 79/100\n",
      "16/16 [==============================] - 0s 2ms/step - loss: 28.4667\n",
      "Epoch 80/100\n",
      "16/16 [==============================] - 0s 2ms/step - loss: 27.3097\n",
      "Epoch 81/100\n",
      "16/16 [==============================] - 0s 2ms/step - loss: 27.9477\n",
      "Epoch 82/100\n",
      "16/16 [==============================] - 0s 2ms/step - loss: 28.7209\n",
      "Epoch 83/100\n",
      "16/16 [==============================] - 0s 3ms/step - loss: 28.0322\n",
      "Epoch 84/100\n",
      "16/16 [==============================] - 0s 3ms/step - loss: 27.9219\n",
      "Epoch 85/100\n",
      "16/16 [==============================] - 0s 3ms/step - loss: 29.2061\n",
      "Epoch 86/100\n",
      "16/16 [==============================] - 0s 3ms/step - loss: 29.3456\n",
      "Epoch 87/100\n",
      "16/16 [==============================] - 0s 3ms/step - loss: 27.5439\n",
      "Epoch 88/100\n",
      "16/16 [==============================] - 0s 2ms/step - loss: 28.1968\n",
      "Epoch 89/100\n",
      "16/16 [==============================] - 0s 3ms/step - loss: 29.8431\n",
      "Epoch 90/100\n",
      "16/16 [==============================] - 0s 2ms/step - loss: 26.9075\n",
      "Epoch 91/100\n",
      "16/16 [==============================] - 0s 3ms/step - loss: 27.3881\n",
      "Epoch 92/100\n",
      "16/16 [==============================] - 0s 2ms/step - loss: 29.8978\n",
      "Epoch 93/100\n",
      "16/16 [==============================] - 0s 2ms/step - loss: 26.9665\n",
      "Epoch 94/100\n",
      "16/16 [==============================] - 0s 3ms/step - loss: 27.9338\n",
      "Epoch 95/100\n",
      "16/16 [==============================] - 0s 2ms/step - loss: 27.6625\n",
      "Epoch 96/100\n",
      "16/16 [==============================] - 0s 2ms/step - loss: 27.0739\n",
      "Epoch 97/100\n",
      "16/16 [==============================] - 0s 2ms/step - loss: 28.3448\n",
      "Epoch 98/100\n",
      "16/16 [==============================] - 0s 3ms/step - loss: 28.4019\n",
      "Epoch 99/100\n",
      "16/16 [==============================] - 0s 3ms/step - loss: 29.3430\n",
      "Epoch 100/100\n",
      "16/16 [==============================] - 0s 2ms/step - loss: 27.4374\n"
     ]
    },
    {
     "data": {
      "text/plain": [
       "<keras.callbacks.History at 0x7fed902017f0>"
      ]
     },
     "execution_count": 5,
     "metadata": {},
     "output_type": "execute_result"
    }
   ],
   "source": [
    "# Initialize the Sequential Model\n",
    "model = tf.keras.models.Sequential()\n",
    "model.add(tf.keras.layers.BatchNormalization(input_shape=(13,)))\n",
    "model.add(tf.keras.layers.Dense(3))\n",
    "model.add(tf.keras.layers.Dense(1))\n",
    "model.compile(optimizer='adam', loss='mse')\n",
    "model.fit(features, actual_prices, epochs=100)\n",
    "\n"
   ]
  },
  {
   "cell_type": "code",
   "execution_count": 6,
   "metadata": {
    "colab": {
     "base_uri": "https://localhost:8080/"
    },
    "id": "ptTLEuMiQtQm",
    "outputId": "2afddb52-01a4-4aa2-d558-3866ebe8d6f8"
   },
   "outputs": [
    {
     "name": "stdout",
     "output_type": "stream",
     "text": [
      "Model: \"sequential_1\"\n",
      "_________________________________________________________________\n",
      " Layer (type)                Output Shape              Param #   \n",
      "=================================================================\n",
      " batch_normalization_1 (Batc  (None, 13)               52        \n",
      " hNormalization)                                                 \n",
      "                                                                 \n",
      " dense_2 (Dense)             (None, 3)                 42        \n",
      "                                                                 \n",
      " dense_3 (Dense)             (None, 1)                 4         \n",
      "                                                                 \n",
      "=================================================================\n",
      "Total params: 98\n",
      "Trainable params: 72\n",
      "Non-trainable params: 26\n",
      "_________________________________________________________________\n"
     ]
    }
   ],
   "source": [
    "model.summary()"
   ]
  },
  {
   "cell_type": "code",
   "execution_count": null,
   "metadata": {
    "id": "A6v80TMPUdA_"
   },
   "outputs": [],
   "source": []
  },
  {
   "cell_type": "code",
   "execution_count": null,
   "metadata": {
    "id": "N2uTnJD8QtTP"
   },
   "outputs": [],
   "source": []
  },
  {
   "cell_type": "code",
   "execution_count": null,
   "metadata": {
    "id": "9KCWCAECQtV1"
   },
   "outputs": [],
   "source": []
  },
  {
   "cell_type": "code",
   "execution_count": null,
   "metadata": {
    "id": "FSm9X9VDQtZF"
   },
   "outputs": [],
   "source": []
  },
  {
   "cell_type": "code",
   "execution_count": null,
   "metadata": {
    "id": "JPn84oiAQtcV"
   },
   "outputs": [],
   "source": []
  }
 ],
 "metadata": {
  "accelerator": "GPU",
  "colab": {
   "provenance": []
  },
  "gpuClass": "standard",
  "kernelspec": {
   "display_name": "Python 3 (ipykernel)",
   "language": "python",
   "name": "python3"
  },
  "language_info": {
   "codemirror_mode": {
    "name": "ipython",
    "version": 3
   },
   "file_extension": ".py",
   "mimetype": "text/x-python",
   "name": "python",
   "nbconvert_exporter": "python",
   "pygments_lexer": "ipython3",
   "version": "3.9.12"
  }
 },
 "nbformat": 4,
 "nbformat_minor": 1
}
