{
 "cells": [
  {
   "cell_type": "code",
   "execution_count": 2,
   "metadata": {
    "id": "ghw_LHyBtyMU"
   },
   "outputs": [],
   "source": [
    "import tensorflow as tf\n",
    "from tensorflow import keras\n",
    "import numpy as np\n",
    "import pandas as pd\n",
    "from pylab import rcParams\n",
    "import matplotlib.pyplot as plt\n",
    "from mlxtend.plotting import plot_decision_regions\n",
    "from tensorflow.keras.models import Sequential\n",
    "from tensorflow.keras.layers import Dense\n",
    "from sklearn.datasets import make_circles"
   ]
  },
  {
   "cell_type": "code",
   "execution_count": 59,
   "metadata": {
    "id": "ic7Doc5due7l"
   },
   "outputs": [],
   "source": [
    "x, y = make_circles(n_samples = 250, noise=0.1, random_state=1)"
   ]
  },
  {
   "cell_type": "code",
   "execution_count": 70,
   "metadata": {
    "colab": {
     "base_uri": "https://localhost:8080/"
    },
    "id": "1TeMZtx4ue-6",
    "outputId": "97d3abcb-e6bf-46dc-a756-e9c6f8ef8798"
   },
   "outputs": [
    {
     "data": {
      "text/plain": [
       "array([[-0.97698857, -0.30178692],\n",
       "       [ 0.92636516,  0.15651472],\n",
       "       [ 0.24286325, -0.55184594],\n",
       "       [-0.02643412,  0.81110656],\n",
       "       [-0.25771709, -0.90412689],\n",
       "       [ 0.19058117, -0.83269737],\n",
       "       [-1.09753269,  0.27932451],\n",
       "       [ 0.63420333, -0.63860029],\n",
       "       [-0.69176356,  0.1800655 ],\n",
       "       [ 1.06004116,  0.20436671],\n",
       "       [ 0.7175285 , -0.32327352],\n",
       "       [-0.71285874,  0.05493709],\n",
       "       [ 0.95235178, -0.42334565],\n",
       "       [-0.76184002,  0.28019957],\n",
       "       [ 0.81921027,  0.14854451],\n",
       "       [-0.74254735, -0.94613375],\n",
       "       [-0.68376901,  0.35871641],\n",
       "       [-0.7933916 ,  0.53637882],\n",
       "       [ 0.19836264,  0.9653627 ],\n",
       "       [-0.86218248, -0.61582507],\n",
       "       [ 0.19550415, -0.8605479 ],\n",
       "       [-0.11291037,  0.96079731],\n",
       "       [ 0.11231165, -1.01549704],\n",
       "       [-0.6990936 ,  0.08161483],\n",
       "       [ 1.18765313, -0.43832598],\n",
       "       [ 0.89017288, -0.20689289],\n",
       "       [ 1.03671661, -0.18463146],\n",
       "       [ 0.68516248, -0.44277113],\n",
       "       [-0.19967383,  0.91425975],\n",
       "       [-0.04222525, -0.8243493 ],\n",
       "       [ 0.15787363, -0.71610838],\n",
       "       [-0.5475865 ,  0.93088957],\n",
       "       [-1.01072889, -0.03660611],\n",
       "       [-0.35527552, -0.66194762],\n",
       "       [-0.12183854,  0.77851853],\n",
       "       [ 0.51021573, -0.65919773],\n",
       "       [-0.18931322,  1.03618288],\n",
       "       [ 0.07847102,  0.83717721],\n",
       "       [ 0.67809154,  0.82831665],\n",
       "       [ 0.69104918, -0.41320056],\n",
       "       [-0.55002701, -0.53401003],\n",
       "       [ 0.52134216,  1.01182706],\n",
       "       [-0.17088535, -1.17535833],\n",
       "       [ 0.23783431, -1.00429673],\n",
       "       [-0.19976274,  1.1917415 ],\n",
       "       [ 0.69631868, -0.81881468],\n",
       "       [-0.07594302,  0.92363486],\n",
       "       [ 0.72730914,  0.61275852],\n",
       "       [ 0.1751926 ,  0.95011564],\n",
       "       [ 1.140754  ,  0.01291016],\n",
       "       [ 0.52040153, -0.66479905],\n",
       "       [-0.26989874, -0.89388678],\n",
       "       [ 0.67201596, -0.36299343],\n",
       "       [ 0.26774773,  0.71230915],\n",
       "       [-0.6103061 ,  0.56967105],\n",
       "       [ 0.94449879, -0.37119065],\n",
       "       [ 1.00483589, -0.1654271 ],\n",
       "       [ 0.15059071,  0.86337387],\n",
       "       [ 0.57542149,  0.65373357],\n",
       "       [ 0.60744695,  0.28145489],\n",
       "       [-0.8075    ,  0.22565639],\n",
       "       [ 0.24702445,  0.62118317],\n",
       "       [-0.65536018,  0.62959113],\n",
       "       [-0.73587321, -0.10457864],\n",
       "       [-0.53048219,  0.57207728],\n",
       "       [-0.74500788, -0.39074786],\n",
       "       [-0.70508779,  1.09857993],\n",
       "       [-0.40886729,  0.56001778],\n",
       "       [ 0.84030966,  0.54491044],\n",
       "       [-0.90414569, -0.38164345],\n",
       "       [-0.22587672, -1.12419976],\n",
       "       [ 0.5737903 , -0.66647458],\n",
       "       [-0.65661761,  0.55732096],\n",
       "       [-0.77127254,  0.04635082],\n",
       "       [-0.70043485,  0.2581733 ],\n",
       "       [-0.90096386,  0.32935897],\n",
       "       [-0.2091387 , -0.87003091],\n",
       "       [ 0.61331719, -0.47218166],\n",
       "       [-0.81411003, -0.31389017],\n",
       "       [-0.47091848, -0.52449233],\n",
       "       [-0.26557248, -1.02603815],\n",
       "       [ 0.77198502,  0.73920097],\n",
       "       [-0.10415721,  0.81348162],\n",
       "       [ 0.4943801 ,  0.88790253],\n",
       "       [-1.05874531,  0.32903632],\n",
       "       [ 0.11145183, -0.7950312 ],\n",
       "       [-0.88054283,  0.30005674],\n",
       "       [ 0.60940881, -0.81602462],\n",
       "       [-0.42897373, -0.80381416],\n",
       "       [-0.98367898,  0.5181709 ],\n",
       "       [ 0.95756542,  0.12859865],\n",
       "       [-0.77415592,  0.3148408 ],\n",
       "       [ 0.23293173, -0.80309673],\n",
       "       [ 0.98998701, -0.21969495],\n",
       "       [-0.45225918,  0.7975462 ],\n",
       "       [ 0.76892697,  0.78477808],\n",
       "       [ 1.1074611 ,  0.18255546],\n",
       "       [-0.49060605,  0.18272505],\n",
       "       [ 0.64303072, -0.8214581 ],\n",
       "       [-0.81850086,  0.579235  ],\n",
       "       [-0.63636757, -0.58188007],\n",
       "       [-0.95629676, -0.2576328 ],\n",
       "       [-0.86766822, -0.27251238],\n",
       "       [-0.02035164, -0.67915278],\n",
       "       [ 0.82720029, -0.40964584],\n",
       "       [ 0.79480372, -0.16348151],\n",
       "       [-1.00980795,  0.40369618],\n",
       "       [ 0.90903456, -0.29943695],\n",
       "       [ 0.00828699, -1.17152704],\n",
       "       [-0.28079621, -1.01084797],\n",
       "       [ 0.9537871 ,  0.02749109],\n",
       "       [ 0.61236283, -0.72189865],\n",
       "       [ 0.34770742,  0.71592803],\n",
       "       [ 0.14581728, -1.00410398],\n",
       "       [-0.51075921, -0.94819417],\n",
       "       [-0.4957402 ,  0.62481129],\n",
       "       [ 0.51632106, -0.76378858],\n",
       "       [-0.41075788, -0.77758394],\n",
       "       [ 0.02819242, -1.01894315],\n",
       "       [ 0.0454113 ,  0.72764424],\n",
       "       [ 0.76778313,  0.66118582],\n",
       "       [-0.70427153,  0.65166003],\n",
       "       [ 0.7672777 , -0.04739912],\n",
       "       [-0.0187736 ,  0.51865344],\n",
       "       [ 0.38078981, -0.69976551],\n",
       "       [-0.75549236, -0.30362227],\n",
       "       [ 0.7441542 , -0.49511809],\n",
       "       [-0.22807986,  0.74245961],\n",
       "       [-0.38412218, -0.88012038],\n",
       "       [ 0.82314439,  0.02123464],\n",
       "       [-0.21855287,  0.74359778],\n",
       "       [-0.42013496,  0.70960291],\n",
       "       [ 0.85578895,  0.58951267],\n",
       "       [ 0.07868659, -0.81243495],\n",
       "       [-0.57171545,  0.58795156],\n",
       "       [-0.78007953,  0.94730924],\n",
       "       [ 0.38112415,  0.72322336],\n",
       "       [ 0.34619462, -0.8143886 ],\n",
       "       [-0.42381509,  1.06369324],\n",
       "       [-0.60028971, -0.32174899],\n",
       "       [ 0.3946152 , -0.59576306],\n",
       "       [-0.73289896, -0.09507163],\n",
       "       [ 0.41977247, -0.64442496],\n",
       "       [-1.02326367, -0.67080214],\n",
       "       [ 0.21476728,  0.89223193],\n",
       "       [-0.09845458, -0.59127133],\n",
       "       [ 0.89554912, -0.35575786],\n",
       "       [ 0.75360072, -0.07739492],\n",
       "       [-0.87147764,  0.01131752],\n",
       "       [ 0.98589177,  0.0876168 ],\n",
       "       [-0.32669986, -0.57872563],\n",
       "       [-0.78130166, -0.3694966 ],\n",
       "       [-0.54047874, -0.66067091],\n",
       "       [ 0.77561689, -0.53225223],\n",
       "       [-0.99039823, -0.16824746],\n",
       "       [ 0.32951884,  0.88387549],\n",
       "       [-0.59124665,  0.7272244 ],\n",
       "       [-0.722838  , -0.5513646 ],\n",
       "       [-0.04118687, -0.89276492],\n",
       "       [-0.69873706,  0.35839208],\n",
       "       [-0.28769114, -1.11139653],\n",
       "       [ 0.37827068,  0.76404143],\n",
       "       [-0.65589816,  0.540807  ],\n",
       "       [ 0.79116111,  0.58184182],\n",
       "       [-0.26649863,  0.91262826],\n",
       "       [-0.09091358,  1.11110281],\n",
       "       [ 0.7482352 ,  0.34790051],\n",
       "       [-0.26666351,  0.61566953],\n",
       "       [-0.59668625, -0.78535553],\n",
       "       [-0.79061898, -0.39088477],\n",
       "       [-0.3750135 ,  0.62384472],\n",
       "       [ 0.15473186,  0.85927285],\n",
       "       [ 0.30208412, -0.96189572],\n",
       "       [ 0.84501555,  0.17653351],\n",
       "       [ 0.49000342,  0.86439546],\n",
       "       [ 0.87673149,  0.02831834],\n",
       "       [ 0.87950543,  0.6237629 ],\n",
       "       [-0.23109299, -0.82522388],\n",
       "       [ 0.29751681, -1.01041667],\n",
       "       [ 0.17522203,  0.71985667],\n",
       "       [-0.73611009, -0.25150555],\n",
       "       [ 0.62431436,  0.45286001],\n",
       "       [ 0.90853175, -0.58780868],\n",
       "       [ 0.9157439 ,  0.09017005],\n",
       "       [-0.89314998, -0.16717081],\n",
       "       [ 0.71843416,  0.74756667],\n",
       "       [-0.51218862,  0.92748583],\n",
       "       [-0.63623961, -0.72411639],\n",
       "       [ 0.74654128, -0.94401768],\n",
       "       [-0.74819524, -0.77228507],\n",
       "       [-1.03586286,  0.5093353 ],\n",
       "       [ 0.18088676,  0.93622218],\n",
       "       [-0.80436059, -0.60876204],\n",
       "       [-0.61325449,  0.83956454],\n",
       "       [ 0.2962962 ,  0.98993629],\n",
       "       [ 1.15803266,  0.16991257],\n",
       "       [-0.21102848, -0.88321823],\n",
       "       [-0.70912568,  0.55188463],\n",
       "       [ 0.20424478,  0.8032071 ],\n",
       "       [-0.67303486, -0.29218102],\n",
       "       [ 0.90817933,  0.18366511],\n",
       "       [ 0.64803002, -0.31030272],\n",
       "       [ 0.15944444,  1.06933163],\n",
       "       [-0.51659299, -0.5306885 ],\n",
       "       [ 1.04351339, -0.05878464],\n",
       "       [-0.48512237,  0.38960972],\n",
       "       [ 0.85113926, -0.44348216],\n",
       "       [-0.0188469 , -0.83911846],\n",
       "       [ 0.98863198,  0.35603267],\n",
       "       [-0.55535443, -0.66964825],\n",
       "       [-1.03456398,  0.05218014],\n",
       "       [ 0.63434758,  0.22156272],\n",
       "       [ 0.77602569, -0.11968904],\n",
       "       [-0.98961228,  0.39584749],\n",
       "       [ 0.57935381,  0.77834316],\n",
       "       [-1.01492212, -0.07571883],\n",
       "       [-0.89856348, -0.17278636],\n",
       "       [ 0.92441428,  0.4479413 ],\n",
       "       [ 0.75262513, -0.05193588],\n",
       "       [ 0.46792182,  0.61316627],\n",
       "       [-0.29445088, -0.93904838],\n",
       "       [ 0.25148781, -0.93879835],\n",
       "       [ 0.00586073, -0.38595423],\n",
       "       [-0.08504069, -0.77509547],\n",
       "       [-1.10190895, -0.26477515],\n",
       "       [-0.85501128,  0.65222062],\n",
       "       [ 0.56243563,  0.78870205],\n",
       "       [-0.01592701,  0.85078213],\n",
       "       [ 0.04729852,  0.78508786],\n",
       "       [ 0.59161399,  0.62774479],\n",
       "       [-0.18825292, -0.81733659],\n",
       "       [ 0.28283826,  0.689406  ],\n",
       "       [ 0.47255588, -0.93708188],\n",
       "       [ 0.7104703 ,  0.7668209 ],\n",
       "       [-0.69634511,  0.1160335 ],\n",
       "       [ 0.24945021,  0.92014438],\n",
       "       [ 0.77061798,  0.5207588 ],\n",
       "       [-0.90661161, -0.26898382],\n",
       "       [-0.47409814, -0.49137528],\n",
       "       [ 0.73726856,  0.29826712],\n",
       "       [ 0.35476173,  0.70258726],\n",
       "       [-0.87482771, -0.23123116],\n",
       "       [-0.82147317, -0.78914791],\n",
       "       [ 0.77129717,  0.30622189],\n",
       "       [-0.70400504, -0.41504599],\n",
       "       [ 0.69254817,  0.5546217 ],\n",
       "       [-0.80961376, -0.52606664],\n",
       "       [ 0.38867021,  0.45609525],\n",
       "       [ 0.70569049, -0.65299229],\n",
       "       [-0.20341489,  0.89728109]])"
      ]
     },
     "execution_count": 70,
     "metadata": {},
     "output_type": "execute_result"
    }
   ],
   "source": [
    "x"
   ]
  },
  {
   "cell_type": "code",
   "execution_count": 9,
   "metadata": {
    "id": "_ssxO-xTu3So"
   },
   "outputs": [],
   "source": [
    "import seaborn as sns"
   ]
  },
  {
   "cell_type": "code",
   "execution_count": 60,
   "metadata": {
    "colab": {
     "base_uri": "https://localhost:8080/",
     "height": 337
    },
    "id": "Sl2wAPOwuswh",
    "outputId": "1839278e-ccfe-411a-c162-c914b4fd07e8"
   },
   "outputs": [
    {
     "name": "stderr",
     "output_type": "stream",
     "text": [
      "/usr/local/lib/python3.8/dist-packages/seaborn/_decorators.py:36: FutureWarning: Pass the following variables as keyword args: x, y. From version 0.12, the only valid positional argument will be `data`, and passing other arguments without an explicit keyword will result in an error or misinterpretation.\n",
      "  warnings.warn(\n"
     ]
    },
    {
     "data": {
      "text/plain": [
       "<matplotlib.axes._subplots.AxesSubplot at 0x7f3b98c0d820>"
      ]
     },
     "execution_count": 60,
     "metadata": {},
     "output_type": "execute_result"
    },
    {
     "data": {
      "image/png": "[encoded data removed]",
      "text/plain": [
       "<Figure size 432x288 with 1 Axes>"
      ]
     },
     "metadata": {
      "needs_background": "light"
     },
     "output_type": "display_data"
    }
   ],
   "source": [
    "sns.scatterplot(x[:,0], x[:,1], hue=y)"
   ]
  },
  {
   "cell_type": "markdown",
   "metadata": {
    "id": "WtR301YTvFQY"
   },
   "source": [
    "# Building NN"
   ]
  },
  {
   "cell_type": "code",
   "execution_count": 25,
   "metadata": {
    "colab": {
     "base_uri": "https://localhost:8080/"
    },
    "id": "-yG7F6mOvENE",
    "outputId": "f932c0f0-7d37-468d-c229-8598fb866d44"
   },
   "outputs": [
    {
     "name": "stdout",
     "output_type": "stream",
     "text": [
      "Model: \"sequential_1\"\n",
      "_________________________________________________________________\n",
      " Layer (type)                Output Shape              Param #   \n",
      "=================================================================\n",
      " dense_2 (Dense)             (None, 10)                30        \n",
      "                                                                 \n",
      " dense_3 (Dense)             (None, 1)                 11        \n",
      "                                                                 \n",
      "=================================================================\n",
      "Total params: 41\n",
      "Trainable params: 41\n",
      "Non-trainable params: 0\n",
      "_________________________________________________________________\n"
     ]
    }
   ],
   "source": [
    "model = Sequential()\n",
    "model.add(Dense(10, activation='sigmoid', input_dim=2))\n",
    "model.add(Dense(1, activation ='sigmoid'))\n",
    "model.summary()"
   ]
  },
  {
   "cell_type": "code",
   "execution_count": 26,
   "metadata": {
    "colab": {
     "base_uri": "https://localhost:8080/"
    },
    "id": "uakV1pQ9usFd",
    "outputId": "0ac770b0-9422-4163-ed08-41c8e8f4e960"
   },
   "outputs": [
    {
     "data": {
      "text/plain": [
       "[array([[-0.5512361 , -0.47782826,  0.48821253,  0.10443264, -0.27179155,\n",
       "          0.17377853,  0.25135165, -0.6288008 ,  0.16779184,  0.62980825],\n",
       "        [-0.44346222,  0.52543885,  0.5542932 ,  0.43818444, -0.05784148,\n",
       "          0.6130493 , -0.02281141,  0.15731853,  0.5728404 , -0.1660896 ]],\n",
       "       dtype=float32),\n",
       " array([0., 0., 0., 0., 0., 0., 0., 0., 0., 0.], dtype=float32),\n",
       " array([[-0.18917489],\n",
       "        [-0.58485633],\n",
       "        [ 0.24464339],\n",
       "        [ 0.3560608 ],\n",
       "        [ 0.13226306],\n",
       "        [-0.17807388],\n",
       "        [ 0.3409676 ],\n",
       "        [ 0.60919553],\n",
       "        [ 0.65054053],\n",
       "        [ 0.603414  ]], dtype=float32),\n",
       " array([0.], dtype=float32)]"
      ]
     },
     "execution_count": 26,
     "metadata": {},
     "output_type": "execute_result"
    }
   ],
   "source": [
    "model.get_weights()"
   ]
  },
  {
   "cell_type": "code",
   "execution_count": 27,
   "metadata": {
    "id": "ksEQV5feuq1r"
   },
   "outputs": [],
   "source": [
    "initial_weights = model.get_weights()"
   ]
  },
  {
   "cell_type": "code",
   "execution_count": 16,
   "metadata": {
    "id": "ifjld3u7ufCg"
   },
   "outputs": [],
   "source": [
    "initial_weights[0] = np.zeros(model.get_weights()[0].shape)\n",
    "initial_weights[1] = np.zeros(model.get_weights()[1].shape)\n",
    "initial_weights[2] = np.zeros(model.get_weights()[2].shape)\n",
    "initial_weights[3] = np.zeros(model.get_weights()[3].shape)"
   ]
  },
  {
   "cell_type": "code",
   "execution_count": 17,
   "metadata": {
    "id": "O_NYvekeufEw"
   },
   "outputs": [],
   "source": [
    "model.set_weights(initial_weights)"
   ]
  },
  {
   "cell_type": "code",
   "execution_count": 18,
   "metadata": {
    "colab": {
     "base_uri": "https://localhost:8080/"
    },
    "id": "aNrwAf_oufIL",
    "outputId": "4fc1727b-9586-4735-f9aa-ce4b61514110"
   },
   "outputs": [
    {
     "data": {
      "text/plain": [
       "[array([[0., 0., 0., 0., 0., 0., 0., 0., 0., 0.],\n",
       "        [0., 0., 0., 0., 0., 0., 0., 0., 0., 0.]], dtype=float32),\n",
       " array([0., 0., 0., 0., 0., 0., 0., 0., 0., 0.], dtype=float32),\n",
       " array([[0.],\n",
       "        [0.],\n",
       "        [0.],\n",
       "        [0.],\n",
       "        [0.],\n",
       "        [0.],\n",
       "        [0.],\n",
       "        [0.],\n",
       "        [0.],\n",
       "        [0.]], dtype=float32),\n",
       " array([0.], dtype=float32)]"
      ]
     },
     "execution_count": 18,
     "metadata": {},
     "output_type": "execute_result"
    }
   ],
   "source": [
    "model.get_weights()"
   ]
  },
  {
   "cell_type": "code",
   "execution_count": 19,
   "metadata": {
    "id": "RbWU4h6sufLk"
   },
   "outputs": [],
   "source": [
    "model.compile(optimizer='adam', loss='binary_crossentropy', metrics=['accuracy'])"
   ]
  },
  {
   "cell_type": "code",
   "execution_count": 20,
   "metadata": {
    "colab": {
     "base_uri": "https://localhost:8080/"
    },
    "id": "AIQ38XhOzWcK",
    "outputId": "341ff901-e5ea-4c9a-b1ff-a1da074069f4"
   },
   "outputs": [
    {
     "name": "stdout",
     "output_type": "stream",
     "text": [
      "Epoch 1/100\n",
      "7/7 [==============================] - 4s 37ms/step - loss: 0.6934 - accuracy: 0.5150 - val_loss: 0.6940 - val_accuracy: 0.4400\n",
      "Epoch 2/100\n",
      "7/7 [==============================] - 0s 8ms/step - loss: 0.6931 - accuracy: 0.5150 - val_loss: 0.6941 - val_accuracy: 0.4400\n",
      "Epoch 3/100\n",
      "7/7 [==============================] - 0s 10ms/step - loss: 0.6930 - accuracy: 0.5150 - val_loss: 0.6941 - val_accuracy: 0.4400\n",
      "Epoch 4/100\n",
      "7/7 [==============================] - 0s 7ms/step - loss: 0.6930 - accuracy: 0.5150 - val_loss: 0.6938 - val_accuracy: 0.4400\n",
      "Epoch 5/100\n",
      "7/7 [==============================] - 0s 10ms/step - loss: 0.6930 - accuracy: 0.5150 - val_loss: 0.6938 - val_accuracy: 0.4400\n",
      "Epoch 6/100\n",
      "7/7 [==============================] - 0s 7ms/step - loss: 0.6930 - accuracy: 0.5150 - val_loss: 0.6939 - val_accuracy: 0.4400\n",
      "Epoch 7/100\n",
      "7/7 [==============================] - 0s 8ms/step - loss: 0.6930 - accuracy: 0.5150 - val_loss: 0.6939 - val_accuracy: 0.4400\n",
      "Epoch 8/100\n",
      "7/7 [==============================] - 0s 8ms/step - loss: 0.6932 - accuracy: 0.5150 - val_loss: 0.6936 - val_accuracy: 0.4400\n",
      "Epoch 9/100\n",
      "7/7 [==============================] - 0s 10ms/step - loss: 0.6930 - accuracy: 0.5150 - val_loss: 0.6940 - val_accuracy: 0.4400\n",
      "Epoch 10/100\n",
      "7/7 [==============================] - 0s 11ms/step - loss: 0.6929 - accuracy: 0.5150 - val_loss: 0.6945 - val_accuracy: 0.4400\n",
      "Epoch 11/100\n",
      "7/7 [==============================] - 0s 8ms/step - loss: 0.6928 - accuracy: 0.5150 - val_loss: 0.6948 - val_accuracy: 0.4400\n",
      "Epoch 12/100\n",
      "7/7 [==============================] - 0s 10ms/step - loss: 0.6928 - accuracy: 0.5150 - val_loss: 0.6954 - val_accuracy: 0.4400\n",
      "Epoch 13/100\n",
      "7/7 [==============================] - 0s 11ms/step - loss: 0.6929 - accuracy: 0.5150 - val_loss: 0.6962 - val_accuracy: 0.4400\n",
      "Epoch 14/100\n",
      "7/7 [==============================] - 0s 8ms/step - loss: 0.6928 - accuracy: 0.5150 - val_loss: 0.6961 - val_accuracy: 0.4400\n",
      "Epoch 15/100\n",
      "7/7 [==============================] - 0s 8ms/step - loss: 0.6928 - accuracy: 0.5150 - val_loss: 0.6964 - val_accuracy: 0.4400\n",
      "Epoch 16/100\n",
      "7/7 [==============================] - 0s 11ms/step - loss: 0.6927 - accuracy: 0.5150 - val_loss: 0.6966 - val_accuracy: 0.4400\n",
      "Epoch 17/100\n",
      "7/7 [==============================] - 0s 10ms/step - loss: 0.6927 - accuracy: 0.5150 - val_loss: 0.6965 - val_accuracy: 0.4400\n",
      "Epoch 18/100\n",
      "7/7 [==============================] - 0s 8ms/step - loss: 0.6928 - accuracy: 0.5150 - val_loss: 0.6970 - val_accuracy: 0.4400\n",
      "Epoch 19/100\n",
      "7/7 [==============================] - 0s 8ms/step - loss: 0.6927 - accuracy: 0.5150 - val_loss: 0.6970 - val_accuracy: 0.4400\n",
      "Epoch 20/100\n",
      "7/7 [==============================] - 0s 8ms/step - loss: 0.6928 - accuracy: 0.5150 - val_loss: 0.6967 - val_accuracy: 0.4400\n",
      "Epoch 21/100\n",
      "7/7 [==============================] - 0s 8ms/step - loss: 0.6928 - accuracy: 0.5150 - val_loss: 0.6968 - val_accuracy: 0.4400\n",
      "Epoch 22/100\n",
      "7/7 [==============================] - 0s 8ms/step - loss: 0.6928 - accuracy: 0.5150 - val_loss: 0.6974 - val_accuracy: 0.4400\n",
      "Epoch 23/100\n",
      "7/7 [==============================] - 0s 11ms/step - loss: 0.6926 - accuracy: 0.5150 - val_loss: 0.6978 - val_accuracy: 0.4400\n",
      "Epoch 24/100\n",
      "7/7 [==============================] - 0s 8ms/step - loss: 0.6926 - accuracy: 0.5150 - val_loss: 0.6986 - val_accuracy: 0.4400\n",
      "Epoch 25/100\n",
      "7/7 [==============================] - 0s 7ms/step - loss: 0.6927 - accuracy: 0.5150 - val_loss: 0.6992 - val_accuracy: 0.4400\n",
      "Epoch 26/100\n",
      "7/7 [==============================] - 0s 7ms/step - loss: 0.6928 - accuracy: 0.5150 - val_loss: 0.6996 - val_accuracy: 0.4400\n",
      "Epoch 27/100\n",
      "7/7 [==============================] - 0s 8ms/step - loss: 0.6928 - accuracy: 0.5150 - val_loss: 0.7001 - val_accuracy: 0.4400\n",
      "Epoch 28/100\n",
      "7/7 [==============================] - 0s 11ms/step - loss: 0.6928 - accuracy: 0.5150 - val_loss: 0.6998 - val_accuracy: 0.4400\n",
      "Epoch 29/100\n",
      "7/7 [==============================] - 0s 8ms/step - loss: 0.6928 - accuracy: 0.5150 - val_loss: 0.6992 - val_accuracy: 0.4400\n",
      "Epoch 30/100\n",
      "7/7 [==============================] - 0s 10ms/step - loss: 0.6927 - accuracy: 0.5150 - val_loss: 0.6984 - val_accuracy: 0.4400\n",
      "Epoch 31/100\n",
      "7/7 [==============================] - 0s 7ms/step - loss: 0.6927 - accuracy: 0.5150 - val_loss: 0.6977 - val_accuracy: 0.4400\n",
      "Epoch 32/100\n",
      "7/7 [==============================] - 0s 10ms/step - loss: 0.6927 - accuracy: 0.5150 - val_loss: 0.6975 - val_accuracy: 0.4400\n",
      "Epoch 33/100\n",
      "7/7 [==============================] - 0s 10ms/step - loss: 0.6927 - accuracy: 0.5150 - val_loss: 0.6971 - val_accuracy: 0.4400\n",
      "Epoch 34/100\n",
      "7/7 [==============================] - 0s 8ms/step - loss: 0.6927 - accuracy: 0.5150 - val_loss: 0.6968 - val_accuracy: 0.4400\n",
      "Epoch 35/100\n",
      "7/7 [==============================] - 0s 8ms/step - loss: 0.6928 - accuracy: 0.5150 - val_loss: 0.6965 - val_accuracy: 0.4400\n",
      "Epoch 36/100\n",
      "7/7 [==============================] - 0s 8ms/step - loss: 0.6927 - accuracy: 0.5150 - val_loss: 0.6969 - val_accuracy: 0.4400\n",
      "Epoch 37/100\n",
      "7/7 [==============================] - 0s 11ms/step - loss: 0.6927 - accuracy: 0.5150 - val_loss: 0.6971 - val_accuracy: 0.4400\n",
      "Epoch 38/100\n",
      "7/7 [==============================] - 0s 10ms/step - loss: 0.6927 - accuracy: 0.5150 - val_loss: 0.6973 - val_accuracy: 0.4400\n",
      "Epoch 39/100\n",
      "7/7 [==============================] - 0s 10ms/step - loss: 0.6927 - accuracy: 0.5150 - val_loss: 0.6974 - val_accuracy: 0.4400\n",
      "Epoch 40/100\n",
      "7/7 [==============================] - 0s 8ms/step - loss: 0.6927 - accuracy: 0.5150 - val_loss: 0.6974 - val_accuracy: 0.4400\n",
      "Epoch 41/100\n",
      "7/7 [==============================] - 0s 8ms/step - loss: 0.6929 - accuracy: 0.5150 - val_loss: 0.6971 - val_accuracy: 0.4400\n",
      "Epoch 42/100\n",
      "7/7 [==============================] - 0s 7ms/step - loss: 0.6927 - accuracy: 0.5150 - val_loss: 0.6977 - val_accuracy: 0.4400\n",
      "Epoch 43/100\n",
      "7/7 [==============================] - 0s 10ms/step - loss: 0.6929 - accuracy: 0.5150 - val_loss: 0.6982 - val_accuracy: 0.4400\n",
      "Epoch 44/100\n",
      "7/7 [==============================] - 0s 10ms/step - loss: 0.6927 - accuracy: 0.5150 - val_loss: 0.6980 - val_accuracy: 0.4400\n",
      "Epoch 45/100\n",
      "7/7 [==============================] - 0s 10ms/step - loss: 0.6927 - accuracy: 0.5150 - val_loss: 0.6977 - val_accuracy: 0.4400\n",
      "Epoch 46/100\n",
      "7/7 [==============================] - 0s 10ms/step - loss: 0.6927 - accuracy: 0.5150 - val_loss: 0.6974 - val_accuracy: 0.4400\n",
      "Epoch 47/100\n",
      "7/7 [==============================] - 0s 10ms/step - loss: 0.6927 - accuracy: 0.5150 - val_loss: 0.6970 - val_accuracy: 0.4400\n",
      "Epoch 48/100\n",
      "7/7 [==============================] - 0s 10ms/step - loss: 0.6927 - accuracy: 0.5150 - val_loss: 0.6968 - val_accuracy: 0.4400\n",
      "Epoch 49/100\n",
      "7/7 [==============================] - 0s 10ms/step - loss: 0.6927 - accuracy: 0.5150 - val_loss: 0.6973 - val_accuracy: 0.4400\n",
      "Epoch 50/100\n",
      "7/7 [==============================] - 0s 8ms/step - loss: 0.6927 - accuracy: 0.5150 - val_loss: 0.6978 - val_accuracy: 0.4400\n",
      "Epoch 51/100\n",
      "7/7 [==============================] - 0s 8ms/step - loss: 0.6927 - accuracy: 0.5150 - val_loss: 0.6981 - val_accuracy: 0.4400\n",
      "Epoch 52/100\n",
      "7/7 [==============================] - 0s 8ms/step - loss: 0.6927 - accuracy: 0.5150 - val_loss: 0.6983 - val_accuracy: 0.4400\n",
      "Epoch 53/100\n",
      "7/7 [==============================] - 0s 8ms/step - loss: 0.6927 - accuracy: 0.5150 - val_loss: 0.6979 - val_accuracy: 0.4400\n",
      "Epoch 54/100\n",
      "7/7 [==============================] - 0s 10ms/step - loss: 0.6932 - accuracy: 0.5150 - val_loss: 0.6971 - val_accuracy: 0.4400\n",
      "Epoch 55/100\n",
      "7/7 [==============================] - 0s 8ms/step - loss: 0.6927 - accuracy: 0.5150 - val_loss: 0.6976 - val_accuracy: 0.4400\n",
      "Epoch 56/100\n",
      "7/7 [==============================] - 0s 8ms/step - loss: 0.6927 - accuracy: 0.5150 - val_loss: 0.6977 - val_accuracy: 0.4400\n",
      "Epoch 57/100\n",
      "7/7 [==============================] - 0s 10ms/step - loss: 0.6927 - accuracy: 0.5150 - val_loss: 0.6983 - val_accuracy: 0.4400\n",
      "Epoch 58/100\n",
      "7/7 [==============================] - 0s 8ms/step - loss: 0.6927 - accuracy: 0.5150 - val_loss: 0.6980 - val_accuracy: 0.4400\n",
      "Epoch 59/100\n",
      "7/7 [==============================] - 0s 9ms/step - loss: 0.6927 - accuracy: 0.5150 - val_loss: 0.6984 - val_accuracy: 0.4400\n",
      "Epoch 60/100\n",
      "7/7 [==============================] - 0s 7ms/step - loss: 0.6927 - accuracy: 0.5150 - val_loss: 0.6987 - val_accuracy: 0.4400\n",
      "Epoch 61/100\n",
      "7/7 [==============================] - 0s 7ms/step - loss: 0.6927 - accuracy: 0.5150 - val_loss: 0.6992 - val_accuracy: 0.4400\n",
      "Epoch 62/100\n",
      "7/7 [==============================] - 0s 8ms/step - loss: 0.6927 - accuracy: 0.5150 - val_loss: 0.6996 - val_accuracy: 0.4400\n",
      "Epoch 63/100\n",
      "7/7 [==============================] - 0s 8ms/step - loss: 0.6928 - accuracy: 0.5150 - val_loss: 0.7001 - val_accuracy: 0.4400\n",
      "Epoch 64/100\n",
      "7/7 [==============================] - 0s 11ms/step - loss: 0.6928 - accuracy: 0.5150 - val_loss: 0.7001 - val_accuracy: 0.4400\n",
      "Epoch 65/100\n",
      "7/7 [==============================] - 0s 22ms/step - loss: 0.6928 - accuracy: 0.5150 - val_loss: 0.6992 - val_accuracy: 0.4400\n",
      "Epoch 66/100\n",
      "7/7 [==============================] - 0s 11ms/step - loss: 0.6926 - accuracy: 0.5150 - val_loss: 0.6986 - val_accuracy: 0.4400\n",
      "Epoch 67/100\n",
      "7/7 [==============================] - 0s 13ms/step - loss: 0.6929 - accuracy: 0.5150 - val_loss: 0.6975 - val_accuracy: 0.4400\n",
      "Epoch 68/100\n",
      "7/7 [==============================] - 0s 14ms/step - loss: 0.6927 - accuracy: 0.5150 - val_loss: 0.6977 - val_accuracy: 0.4400\n",
      "Epoch 69/100\n",
      "7/7 [==============================] - 0s 13ms/step - loss: 0.6928 - accuracy: 0.5150 - val_loss: 0.6984 - val_accuracy: 0.4400\n",
      "Epoch 70/100\n",
      "7/7 [==============================] - 0s 12ms/step - loss: 0.6927 - accuracy: 0.5150 - val_loss: 0.6982 - val_accuracy: 0.4400\n",
      "Epoch 71/100\n",
      "7/7 [==============================] - 0s 13ms/step - loss: 0.6927 - accuracy: 0.5150 - val_loss: 0.6981 - val_accuracy: 0.4400\n",
      "Epoch 72/100\n",
      "7/7 [==============================] - 0s 10ms/step - loss: 0.6928 - accuracy: 0.5150 - val_loss: 0.6975 - val_accuracy: 0.4400\n",
      "Epoch 73/100\n",
      "7/7 [==============================] - 0s 13ms/step - loss: 0.6927 - accuracy: 0.5150 - val_loss: 0.6972 - val_accuracy: 0.4400\n",
      "Epoch 74/100\n",
      "7/7 [==============================] - 0s 13ms/step - loss: 0.6927 - accuracy: 0.5150 - val_loss: 0.6970 - val_accuracy: 0.4400\n",
      "Epoch 75/100\n",
      "7/7 [==============================] - 0s 15ms/step - loss: 0.6927 - accuracy: 0.5150 - val_loss: 0.6964 - val_accuracy: 0.4400\n",
      "Epoch 76/100\n",
      "7/7 [==============================] - 0s 11ms/step - loss: 0.6928 - accuracy: 0.5150 - val_loss: 0.6961 - val_accuracy: 0.4400\n",
      "Epoch 77/100\n",
      "7/7 [==============================] - 0s 11ms/step - loss: 0.6927 - accuracy: 0.5150 - val_loss: 0.6962 - val_accuracy: 0.4400\n",
      "Epoch 78/100\n",
      "7/7 [==============================] - 0s 11ms/step - loss: 0.6927 - accuracy: 0.5150 - val_loss: 0.6966 - val_accuracy: 0.4400\n",
      "Epoch 79/100\n",
      "7/7 [==============================] - 0s 13ms/step - loss: 0.6927 - accuracy: 0.5150 - val_loss: 0.6967 - val_accuracy: 0.4400\n",
      "Epoch 80/100\n",
      "7/7 [==============================] - 0s 12ms/step - loss: 0.6927 - accuracy: 0.5150 - val_loss: 0.6967 - val_accuracy: 0.4400\n",
      "Epoch 81/100\n",
      "7/7 [==============================] - 0s 12ms/step - loss: 0.6927 - accuracy: 0.5150 - val_loss: 0.6967 - val_accuracy: 0.4400\n",
      "Epoch 82/100\n",
      "7/7 [==============================] - 0s 11ms/step - loss: 0.6927 - accuracy: 0.5150 - val_loss: 0.6972 - val_accuracy: 0.4400\n",
      "Epoch 83/100\n",
      "7/7 [==============================] - 0s 15ms/step - loss: 0.6926 - accuracy: 0.5150 - val_loss: 0.6974 - val_accuracy: 0.4400\n",
      "Epoch 84/100\n",
      "7/7 [==============================] - 0s 13ms/step - loss: 0.6929 - accuracy: 0.5150 - val_loss: 0.6969 - val_accuracy: 0.4400\n",
      "Epoch 85/100\n",
      "7/7 [==============================] - 0s 11ms/step - loss: 0.6927 - accuracy: 0.5150 - val_loss: 0.6969 - val_accuracy: 0.4400\n",
      "Epoch 86/100\n",
      "7/7 [==============================] - 0s 13ms/step - loss: 0.6926 - accuracy: 0.5150 - val_loss: 0.6974 - val_accuracy: 0.4400\n",
      "Epoch 87/100\n",
      "7/7 [==============================] - 0s 11ms/step - loss: 0.6927 - accuracy: 0.5150 - val_loss: 0.6979 - val_accuracy: 0.4400\n",
      "Epoch 88/100\n",
      "7/7 [==============================] - 0s 10ms/step - loss: 0.6926 - accuracy: 0.5150 - val_loss: 0.6978 - val_accuracy: 0.4400\n",
      "Epoch 89/100\n",
      "7/7 [==============================] - 0s 11ms/step - loss: 0.6927 - accuracy: 0.5150 - val_loss: 0.6981 - val_accuracy: 0.4400\n",
      "Epoch 90/100\n",
      "7/7 [==============================] - 0s 11ms/step - loss: 0.6927 - accuracy: 0.5150 - val_loss: 0.6982 - val_accuracy: 0.4400\n",
      "Epoch 91/100\n",
      "7/7 [==============================] - 0s 9ms/step - loss: 0.6926 - accuracy: 0.5150 - val_loss: 0.6983 - val_accuracy: 0.4400\n",
      "Epoch 92/100\n",
      "7/7 [==============================] - 0s 9ms/step - loss: 0.6927 - accuracy: 0.5150 - val_loss: 0.6985 - val_accuracy: 0.4400\n",
      "Epoch 93/100\n",
      "7/7 [==============================] - 0s 8ms/step - loss: 0.6927 - accuracy: 0.5150 - val_loss: 0.6980 - val_accuracy: 0.4400\n",
      "Epoch 94/100\n",
      "7/7 [==============================] - 0s 11ms/step - loss: 0.6927 - accuracy: 0.5150 - val_loss: 0.6982 - val_accuracy: 0.4400\n",
      "Epoch 95/100\n",
      "7/7 [==============================] - 0s 10ms/step - loss: 0.6927 - accuracy: 0.5150 - val_loss: 0.6987 - val_accuracy: 0.4400\n",
      "Epoch 96/100\n",
      "7/7 [==============================] - 0s 11ms/step - loss: 0.6927 - accuracy: 0.5150 - val_loss: 0.6991 - val_accuracy: 0.4400\n",
      "Epoch 97/100\n",
      "7/7 [==============================] - 0s 8ms/step - loss: 0.6927 - accuracy: 0.5150 - val_loss: 0.6993 - val_accuracy: 0.4400\n",
      "Epoch 98/100\n",
      "7/7 [==============================] - 0s 8ms/step - loss: 0.6927 - accuracy: 0.5150 - val_loss: 0.6996 - val_accuracy: 0.4400\n",
      "Epoch 99/100\n",
      "7/7 [==============================] - 0s 10ms/step - loss: 0.6927 - accuracy: 0.5150 - val_loss: 0.6997 - val_accuracy: 0.4400\n",
      "Epoch 100/100\n",
      "7/7 [==============================] - 0s 8ms/step - loss: 0.6927 - accuracy: 0.5150 - val_loss: 0.6996 - val_accuracy: 0.4400\n"
     ]
    }
   ],
   "source": [
    "history = model.fit(x, y, epochs=100, validation_split=0.2)"
   ]
  },
  {
   "cell_type": "code",
   "execution_count": 21,
   "metadata": {
    "colab": {
     "base_uri": "https://localhost:8080/"
    },
    "id": "7QIpb0LozWfm",
    "outputId": "840b38cc-9c04-44a0-a819-fb35893803b2"
   },
   "outputs": [
    {
     "data": {
      "text/plain": [
       "[array([[ 0.18602984,  0.18602984,  0.18602984,  0.18602984,  0.18602984,\n",
       "          0.18602984,  0.18602984,  0.18602984,  0.18602984,  0.18602984],\n",
       "        [-0.06291625, -0.06291625, -0.06291625, -0.06291625, -0.06291625,\n",
       "         -0.06291625, -0.06291625, -0.06291625, -0.06291625, -0.06291625]],\n",
       "       dtype=float32),\n",
       " array([-0.00902669, -0.00902669, -0.00902669, -0.00902669, -0.00902669,\n",
       "        -0.00902669, -0.00902669, -0.00902669, -0.00902669, -0.00902669],\n",
       "       dtype=float32),\n",
       " array([[-0.01500552],\n",
       "        [-0.01500552],\n",
       "        [-0.01500552],\n",
       "        [-0.01500552],\n",
       "        [-0.01500552],\n",
       "        [-0.01500552],\n",
       "        [-0.01500552],\n",
       "        [-0.01500552],\n",
       "        [-0.01500552],\n",
       "        [-0.01500552]], dtype=float32),\n",
       " array([-0.00998565], dtype=float32)]"
      ]
     },
     "execution_count": 21,
     "metadata": {},
     "output_type": "execute_result"
    }
   ],
   "source": [
    "model.get_weights()"
   ]
  },
  {
   "cell_type": "code",
   "execution_count": 22,
   "metadata": {
    "colab": {
     "base_uri": "https://localhost:8080/",
     "height": 389
    },
    "id": "jWzC8v0Rz1tC",
    "outputId": "b9d13b12-08b3-4187-9eb3-91cd152e9186"
   },
   "outputs": [
    {
     "name": "stdout",
     "output_type": "stream",
     "text": [
      "3888/3888 [==============================] - 6s 2ms/step\n"
     ]
    },
    {
     "name": "stderr",
     "output_type": "stream",
     "text": [
      "/usr/local/lib/python3.8/dist-packages/mlxtend/plotting/decision_regions.py:239: UserWarning: No contour levels were found within the data range.\n",
      "  ax.contour(xx, yy, Z, cset.levels,\n",
      "/usr/local/lib/python3.8/dist-packages/mlxtend/plotting/decision_regions.py:244: MatplotlibDeprecationWarning: Passing unsupported keyword arguments to axis() will raise a TypeError in 3.3.\n",
      "  ax.axis(xmin=xx.min(), xmax=xx.max(), y_min=yy.min(), y_max=yy.max())\n"
     ]
    },
    {
     "data": {
      "text/plain": [
       "<matplotlib.axes._subplots.AxesSubplot at 0x7f3bfc3d72e0>"
      ]
     },
     "execution_count": 22,
     "metadata": {},
     "output_type": "execute_result"
    },
    {
     "data": {
      "image/png": "[encoded data removed]",
      "text/plain": [
       "<Figure size 432x288 with 1 Axes>"
      ]
     },
     "metadata": {
      "needs_background": "light"
     },
     "output_type": "display_data"
    }
   ],
   "source": [
    "plot_decision_regions(x, y.astype('int'), clf=model, legend=2)"
   ]
  },
  {
   "cell_type": "code",
   "execution_count": null,
   "metadata": {
    "id": "ky4qGSIZzWih"
   },
   "outputs": [],
   "source": []
  },
  {
   "cell_type": "code",
   "execution_count": null,
   "metadata": {
    "id": "EksdjiwVzWl4"
   },
   "outputs": [],
   "source": []
  },
  {
   "cell_type": "code",
   "execution_count": null,
   "metadata": {
    "id": "r8kKEPWm065w"
   },
   "outputs": [],
   "source": []
  },
  {
   "cell_type": "markdown",
   "metadata": {
    "id": "i0Oz-VxE07Pf"
   },
   "source": [
    "# Non-zero constant weight initialization"
   ]
  },
  {
   "cell_type": "code",
   "execution_count": 28,
   "metadata": {
    "id": "2vH6hbnXzWn-"
   },
   "outputs": [],
   "source": [
    "initial_weights[0] = np.ones(model.get_weights()[0].shape)*0.5\n",
    "initial_weights[1] = np.ones(model.get_weights()[1].shape)*0.5\n",
    "initial_weights[2] = np.ones(model.get_weights()[2].shape)*0.5\n",
    "initial_weights[3] = np.ones(model.get_weights()[3].shape)*0.5"
   ]
  },
  {
   "cell_type": "code",
   "execution_count": 29,
   "metadata": {
    "id": "O0lIJmfmzWq1"
   },
   "outputs": [],
   "source": [
    "model.set_weights(initial_weights)"
   ]
  },
  {
   "cell_type": "code",
   "execution_count": 30,
   "metadata": {
    "colab": {
     "base_uri": "https://localhost:8080/"
    },
    "id": "aTKcA4wJ1P3E",
    "outputId": "bdab3ac8-aea8-428d-bc4a-c423ca4718aa"
   },
   "outputs": [
    {
     "data": {
      "text/plain": [
       "[array([[0.5, 0.5, 0.5, 0.5, 0.5, 0.5, 0.5, 0.5, 0.5, 0.5],\n",
       "        [0.5, 0.5, 0.5, 0.5, 0.5, 0.5, 0.5, 0.5, 0.5, 0.5]], dtype=float32),\n",
       " array([0.5, 0.5, 0.5, 0.5, 0.5, 0.5, 0.5, 0.5, 0.5, 0.5], dtype=float32),\n",
       " array([[0.5],\n",
       "        [0.5],\n",
       "        [0.5],\n",
       "        [0.5],\n",
       "        [0.5],\n",
       "        [0.5],\n",
       "        [0.5],\n",
       "        [0.5],\n",
       "        [0.5],\n",
       "        [0.5]], dtype=float32),\n",
       " array([0.5], dtype=float32)]"
      ]
     },
     "execution_count": 30,
     "metadata": {},
     "output_type": "execute_result"
    }
   ],
   "source": [
    "model.get_weights()"
   ]
  },
  {
   "cell_type": "code",
   "execution_count": 31,
   "metadata": {
    "id": "-I6Me4PP1SkZ"
   },
   "outputs": [],
   "source": [
    "model.compile(optimizer='adam', loss='binary_crossentropy', metrics=['accuracy'])"
   ]
  },
  {
   "cell_type": "code",
   "execution_count": 32,
   "metadata": {
    "colab": {
     "base_uri": "https://localhost:8080/"
    },
    "id": "8bpP1aIL1a6H",
    "outputId": "7981cbf9-1955-4a6f-9c21-33c0e796d16a"
   },
   "outputs": [
    {
     "name": "stdout",
     "output_type": "stream",
     "text": [
      "Epoch 1/100\n",
      "7/7 [==============================] - 1s 45ms/step - loss: 1.8647 - accuracy: 0.4850 - val_loss: 1.5654 - val_accuracy: 0.5600\n",
      "Epoch 2/100\n",
      "7/7 [==============================] - 0s 13ms/step - loss: 1.8376 - accuracy: 0.4850 - val_loss: 1.5423 - val_accuracy: 0.5600\n",
      "Epoch 3/100\n",
      "7/7 [==============================] - 0s 12ms/step - loss: 1.8095 - accuracy: 0.4850 - val_loss: 1.5197 - val_accuracy: 0.5600\n",
      "Epoch 4/100\n",
      "7/7 [==============================] - 0s 13ms/step - loss: 1.7824 - accuracy: 0.4850 - val_loss: 1.4972 - val_accuracy: 0.5600\n",
      "Epoch 5/100\n",
      "7/7 [==============================] - 0s 12ms/step - loss: 1.7557 - accuracy: 0.4850 - val_loss: 1.4745 - val_accuracy: 0.5600\n",
      "Epoch 6/100\n",
      "7/7 [==============================] - 0s 10ms/step - loss: 1.7291 - accuracy: 0.4850 - val_loss: 1.4524 - val_accuracy: 0.5600\n",
      "Epoch 7/100\n",
      "7/7 [==============================] - 0s 10ms/step - loss: 1.7027 - accuracy: 0.4850 - val_loss: 1.4305 - val_accuracy: 0.5600\n",
      "Epoch 8/100\n",
      "7/7 [==============================] - 0s 8ms/step - loss: 1.6770 - accuracy: 0.4850 - val_loss: 1.4088 - val_accuracy: 0.5600\n",
      "Epoch 9/100\n",
      "7/7 [==============================] - 0s 8ms/step - loss: 1.6514 - accuracy: 0.4850 - val_loss: 1.3877 - val_accuracy: 0.5600\n",
      "Epoch 10/100\n",
      "7/7 [==============================] - 0s 8ms/step - loss: 1.6259 - accuracy: 0.4850 - val_loss: 1.3675 - val_accuracy: 0.5600\n",
      "Epoch 11/100\n",
      "7/7 [==============================] - 0s 8ms/step - loss: 1.6017 - accuracy: 0.4850 - val_loss: 1.3469 - val_accuracy: 0.5600\n",
      "Epoch 12/100\n",
      "7/7 [==============================] - 0s 8ms/step - loss: 1.5777 - accuracy: 0.4850 - val_loss: 1.3261 - val_accuracy: 0.5600\n",
      "Epoch 13/100\n",
      "7/7 [==============================] - 0s 11ms/step - loss: 1.5524 - accuracy: 0.4850 - val_loss: 1.3062 - val_accuracy: 0.5600\n",
      "Epoch 14/100\n",
      "7/7 [==============================] - 0s 10ms/step - loss: 1.5289 - accuracy: 0.4850 - val_loss: 1.2868 - val_accuracy: 0.5600\n",
      "Epoch 15/100\n",
      "7/7 [==============================] - 0s 7ms/step - loss: 1.5051 - accuracy: 0.4850 - val_loss: 1.2675 - val_accuracy: 0.5600\n",
      "Epoch 16/100\n",
      "7/7 [==============================] - 0s 7ms/step - loss: 1.4818 - accuracy: 0.4850 - val_loss: 1.2478 - val_accuracy: 0.5600\n",
      "Epoch 17/100\n",
      "7/7 [==============================] - 0s 7ms/step - loss: 1.4587 - accuracy: 0.4850 - val_loss: 1.2296 - val_accuracy: 0.5600\n",
      "Epoch 18/100\n",
      "7/7 [==============================] - 0s 10ms/step - loss: 1.4374 - accuracy: 0.4850 - val_loss: 1.2115 - val_accuracy: 0.5600\n",
      "Epoch 19/100\n",
      "7/7 [==============================] - 0s 9ms/step - loss: 1.4151 - accuracy: 0.4850 - val_loss: 1.1936 - val_accuracy: 0.5600\n",
      "Epoch 20/100\n",
      "7/7 [==============================] - 0s 10ms/step - loss: 1.3930 - accuracy: 0.4850 - val_loss: 1.1753 - val_accuracy: 0.5600\n",
      "Epoch 21/100\n",
      "7/7 [==============================] - 0s 8ms/step - loss: 1.3719 - accuracy: 0.4850 - val_loss: 1.1576 - val_accuracy: 0.5600\n",
      "Epoch 22/100\n",
      "7/7 [==============================] - 0s 8ms/step - loss: 1.3499 - accuracy: 0.4850 - val_loss: 1.1411 - val_accuracy: 0.5600\n",
      "Epoch 23/100\n",
      "7/7 [==============================] - 0s 8ms/step - loss: 1.3299 - accuracy: 0.4850 - val_loss: 1.1248 - val_accuracy: 0.5600\n",
      "Epoch 24/100\n",
      "7/7 [==============================] - 0s 8ms/step - loss: 1.3099 - accuracy: 0.4850 - val_loss: 1.1083 - val_accuracy: 0.5600\n",
      "Epoch 25/100\n",
      "7/7 [==============================] - 0s 8ms/step - loss: 1.2903 - accuracy: 0.4850 - val_loss: 1.0931 - val_accuracy: 0.5600\n",
      "Epoch 26/100\n",
      "7/7 [==============================] - 0s 10ms/step - loss: 1.2712 - accuracy: 0.4850 - val_loss: 1.0775 - val_accuracy: 0.5600\n",
      "Epoch 27/100\n",
      "7/7 [==============================] - 0s 9ms/step - loss: 1.2522 - accuracy: 0.4850 - val_loss: 1.0618 - val_accuracy: 0.5600\n",
      "Epoch 28/100\n",
      "7/7 [==============================] - 0s 10ms/step - loss: 1.2333 - accuracy: 0.4850 - val_loss: 1.0464 - val_accuracy: 0.5600\n",
      "Epoch 29/100\n",
      "7/7 [==============================] - 0s 10ms/step - loss: 1.2149 - accuracy: 0.4850 - val_loss: 1.0319 - val_accuracy: 0.5600\n",
      "Epoch 30/100\n",
      "7/7 [==============================] - 0s 8ms/step - loss: 1.1964 - accuracy: 0.4850 - val_loss: 1.0179 - val_accuracy: 0.5600\n",
      "Epoch 31/100\n",
      "7/7 [==============================] - 0s 8ms/step - loss: 1.1794 - accuracy: 0.4850 - val_loss: 1.0037 - val_accuracy: 0.5600\n",
      "Epoch 32/100\n",
      "7/7 [==============================] - 0s 10ms/step - loss: 1.1620 - accuracy: 0.4850 - val_loss: 0.9900 - val_accuracy: 0.5600\n",
      "Epoch 33/100\n",
      "7/7 [==============================] - 0s 7ms/step - loss: 1.1445 - accuracy: 0.4850 - val_loss: 0.9769 - val_accuracy: 0.5600\n",
      "Epoch 34/100\n",
      "7/7 [==============================] - 0s 7ms/step - loss: 1.1282 - accuracy: 0.4850 - val_loss: 0.9635 - val_accuracy: 0.5600\n",
      "Epoch 35/100\n",
      "7/7 [==============================] - 0s 8ms/step - loss: 1.1117 - accuracy: 0.4850 - val_loss: 0.9504 - val_accuracy: 0.5600\n",
      "Epoch 36/100\n",
      "7/7 [==============================] - 0s 7ms/step - loss: 1.0953 - accuracy: 0.4850 - val_loss: 0.9380 - val_accuracy: 0.5600\n",
      "Epoch 37/100\n",
      "7/7 [==============================] - 0s 10ms/step - loss: 1.0807 - accuracy: 0.4850 - val_loss: 0.9257 - val_accuracy: 0.5600\n",
      "Epoch 38/100\n",
      "7/7 [==============================] - 0s 8ms/step - loss: 1.0648 - accuracy: 0.4850 - val_loss: 0.9141 - val_accuracy: 0.5600\n",
      "Epoch 39/100\n",
      "7/7 [==============================] - 0s 11ms/step - loss: 1.0503 - accuracy: 0.4850 - val_loss: 0.9030 - val_accuracy: 0.5600\n",
      "Epoch 40/100\n",
      "7/7 [==============================] - 0s 11ms/step - loss: 1.0363 - accuracy: 0.4850 - val_loss: 0.8924 - val_accuracy: 0.5600\n",
      "Epoch 41/100\n",
      "7/7 [==============================] - 0s 10ms/step - loss: 1.0225 - accuracy: 0.4850 - val_loss: 0.8816 - val_accuracy: 0.5600\n",
      "Epoch 42/100\n",
      "7/7 [==============================] - 0s 10ms/step - loss: 1.0086 - accuracy: 0.4850 - val_loss: 0.8712 - val_accuracy: 0.5600\n",
      "Epoch 43/100\n",
      "7/7 [==============================] - 0s 8ms/step - loss: 0.9953 - accuracy: 0.4850 - val_loss: 0.8609 - val_accuracy: 0.5600\n",
      "Epoch 44/100\n",
      "7/7 [==============================] - 0s 12ms/step - loss: 0.9823 - accuracy: 0.4850 - val_loss: 0.8510 - val_accuracy: 0.5600\n",
      "Epoch 45/100\n",
      "7/7 [==============================] - 0s 10ms/step - loss: 0.9694 - accuracy: 0.4850 - val_loss: 0.8415 - val_accuracy: 0.5600\n",
      "Epoch 46/100\n",
      "7/7 [==============================] - 0s 8ms/step - loss: 0.9568 - accuracy: 0.4850 - val_loss: 0.8323 - val_accuracy: 0.5600\n",
      "Epoch 47/100\n",
      "7/7 [==============================] - 0s 8ms/step - loss: 0.9456 - accuracy: 0.4850 - val_loss: 0.8240 - val_accuracy: 0.5600\n",
      "Epoch 48/100\n",
      "7/7 [==============================] - 0s 7ms/step - loss: 0.9346 - accuracy: 0.4850 - val_loss: 0.8161 - val_accuracy: 0.5600\n",
      "Epoch 49/100\n",
      "7/7 [==============================] - 0s 10ms/step - loss: 0.9243 - accuracy: 0.4850 - val_loss: 0.8086 - val_accuracy: 0.5600\n",
      "Epoch 50/100\n",
      "7/7 [==============================] - 0s 9ms/step - loss: 0.9144 - accuracy: 0.4850 - val_loss: 0.8011 - val_accuracy: 0.5600\n",
      "Epoch 51/100\n",
      "7/7 [==============================] - 0s 10ms/step - loss: 0.9038 - accuracy: 0.4850 - val_loss: 0.7939 - val_accuracy: 0.5600\n",
      "Epoch 52/100\n",
      "7/7 [==============================] - 0s 8ms/step - loss: 0.8945 - accuracy: 0.4850 - val_loss: 0.7865 - val_accuracy: 0.5600\n",
      "Epoch 53/100\n",
      "7/7 [==============================] - 0s 11ms/step - loss: 0.8848 - accuracy: 0.4850 - val_loss: 0.7793 - val_accuracy: 0.5600\n",
      "Epoch 54/100\n",
      "7/7 [==============================] - 0s 10ms/step - loss: 0.8744 - accuracy: 0.4850 - val_loss: 0.7728 - val_accuracy: 0.5600\n",
      "Epoch 55/100\n",
      "7/7 [==============================] - 0s 9ms/step - loss: 0.8662 - accuracy: 0.4850 - val_loss: 0.7665 - val_accuracy: 0.5600\n",
      "Epoch 56/100\n",
      "7/7 [==============================] - 0s 9ms/step - loss: 0.8568 - accuracy: 0.4850 - val_loss: 0.7609 - val_accuracy: 0.5600\n",
      "Epoch 57/100\n",
      "7/7 [==============================] - 0s 12ms/step - loss: 0.8495 - accuracy: 0.4850 - val_loss: 0.7555 - val_accuracy: 0.5600\n",
      "Epoch 58/100\n",
      "7/7 [==============================] - 0s 11ms/step - loss: 0.8414 - accuracy: 0.4850 - val_loss: 0.7507 - val_accuracy: 0.5600\n",
      "Epoch 59/100\n",
      "7/7 [==============================] - 0s 9ms/step - loss: 0.8345 - accuracy: 0.4850 - val_loss: 0.7455 - val_accuracy: 0.5600\n",
      "Epoch 60/100\n",
      "7/7 [==============================] - 0s 8ms/step - loss: 0.8267 - accuracy: 0.4850 - val_loss: 0.7404 - val_accuracy: 0.5600\n",
      "Epoch 61/100\n",
      "7/7 [==============================] - 0s 10ms/step - loss: 0.8192 - accuracy: 0.4850 - val_loss: 0.7355 - val_accuracy: 0.5600\n",
      "Epoch 62/100\n",
      "7/7 [==============================] - 0s 10ms/step - loss: 0.8120 - accuracy: 0.4850 - val_loss: 0.7309 - val_accuracy: 0.5600\n",
      "Epoch 63/100\n",
      "7/7 [==============================] - 0s 12ms/step - loss: 0.8052 - accuracy: 0.4850 - val_loss: 0.7267 - val_accuracy: 0.5600\n",
      "Epoch 64/100\n",
      "7/7 [==============================] - 0s 8ms/step - loss: 0.7986 - accuracy: 0.4850 - val_loss: 0.7227 - val_accuracy: 0.5600\n",
      "Epoch 65/100\n",
      "7/7 [==============================] - 0s 10ms/step - loss: 0.7925 - accuracy: 0.4850 - val_loss: 0.7189 - val_accuracy: 0.5600\n",
      "Epoch 66/100\n",
      "7/7 [==============================] - 0s 8ms/step - loss: 0.7865 - accuracy: 0.4850 - val_loss: 0.7154 - val_accuracy: 0.5600\n",
      "Epoch 67/100\n",
      "7/7 [==============================] - 0s 9ms/step - loss: 0.7811 - accuracy: 0.4850 - val_loss: 0.7123 - val_accuracy: 0.5600\n",
      "Epoch 68/100\n",
      "7/7 [==============================] - 0s 11ms/step - loss: 0.7760 - accuracy: 0.4850 - val_loss: 0.7096 - val_accuracy: 0.5600\n",
      "Epoch 69/100\n",
      "7/7 [==============================] - 0s 8ms/step - loss: 0.7716 - accuracy: 0.4850 - val_loss: 0.7070 - val_accuracy: 0.5600\n",
      "Epoch 70/100\n",
      "7/7 [==============================] - 0s 10ms/step - loss: 0.7672 - accuracy: 0.4850 - val_loss: 0.7046 - val_accuracy: 0.5600\n",
      "Epoch 71/100\n",
      "7/7 [==============================] - 0s 10ms/step - loss: 0.7630 - accuracy: 0.4850 - val_loss: 0.7025 - val_accuracy: 0.5600\n",
      "Epoch 72/100\n",
      "7/7 [==============================] - 0s 8ms/step - loss: 0.7593 - accuracy: 0.4850 - val_loss: 0.7004 - val_accuracy: 0.5600\n",
      "Epoch 73/100\n",
      "7/7 [==============================] - 0s 8ms/step - loss: 0.7552 - accuracy: 0.4850 - val_loss: 0.6986 - val_accuracy: 0.5600\n",
      "Epoch 74/100\n",
      "7/7 [==============================] - 0s 8ms/step - loss: 0.7519 - accuracy: 0.4850 - val_loss: 0.6967 - val_accuracy: 0.5600\n",
      "Epoch 75/100\n",
      "7/7 [==============================] - 0s 10ms/step - loss: 0.7483 - accuracy: 0.4850 - val_loss: 0.6950 - val_accuracy: 0.5600\n",
      "Epoch 76/100\n",
      "7/7 [==============================] - 0s 8ms/step - loss: 0.7448 - accuracy: 0.4850 - val_loss: 0.6935 - val_accuracy: 0.5600\n",
      "Epoch 77/100\n",
      "7/7 [==============================] - 0s 8ms/step - loss: 0.7421 - accuracy: 0.4850 - val_loss: 0.6921 - val_accuracy: 0.5600\n",
      "Epoch 78/100\n",
      "7/7 [==============================] - 0s 8ms/step - loss: 0.7386 - accuracy: 0.4850 - val_loss: 0.6908 - val_accuracy: 0.5600\n",
      "Epoch 79/100\n",
      "7/7 [==============================] - 0s 8ms/step - loss: 0.7356 - accuracy: 0.4850 - val_loss: 0.6896 - val_accuracy: 0.5600\n",
      "Epoch 80/100\n",
      "7/7 [==============================] - 0s 8ms/step - loss: 0.7332 - accuracy: 0.4850 - val_loss: 0.6885 - val_accuracy: 0.5600\n",
      "Epoch 81/100\n",
      "7/7 [==============================] - 0s 8ms/step - loss: 0.7307 - accuracy: 0.4850 - val_loss: 0.6876 - val_accuracy: 0.5600\n",
      "Epoch 82/100\n",
      "7/7 [==============================] - 0s 8ms/step - loss: 0.7283 - accuracy: 0.4850 - val_loss: 0.6868 - val_accuracy: 0.5600\n",
      "Epoch 83/100\n",
      "7/7 [==============================] - 0s 10ms/step - loss: 0.7263 - accuracy: 0.4850 - val_loss: 0.6862 - val_accuracy: 0.5600\n",
      "Epoch 84/100\n",
      "7/7 [==============================] - 0s 8ms/step - loss: 0.7242 - accuracy: 0.4850 - val_loss: 0.6856 - val_accuracy: 0.5600\n",
      "Epoch 85/100\n",
      "7/7 [==============================] - 0s 10ms/step - loss: 0.7224 - accuracy: 0.4850 - val_loss: 0.6850 - val_accuracy: 0.5600\n",
      "Epoch 86/100\n",
      "7/7 [==============================] - 0s 8ms/step - loss: 0.7205 - accuracy: 0.4850 - val_loss: 0.6846 - val_accuracy: 0.5600\n",
      "Epoch 87/100\n",
      "7/7 [==============================] - 0s 11ms/step - loss: 0.7191 - accuracy: 0.4850 - val_loss: 0.6841 - val_accuracy: 0.5600\n",
      "Epoch 88/100\n",
      "7/7 [==============================] - 0s 9ms/step - loss: 0.7170 - accuracy: 0.4850 - val_loss: 0.6837 - val_accuracy: 0.5600\n",
      "Epoch 89/100\n",
      "7/7 [==============================] - 0s 8ms/step - loss: 0.7155 - accuracy: 0.4850 - val_loss: 0.6834 - val_accuracy: 0.5600\n",
      "Epoch 90/100\n",
      "7/7 [==============================] - 0s 8ms/step - loss: 0.7139 - accuracy: 0.4850 - val_loss: 0.6832 - val_accuracy: 0.5600\n",
      "Epoch 91/100\n",
      "7/7 [==============================] - 0s 10ms/step - loss: 0.7126 - accuracy: 0.4850 - val_loss: 0.6830 - val_accuracy: 0.5600\n",
      "Epoch 92/100\n",
      "7/7 [==============================] - 0s 10ms/step - loss: 0.7111 - accuracy: 0.4850 - val_loss: 0.6828 - val_accuracy: 0.5600\n",
      "Epoch 93/100\n",
      "7/7 [==============================] - 0s 11ms/step - loss: 0.7097 - accuracy: 0.4850 - val_loss: 0.6828 - val_accuracy: 0.5600\n",
      "Epoch 94/100\n",
      "7/7 [==============================] - 0s 11ms/step - loss: 0.7086 - accuracy: 0.4850 - val_loss: 0.6827 - val_accuracy: 0.5600\n",
      "Epoch 95/100\n",
      "7/7 [==============================] - 0s 11ms/step - loss: 0.7074 - accuracy: 0.4850 - val_loss: 0.6827 - val_accuracy: 0.5600\n",
      "Epoch 96/100\n",
      "7/7 [==============================] - 0s 9ms/step - loss: 0.7064 - accuracy: 0.4850 - val_loss: 0.6828 - val_accuracy: 0.5600\n",
      "Epoch 97/100\n",
      "7/7 [==============================] - 0s 10ms/step - loss: 0.7053 - accuracy: 0.4850 - val_loss: 0.6829 - val_accuracy: 0.5600\n",
      "Epoch 98/100\n",
      "7/7 [==============================] - 0s 11ms/step - loss: 0.7044 - accuracy: 0.4850 - val_loss: 0.6830 - val_accuracy: 0.5600\n",
      "Epoch 99/100\n",
      "7/7 [==============================] - 0s 11ms/step - loss: 0.7034 - accuracy: 0.4850 - val_loss: 0.6832 - val_accuracy: 0.5600\n",
      "Epoch 100/100\n",
      "7/7 [==============================] - 0s 8ms/step - loss: 0.7027 - accuracy: 0.4850 - val_loss: 0.6833 - val_accuracy: 0.5600\n"
     ]
    }
   ],
   "source": [
    "history = model.fit(x, y, epochs=100, validation_split=0.2)"
   ]
  },
  {
   "cell_type": "code",
   "execution_count": 33,
   "metadata": {
    "colab": {
     "base_uri": "https://localhost:8080/",
     "height": 389
    },
    "id": "At9WnNnZ1a-M",
    "outputId": "c981a454-6f84-4110-c5cc-27dd566c99e6"
   },
   "outputs": [
    {
     "name": "stdout",
     "output_type": "stream",
     "text": [
      "3888/3888 [==============================] - 6s 2ms/step\n"
     ]
    },
    {
     "name": "stderr",
     "output_type": "stream",
     "text": [
      "/usr/local/lib/python3.8/dist-packages/mlxtend/plotting/decision_regions.py:239: UserWarning: No contour levels were found within the data range.\n",
      "  ax.contour(xx, yy, Z, cset.levels,\n",
      "/usr/local/lib/python3.8/dist-packages/mlxtend/plotting/decision_regions.py:244: MatplotlibDeprecationWarning: Passing unsupported keyword arguments to axis() will raise a TypeError in 3.3.\n",
      "  ax.axis(xmin=xx.min(), xmax=xx.max(), y_min=yy.min(), y_max=yy.max())\n"
     ]
    },
    {
     "data": {
      "text/plain": [
       "<matplotlib.axes._subplots.AxesSubplot at 0x7f3bfc373520>"
      ]
     },
     "execution_count": 33,
     "metadata": {},
     "output_type": "execute_result"
    },
    {
     "data": {
      "image/png": "[encoded data removed]",
      "text/plain": [
       "<Figure size 432x288 with 1 Axes>"
      ]
     },
     "metadata": {
      "needs_background": "light"
     },
     "output_type": "display_data"
    }
   ],
   "source": [
    "plot_decision_regions(x, y.astype('int'), clf=model, legend=2)"
   ]
  },
  {
   "cell_type": "markdown",
   "metadata": {
    "id": "Kf61Y08z-yHF"
   },
   "source": []
  },
  {
   "cell_type": "markdown",
   "metadata": {
    "id": "5wBcvhrX-yLF"
   },
   "source": [
    "# He-initialization "
   ]
  },
  {
   "cell_type": "code",
   "execution_count": 61,
   "metadata": {
    "colab": {
     "base_uri": "https://localhost:8080/"
    },
    "id": "AGBhBrM81bA7",
    "outputId": "7823ce8b-fec7-43cb-9f6b-377f50741e71"
   },
   "outputs": [
    {
     "name": "stdout",
     "output_type": "stream",
     "text": [
      "Model: \"sequential_7\"\n",
      "_________________________________________________________________\n",
      " Layer (type)                Output Shape              Param #   \n",
      "=================================================================\n",
      " dense_21 (Dense)            (None, 10)                30        \n",
      "                                                                 \n",
      " dense_22 (Dense)            (None, 10)                110       \n",
      "                                                                 \n",
      " dense_23 (Dense)            (None, 10)                110       \n",
      "                                                                 \n",
      " dense_24 (Dense)            (None, 10)                110       \n",
      "                                                                 \n",
      " dense_25 (Dense)            (None, 1)                 11        \n",
      "                                                                 \n",
      "=================================================================\n",
      "Total params: 371\n",
      "Trainable params: 371\n",
      "Non-trainable params: 0\n",
      "_________________________________________________________________\n"
     ]
    }
   ],
   "source": [
    "model = Sequential()\n",
    "model.add(Dense(10, activation='relu', input_dim=2, kernel_initializer='he_normal'))\n",
    "model.add(Dense(10, activation='relu', kernel_initializer='he_normal'))\n",
    "model.add(Dense(10, activation='relu', kernel_initializer='he_normal'))\n",
    "model.add(Dense(10, activation='relu', kernel_initializer='he_normal'))\n",
    "model.add(Dense(1, activation ='sigmoid'))\n",
    "model.summary()"
   ]
  },
  {
   "cell_type": "code",
   "execution_count": 39,
   "metadata": {
    "colab": {
     "base_uri": "https://localhost:8080/"
    },
    "id": "PqQsf90_1bEH",
    "outputId": "23cc5a4f-9b40-44cd-c636-51bda558e49e"
   },
   "outputs": [
    {
     "data": {
      "text/plain": [
       "[array([[-0.33428317, -0.3141448 ,  0.63897926,  0.07605218, -0.56832784,\n",
       "         -0.9784597 ,  0.7261541 , -1.373859  , -1.3428825 , -0.04608851],\n",
       "        [-0.4826916 , -0.41612142, -1.4131025 ,  0.26210925,  0.52987784,\n",
       "         -1.0307457 ,  0.8058546 ,  0.82304233, -1.7601101 , -1.8045789 ]],\n",
       "       dtype=float32),\n",
       " array([0., 0., 0., 0., 0., 0., 0., 0., 0., 0.], dtype=float32),\n",
       " array([[ 0.19186264],\n",
       "        [-0.42393404],\n",
       "        [-0.2272386 ],\n",
       "        [-0.46939236],\n",
       "        [ 0.01946133],\n",
       "        [-0.45712283],\n",
       "        [-0.6978463 ],\n",
       "        [ 0.35917145],\n",
       "        [-0.6422787 ],\n",
       "        [ 0.2623654 ]], dtype=float32),\n",
       " array([0.], dtype=float32)]"
      ]
     },
     "execution_count": 39,
     "metadata": {},
     "output_type": "execute_result"
    }
   ],
   "source": [
    "model.get_weights()"
   ]
  },
  {
   "cell_type": "code",
   "execution_count": 62,
   "metadata": {
    "id": "VxuDuvNbBKQr"
   },
   "outputs": [],
   "source": [
    "initial_weights = model.get_weights()"
   ]
  },
  {
   "cell_type": "code",
   "execution_count": 56,
   "metadata": {
    "colab": {
     "base_uri": "https://localhost:8080/"
    },
    "id": "BY2ug6GoCLfs",
    "outputId": "1ec4f572-4834-46c4-d7d5-a97f03435775"
   },
   "outputs": [
    {
     "data": {
      "text/plain": [
       "[array([[ 0.18468624, -0.09862117, -0.23609729, -0.80895144,  0.6437269 ,\n",
       "         -0.40784493,  1.8303107 ,  0.59224296,  0.8996886 , -0.46551308],\n",
       "        [-0.3653928 ,  0.04578146, -0.02150665, -1.1124732 ,  0.70683557,\n",
       "          0.9166802 ,  0.03142203,  0.7116248 ,  0.71305907, -0.03772272]],\n",
       "       dtype=float32),\n",
       " array([0., 0., 0., 0., 0., 0., 0., 0., 0., 0.], dtype=float32),\n",
       " array([[-0.9644199 ,  0.08936696, -0.11896946, -0.21175224, -0.58936733,\n",
       "          0.21818267,  0.42336336,  0.26314804,  0.22689778, -0.0166401 ],\n",
       "        [ 0.03609547, -0.46073067,  0.45926544,  0.41040632, -0.4763414 ,\n",
       "          0.6255155 , -0.5575879 ,  0.15954992, -1.0041722 , -0.35990256],\n",
       "        [-0.5918177 , -0.5619491 , -0.31120855, -0.6818794 ,  0.05679682,\n",
       "         -0.32517022,  0.5449921 ,  0.3248882 , -0.20838603,  0.22886081],\n",
       "        [-0.14059092, -0.02245431,  0.7765592 ,  0.1616041 , -0.1763864 ,\n",
       "          0.74816453, -0.20951308, -0.80532885, -0.3305138 , -0.36298877],\n",
       "        [ 0.24233177,  0.86370826,  0.38056186, -0.568669  ,  0.16046281,\n",
       "          0.60189044,  0.35905966,  0.65558445, -0.55184495, -0.5865889 ],\n",
       "        [ 0.07770263, -0.26455262,  0.29499847, -0.10381263,  0.43419313,\n",
       "         -0.8247886 ,  0.91593456, -0.30703026, -0.02239425,  0.48835686],\n",
       "        [ 0.19198121,  0.400917  , -0.13718264,  0.7445105 , -0.14831536,\n",
       "         -0.12920578, -0.23653072, -0.71869797, -0.15255484,  0.61448634],\n",
       "        [-0.900863  , -0.11631447,  0.5603215 ,  0.34520152,  0.93061554,\n",
       "         -0.885524  ,  0.01360524,  0.12624796, -0.180568  ,  0.63968194],\n",
       "        [-0.02560194, -0.27635553, -0.63107693,  0.12663601,  0.51642025,\n",
       "         -0.7594959 , -0.41379023,  0.1673062 , -0.14467838, -0.336337  ],\n",
       "        [-0.09069625, -0.554451  ,  0.5030096 ,  0.1588123 , -0.12289748,\n",
       "         -0.22544494,  0.35462666,  0.3265796 ,  0.4909605 ,  0.6804278 ]],\n",
       "       dtype=float32),\n",
       " array([0., 0., 0., 0., 0., 0., 0., 0., 0., 0.], dtype=float32),\n",
       " array([[-7.67369211e-01,  3.21917474e-01, -5.22941709e-01,\n",
       "          7.22608984e-01,  3.10017407e-01, -4.07403350e-01,\n",
       "         -3.91418517e-01, -5.05929768e-01,  3.75791520e-01,\n",
       "          1.61480337e-01],\n",
       "        [-6.63944557e-02,  3.48548710e-01, -4.66116667e-02,\n",
       "         -6.48088098e-01,  2.74833858e-01,  9.22371149e-01,\n",
       "          3.05652559e-01,  3.13851267e-01, -1.15278833e-01,\n",
       "         -6.17604733e-01],\n",
       "        [ 5.89158177e-01, -3.54455948e-01,  1.59708709e-01,\n",
       "          7.43565321e-01, -9.67830420e-01,  2.51658320e-01,\n",
       "          3.84406716e-01, -7.62367964e-01,  1.32811621e-01,\n",
       "          1.99907556e-01],\n",
       "        [-5.09601295e-01, -4.25339431e-01,  7.12343097e-01,\n",
       "          7.19126880e-01, -3.55391562e-01,  6.21009350e-01,\n",
       "         -6.45577788e-01, -3.18339676e-01,  4.93560374e-01,\n",
       "          4.91095573e-01],\n",
       "        [-4.21928912e-01, -3.11952978e-01,  7.90141150e-02,\n",
       "         -3.75141174e-01, -4.95191991e-01,  7.39255965e-01,\n",
       "          8.76610652e-02, -1.84612706e-01,  3.43525410e-01,\n",
       "          2.81843916e-02],\n",
       "        [ 8.45862687e-01, -2.11658031e-01, -1.64478924e-02,\n",
       "          5.31045496e-01, -5.80387354e-01,  4.70383316e-02,\n",
       "         -2.89128423e-01, -1.95668384e-01,  9.55773294e-02,\n",
       "         -3.36758375e-01],\n",
       "        [-8.99568856e-01,  2.82763779e-01, -8.21345270e-01,\n",
       "         -3.43685210e-01, -5.76549828e-01, -1.01497427e-01,\n",
       "         -2.42961183e-01,  1.87143683e-01, -4.08344597e-01,\n",
       "         -5.73547661e-01],\n",
       "        [-3.75694603e-01, -3.95567477e-01, -8.51824045e-01,\n",
       "          1.88916258e-03, -3.05700302e-01, -6.64487362e-01,\n",
       "         -4.21339506e-03, -4.37241524e-01,  2.97045261e-01,\n",
       "         -3.03374916e-01],\n",
       "        [-9.14880782e-02,  2.35758275e-02, -1.45313927e-04,\n",
       "         -5.67302346e-01, -4.08891067e-02,  8.38633001e-01,\n",
       "         -1.06341243e-01, -3.89738381e-01,  1.80301294e-01,\n",
       "         -2.36072719e-01],\n",
       "        [ 1.19980395e-01,  9.71701145e-02,  7.72639871e-01,\n",
       "          5.10248423e-01,  7.33866394e-02, -3.75935316e-01,\n",
       "          3.76849681e-01, -3.21003497e-02,  3.78843069e-01,\n",
       "         -3.54903072e-01]], dtype=float32),\n",
       " array([0., 0., 0., 0., 0., 0., 0., 0., 0., 0.], dtype=float32),\n",
       " array([[-0.15795207],\n",
       "        [-0.70241725],\n",
       "        [-0.38599855],\n",
       "        [-0.6481841 ],\n",
       "        [-0.00615484],\n",
       "        [-0.55812395],\n",
       "        [-0.55841255],\n",
       "        [ 0.6889773 ],\n",
       "        [-0.17051393],\n",
       "        [-0.525352  ]], dtype=float32),\n",
       " array([0.], dtype=float32)]"
      ]
     },
     "execution_count": 56,
     "metadata": {},
     "output_type": "execute_result"
    }
   ],
   "source": [
    "initial_weights"
   ]
  },
  {
   "cell_type": "code",
   "execution_count": 63,
   "metadata": {
    "id": "0S3NAhO4BN_5"
   },
   "outputs": [],
   "source": [
    "initial_weights[0] = np.random.randn(2,10)*np.sqrt(1/2)\n",
    "initial_weights[1] = np.zeros(model.get_weights()[1].shape)\n",
    "initial_weights[3] = np.random.randn(10,10)*np.sqrt(1/10)\n",
    "initial_weights[4] = np.zeros(model.get_weights()[3].shape)\n",
    "initial_weights[5] = np.random.randn(10,10)*np.sqrt(1/10)\n",
    "initial_weights[6] = np.zeros(model.get_weights()[5].shape)\n",
    "initial_weights[7] = np.random.randn(10,10)*np.sqrt(1/10)\n",
    "initial_weights[8] = np.zeros(model.get_weights()[7].shape)\n",
    "initial_weights[9] = np.zeros(model.get_weights()[1].shape)\n"
   ]
  },
  {
   "cell_type": "code",
   "execution_count": 69,
   "metadata": {
    "colab": {
     "base_uri": "https://localhost:8080/"
    },
    "id": "rDepY1yVDZIl",
    "outputId": "fc0afb4d-514f-41ec-f35a-36aa9d1aa5fd"
   },
   "outputs": [
    {
     "data": {
      "text/plain": [
       "[array([[ 0.7491814 ,  0.89460987,  0.5759275 , -0.9165731 ,  0.4817923 ,\n",
       "          0.00686101, -0.918539  ,  0.62547743,  0.9260515 ,  0.49049196],\n",
       "        [-0.19434598,  0.8039628 , -1.6629813 , -1.4473629 , -0.6359551 ,\n",
       "          0.20825978,  1.8324308 ,  0.47998688,  1.1091427 , -0.6742348 ]],\n",
       "       dtype=float32),\n",
       " array([-0.07063887, -0.10887574, -0.21892448,  0.00258662,  0.03986743,\n",
       "         0.13682981,  0.00596312,  0.01409062, -0.18196487,  0.05847947],\n",
       "       dtype=float32),\n",
       " array([[ 0.36016366, -0.10147629,  0.43848893, -0.20991781,  0.00120273,\n",
       "         -0.3184073 , -0.96047693, -0.5999214 ,  0.45249546, -0.41262272],\n",
       "        [ 0.06957696, -0.33274236, -0.4649089 , -0.48392084,  0.40877974,\n",
       "          0.38004285, -0.42552364,  0.6248462 ,  0.63211787,  0.05780769],\n",
       "        [ 0.30120313, -0.50682306,  0.11247601, -0.0233108 ,  0.9181723 ,\n",
       "          0.06272966, -0.36919367,  0.61699975, -0.5278396 , -0.5836368 ],\n",
       "        [ 0.1774928 , -0.7254437 ,  0.26868647, -0.10481319,  0.5768407 ,\n",
       "         -0.39410323,  0.00669821,  0.30113438,  0.33324814, -0.5966533 ],\n",
       "        [-0.00290756,  0.35852084, -0.572427  ,  0.02343185, -0.08567119,\n",
       "         -0.28674558, -0.71517694,  0.48901033, -0.42731294, -0.045243  ],\n",
       "        [ 0.3588251 , -0.11199825, -0.8202487 ,  0.141568  , -0.35902807,\n",
       "          0.4840551 ,  0.6174122 , -0.10867491,  0.10366436,  0.00435116],\n",
       "        [ 0.3936476 , -0.67771095,  0.53578836, -0.1424717 , -0.18962449,\n",
       "         -0.5074158 ,  0.5634866 , -0.3792221 ,  0.57817405, -0.27859646],\n",
       "        [-0.4211053 ,  0.1910207 ,  0.3030174 ,  0.13623609,  0.5593849 ,\n",
       "          0.35757267, -0.11076491,  0.32718918,  0.4187853 ,  0.27592996],\n",
       "        [ 0.17483453,  0.15161607,  0.3253362 , -0.29806024, -0.18808644,\n",
       "          0.01910893,  0.15182927,  0.18626587,  0.83403766, -0.44198355],\n",
       "        [-0.46085742, -0.14429513, -0.44403607, -0.3386549 ,  0.26857916,\n",
       "          1.0264599 ,  0.61601365,  0.41730678, -0.70030916,  0.06850646]],\n",
       "       dtype=float32),\n",
       " array([-0.18452415, -0.02060968, -0.12165399,  0.        , -0.14165291,\n",
       "        -0.10115954,  0.17454939,  0.2003975 , -0.07889693,  0.        ],\n",
       "       dtype=float32),\n",
       " array([[ 0.44649   ,  0.13624279,  1.1738995 , -0.34389812, -0.3986257 ,\n",
       "          0.7833033 ,  0.91543615, -0.4193356 , -0.34708893,  0.72794497],\n",
       "        [-0.13788627,  0.73199916,  0.112629  ,  0.6705543 ,  0.46113247,\n",
       "          0.47945896,  0.4644905 ,  0.20596081, -0.5773928 ,  0.34226248],\n",
       "        [ 0.58526975,  0.05672755,  0.5079484 , -0.04198483, -0.03791273,\n",
       "          0.3922549 ,  0.72210747, -0.588244  ,  0.4144426 , -0.25763273],\n",
       "        [ 0.26566458, -0.8350164 , -0.6117016 , -0.07479029,  0.01933654,\n",
       "         -0.9130902 ,  0.3502468 , -0.46654844, -0.19641058, -0.5222555 ],\n",
       "        [-0.77298063, -0.72596985,  0.59913653,  0.0275871 , -0.7999916 ,\n",
       "         -0.12543942,  0.3578225 ,  0.16486743,  0.08508996,  0.08264796],\n",
       "        [-0.44376928, -0.5026805 ,  1.1958003 , -0.6706432 , -0.92897004,\n",
       "         -0.86764765, -0.13540143, -0.7999399 ,  0.18762992,  0.07819012],\n",
       "        [ 0.86973137, -0.2140255 , -0.10636652,  0.527736  ,  0.06431434,\n",
       "         -0.61674154, -0.61443985, -0.00978692,  0.1230744 ,  0.29132882],\n",
       "        [-0.15553297,  0.11143475, -0.30211246, -0.12679896,  0.01973702,\n",
       "         -0.24915355, -0.21540762, -0.40269685,  0.00538706, -0.8265294 ],\n",
       "        [-0.01151448,  0.34735918, -0.03767426, -0.9031076 ,  0.2062058 ,\n",
       "          0.38054147,  0.3768191 ,  0.20207207, -0.08308152, -0.71634096],\n",
       "        [ 0.31918085,  0.40327275,  0.25749284,  0.15457182,  0.22400628,\n",
       "         -0.6825916 ,  0.4663215 , -0.14666067, -0.3929335 ,  0.26247784]],\n",
       "       dtype=float32),\n",
       " array([ 0.15413211,  0.15756273, -0.18101168, -0.02109853,  0.24128017,\n",
       "        -0.10592855, -0.20275782,  0.        , -0.07887338,  0.08333158],\n",
       "       dtype=float32),\n",
       " array([[-0.12042504, -0.40242988,  0.5036102 , -0.57843906, -0.1517901 ,\n",
       "          0.04610456,  0.43552694,  0.5593786 , -0.4216385 ,  0.16462117],\n",
       "        [ 0.71857584, -0.1494828 , -0.76870114, -0.21926656,  0.32408285,\n",
       "          0.78849685, -0.12722842,  0.03820376,  0.6524238 ,  0.03705628],\n",
       "        [ 0.34302753,  0.42254192,  0.51834244,  0.5258938 ,  0.23512991,\n",
       "         -0.01217411, -0.44433165, -0.6241484 , -0.31428313,  0.9300734 ],\n",
       "        [-0.8105571 ,  1.0053655 ,  0.13548622,  0.853124  ,  0.39569044,\n",
       "          0.30511588,  0.5875876 , -0.16839276, -0.258141  ,  0.68506783],\n",
       "        [-0.3632225 ,  0.11097965, -0.23051596,  0.26286173,  0.5042004 ,\n",
       "          0.13180341,  0.37033108,  0.9100059 ,  0.46267518, -0.37858447],\n",
       "        [-0.68822896,  0.15723799,  0.38869318,  0.3915242 ,  0.2200949 ,\n",
       "         -0.22141579, -1.085872  ,  0.03554239,  0.23839927,  0.19834921],\n",
       "        [-0.70860124, -0.02176941,  0.5646333 ,  1.099028  , -0.6970261 ,\n",
       "         -0.90146756, -0.9020534 , -0.35104397,  0.3052093 ,  0.3755333 ],\n",
       "        [ 0.16623291, -0.13075504, -0.23403375,  0.42008463, -0.33804998,\n",
       "          0.03207437,  0.37766916, -0.7764521 ,  0.0182774 , -0.0676801 ],\n",
       "        [ 0.04221068, -0.07326438, -0.2560076 , -0.6700367 , -0.58035386,\n",
       "         -0.22135034, -0.92131734, -0.8110619 , -0.58352506,  0.2239587 ],\n",
       "        [ 0.591004  ,  0.11790671, -0.6947223 , -0.77597475,  0.5511554 ,\n",
       "          0.8866978 ,  0.36304528, -0.45350614, -0.31582642, -0.5872359 ]],\n",
       "       dtype=float32),\n",
       " array([-0.1207198 , -0.10944397, -0.1234605 , -0.09673957,  0.23643705,\n",
       "         0.3759529 ,  0.25077048,  0.1084929 , -0.12953721, -0.14034103],\n",
       "       dtype=float32),\n",
       " array([[-0.20979232],\n",
       "        [-1.1658331 ],\n",
       "        [-0.74140185],\n",
       "        [-1.1268879 ],\n",
       "        [ 0.9977637 ],\n",
       "        [ 0.7243389 ],\n",
       "        [ 1.1418638 ],\n",
       "        [ 0.49074456],\n",
       "        [-0.3876086 ],\n",
       "        [-0.6611537 ]], dtype=float32),\n",
       " array([0.23107646], dtype=float32)]"
      ]
     },
     "execution_count": 69,
     "metadata": {},
     "output_type": "execute_result"
    }
   ],
   "source": [
    "model.get_weights()"
   ]
  },
  {
   "cell_type": "code",
   "execution_count": null,
   "metadata": {
    "id": "axA0pl5xDkix"
   },
   "outputs": [],
   "source": []
  },
  {
   "cell_type": "code",
   "execution_count": null,
   "metadata": {
    "id": "f6wBYDDVDa23"
   },
   "outputs": [],
   "source": []
  },
  {
   "cell_type": "code",
   "execution_count": 64,
   "metadata": {
    "id": "62e5yyj81bHR"
   },
   "outputs": [],
   "source": [
    "model.compile(optimizer='adam', loss='binary_crossentropy', metrics=['accuracy'])"
   ]
  },
  {
   "cell_type": "code",
   "execution_count": 65,
   "metadata": {
    "colab": {
     "base_uri": "https://localhost:8080/"
    },
    "id": "-10rPGZsAKyI",
    "outputId": "d18676c1-7a96-4b82-e25b-d90dd20911a6"
   },
   "outputs": [
    {
     "name": "stdout",
     "output_type": "stream",
     "text": [
      "Epoch 1/100\n",
      "7/7 [==============================] - 2s 35ms/step - loss: 0.6873 - accuracy: 0.5150 - val_loss: 0.7347 - val_accuracy: 0.4400\n",
      "Epoch 2/100\n",
      "7/7 [==============================] - 0s 11ms/step - loss: 0.6818 - accuracy: 0.5300 - val_loss: 0.7278 - val_accuracy: 0.4400\n",
      "Epoch 3/100\n",
      "7/7 [==============================] - 0s 8ms/step - loss: 0.6787 - accuracy: 0.5450 - val_loss: 0.7228 - val_accuracy: 0.4000\n",
      "Epoch 4/100\n",
      "7/7 [==============================] - 0s 8ms/step - loss: 0.6761 - accuracy: 0.5500 - val_loss: 0.7204 - val_accuracy: 0.4200\n",
      "Epoch 5/100\n",
      "7/7 [==============================] - 0s 11ms/step - loss: 0.6748 - accuracy: 0.5400 - val_loss: 0.7200 - val_accuracy: 0.4200\n",
      "Epoch 6/100\n",
      "7/7 [==============================] - 0s 9ms/step - loss: 0.6727 - accuracy: 0.5300 - val_loss: 0.7208 - val_accuracy: 0.3800\n",
      "Epoch 7/100\n",
      "7/7 [==============================] - 0s 8ms/step - loss: 0.6712 - accuracy: 0.5300 - val_loss: 0.7199 - val_accuracy: 0.3600\n",
      "Epoch 8/100\n",
      "7/7 [==============================] - 0s 8ms/step - loss: 0.6698 - accuracy: 0.5450 - val_loss: 0.7223 - val_accuracy: 0.3600\n",
      "Epoch 9/100\n",
      "7/7 [==============================] - 0s 8ms/step - loss: 0.6689 - accuracy: 0.5350 - val_loss: 0.7253 - val_accuracy: 0.3800\n",
      "Epoch 10/100\n",
      "7/7 [==============================] - 0s 8ms/step - loss: 0.6670 - accuracy: 0.5300 - val_loss: 0.7269 - val_accuracy: 0.3800\n",
      "Epoch 11/100\n",
      "7/7 [==============================] - 0s 12ms/step - loss: 0.6659 - accuracy: 0.5200 - val_loss: 0.7268 - val_accuracy: 0.3800\n",
      "Epoch 12/100\n",
      "7/7 [==============================] - 0s 9ms/step - loss: 0.6652 - accuracy: 0.5200 - val_loss: 0.7280 - val_accuracy: 0.3800\n",
      "Epoch 13/100\n",
      "7/7 [==============================] - 0s 11ms/step - loss: 0.6637 - accuracy: 0.5250 - val_loss: 0.7244 - val_accuracy: 0.3800\n",
      "Epoch 14/100\n",
      "7/7 [==============================] - 0s 11ms/step - loss: 0.6625 - accuracy: 0.5300 - val_loss: 0.7241 - val_accuracy: 0.4000\n",
      "Epoch 15/100\n",
      "7/7 [==============================] - 0s 11ms/step - loss: 0.6613 - accuracy: 0.5450 - val_loss: 0.7241 - val_accuracy: 0.3600\n",
      "Epoch 16/100\n",
      "7/7 [==============================] - 0s 8ms/step - loss: 0.6605 - accuracy: 0.5300 - val_loss: 0.7225 - val_accuracy: 0.3800\n",
      "Epoch 17/100\n",
      "7/7 [==============================] - 0s 11ms/step - loss: 0.6590 - accuracy: 0.5450 - val_loss: 0.7220 - val_accuracy: 0.4000\n",
      "Epoch 18/100\n",
      "7/7 [==============================] - 0s 11ms/step - loss: 0.6582 - accuracy: 0.5450 - val_loss: 0.7224 - val_accuracy: 0.3800\n",
      "Epoch 19/100\n",
      "7/7 [==============================] - 0s 11ms/step - loss: 0.6570 - accuracy: 0.5350 - val_loss: 0.7226 - val_accuracy: 0.4000\n",
      "Epoch 20/100\n",
      "7/7 [==============================] - 0s 9ms/step - loss: 0.6560 - accuracy: 0.5450 - val_loss: 0.7219 - val_accuracy: 0.4000\n",
      "Epoch 21/100\n",
      "7/7 [==============================] - 0s 8ms/step - loss: 0.6546 - accuracy: 0.5550 - val_loss: 0.7236 - val_accuracy: 0.4000\n",
      "Epoch 22/100\n",
      "7/7 [==============================] - 0s 8ms/step - loss: 0.6536 - accuracy: 0.5600 - val_loss: 0.7244 - val_accuracy: 0.4200\n",
      "Epoch 23/100\n",
      "7/7 [==============================] - 0s 8ms/step - loss: 0.6524 - accuracy: 0.5550 - val_loss: 0.7248 - val_accuracy: 0.4000\n",
      "Epoch 24/100\n",
      "7/7 [==============================] - 0s 11ms/step - loss: 0.6516 - accuracy: 0.5550 - val_loss: 0.7232 - val_accuracy: 0.4400\n",
      "Epoch 25/100\n",
      "7/7 [==============================] - 0s 8ms/step - loss: 0.6504 - accuracy: 0.5600 - val_loss: 0.7239 - val_accuracy: 0.4400\n",
      "Epoch 26/100\n",
      "7/7 [==============================] - 0s 11ms/step - loss: 0.6495 - accuracy: 0.5600 - val_loss: 0.7241 - val_accuracy: 0.4400\n",
      "Epoch 27/100\n",
      "7/7 [==============================] - 0s 8ms/step - loss: 0.6482 - accuracy: 0.5750 - val_loss: 0.7206 - val_accuracy: 0.4400\n",
      "Epoch 28/100\n",
      "7/7 [==============================] - 0s 8ms/step - loss: 0.6473 - accuracy: 0.5800 - val_loss: 0.7182 - val_accuracy: 0.4600\n",
      "Epoch 29/100\n",
      "7/7 [==============================] - 0s 11ms/step - loss: 0.6475 - accuracy: 0.5900 - val_loss: 0.7149 - val_accuracy: 0.4400\n",
      "Epoch 30/100\n",
      "7/7 [==============================] - 0s 9ms/step - loss: 0.6455 - accuracy: 0.5850 - val_loss: 0.7176 - val_accuracy: 0.4400\n",
      "Epoch 31/100\n",
      "7/7 [==============================] - 0s 8ms/step - loss: 0.6441 - accuracy: 0.5800 - val_loss: 0.7172 - val_accuracy: 0.4400\n",
      "Epoch 32/100\n",
      "7/7 [==============================] - 0s 8ms/step - loss: 0.6428 - accuracy: 0.5850 - val_loss: 0.7155 - val_accuracy: 0.4600\n",
      "Epoch 33/100\n",
      "7/7 [==============================] - 0s 8ms/step - loss: 0.6426 - accuracy: 0.6000 - val_loss: 0.7144 - val_accuracy: 0.4600\n",
      "Epoch 34/100\n",
      "7/7 [==============================] - 0s 8ms/step - loss: 0.6415 - accuracy: 0.6000 - val_loss: 0.7136 - val_accuracy: 0.4600\n",
      "Epoch 35/100\n",
      "7/7 [==============================] - 0s 8ms/step - loss: 0.6394 - accuracy: 0.6000 - val_loss: 0.7167 - val_accuracy: 0.4800\n",
      "Epoch 36/100\n",
      "7/7 [==============================] - 0s 11ms/step - loss: 0.6382 - accuracy: 0.5850 - val_loss: 0.7186 - val_accuracy: 0.4800\n",
      "Epoch 37/100\n",
      "7/7 [==============================] - 0s 8ms/step - loss: 0.6371 - accuracy: 0.6050 - val_loss: 0.7136 - val_accuracy: 0.4800\n",
      "Epoch 38/100\n",
      "7/7 [==============================] - 0s 8ms/step - loss: 0.6364 - accuracy: 0.6050 - val_loss: 0.7116 - val_accuracy: 0.4800\n",
      "Epoch 39/100\n",
      "7/7 [==============================] - 0s 8ms/step - loss: 0.6361 - accuracy: 0.6150 - val_loss: 0.7086 - val_accuracy: 0.4400\n",
      "Epoch 40/100\n",
      "7/7 [==============================] - 0s 8ms/step - loss: 0.6335 - accuracy: 0.6050 - val_loss: 0.7107 - val_accuracy: 0.4600\n",
      "Epoch 41/100\n",
      "7/7 [==============================] - 0s 10ms/step - loss: 0.6325 - accuracy: 0.6000 - val_loss: 0.7132 - val_accuracy: 0.4800\n",
      "Epoch 42/100\n",
      "7/7 [==============================] - 0s 10ms/step - loss: 0.6315 - accuracy: 0.5900 - val_loss: 0.7157 - val_accuracy: 0.4800\n",
      "Epoch 43/100\n",
      "7/7 [==============================] - 0s 11ms/step - loss: 0.6306 - accuracy: 0.5900 - val_loss: 0.7109 - val_accuracy: 0.4600\n",
      "Epoch 44/100\n",
      "7/7 [==============================] - 0s 8ms/step - loss: 0.6297 - accuracy: 0.6250 - val_loss: 0.7021 - val_accuracy: 0.4800\n",
      "Epoch 45/100\n",
      "7/7 [==============================] - 0s 9ms/step - loss: 0.6280 - accuracy: 0.6350 - val_loss: 0.7013 - val_accuracy: 0.4800\n",
      "Epoch 46/100\n",
      "7/7 [==============================] - 0s 8ms/step - loss: 0.6263 - accuracy: 0.6350 - val_loss: 0.7023 - val_accuracy: 0.4600\n",
      "Epoch 47/100\n",
      "7/7 [==============================] - 0s 10ms/step - loss: 0.6247 - accuracy: 0.6300 - val_loss: 0.7041 - val_accuracy: 0.4600\n",
      "Epoch 48/100\n",
      "7/7 [==============================] - 0s 10ms/step - loss: 0.6233 - accuracy: 0.6150 - val_loss: 0.7066 - val_accuracy: 0.4600\n",
      "Epoch 49/100\n",
      "7/7 [==============================] - 0s 8ms/step - loss: 0.6235 - accuracy: 0.6000 - val_loss: 0.7081 - val_accuracy: 0.4600\n",
      "Epoch 50/100\n",
      "7/7 [==============================] - 0s 8ms/step - loss: 0.6206 - accuracy: 0.5950 - val_loss: 0.7021 - val_accuracy: 0.4800\n",
      "Epoch 51/100\n",
      "7/7 [==============================] - 0s 8ms/step - loss: 0.6198 - accuracy: 0.6200 - val_loss: 0.6967 - val_accuracy: 0.5000\n",
      "Epoch 52/100\n",
      "7/7 [==============================] - 0s 11ms/step - loss: 0.6178 - accuracy: 0.6300 - val_loss: 0.6980 - val_accuracy: 0.5200\n",
      "Epoch 53/100\n",
      "7/7 [==============================] - 0s 8ms/step - loss: 0.6161 - accuracy: 0.6300 - val_loss: 0.6993 - val_accuracy: 0.5200\n",
      "Epoch 54/100\n",
      "7/7 [==============================] - 0s 11ms/step - loss: 0.6149 - accuracy: 0.6250 - val_loss: 0.6995 - val_accuracy: 0.5000\n",
      "Epoch 55/100\n",
      "7/7 [==============================] - 0s 11ms/step - loss: 0.6140 - accuracy: 0.6250 - val_loss: 0.6948 - val_accuracy: 0.5200\n",
      "Epoch 56/100\n",
      "7/7 [==============================] - 0s 10ms/step - loss: 0.6121 - accuracy: 0.6400 - val_loss: 0.6935 - val_accuracy: 0.5200\n",
      "Epoch 57/100\n",
      "7/7 [==============================] - 0s 11ms/step - loss: 0.6102 - accuracy: 0.6350 - val_loss: 0.6935 - val_accuracy: 0.5200\n",
      "Epoch 58/100\n",
      "7/7 [==============================] - 0s 9ms/step - loss: 0.6085 - accuracy: 0.6250 - val_loss: 0.6947 - val_accuracy: 0.5200\n",
      "Epoch 59/100\n",
      "7/7 [==============================] - 0s 11ms/step - loss: 0.6082 - accuracy: 0.6200 - val_loss: 0.6959 - val_accuracy: 0.5200\n",
      "Epoch 60/100\n",
      "7/7 [==============================] - 0s 11ms/step - loss: 0.6073 - accuracy: 0.6250 - val_loss: 0.6878 - val_accuracy: 0.5200\n",
      "Epoch 61/100\n",
      "7/7 [==============================] - 0s 11ms/step - loss: 0.6044 - accuracy: 0.6200 - val_loss: 0.6860 - val_accuracy: 0.5400\n",
      "Epoch 62/100\n",
      "7/7 [==============================] - 0s 8ms/step - loss: 0.6036 - accuracy: 0.6350 - val_loss: 0.6850 - val_accuracy: 0.5600\n",
      "Epoch 63/100\n",
      "7/7 [==============================] - 0s 11ms/step - loss: 0.6019 - accuracy: 0.6350 - val_loss: 0.6848 - val_accuracy: 0.5400\n",
      "Epoch 64/100\n",
      "7/7 [==============================] - 0s 11ms/step - loss: 0.5988 - accuracy: 0.6450 - val_loss: 0.6900 - val_accuracy: 0.5400\n",
      "Epoch 65/100\n",
      "7/7 [==============================] - 0s 11ms/step - loss: 0.6002 - accuracy: 0.6350 - val_loss: 0.6953 - val_accuracy: 0.5400\n",
      "Epoch 66/100\n",
      "7/7 [==============================] - 0s 11ms/step - loss: 0.6002 - accuracy: 0.6250 - val_loss: 0.6886 - val_accuracy: 0.5400\n",
      "Epoch 67/100\n",
      "7/7 [==============================] - 0s 9ms/step - loss: 0.5945 - accuracy: 0.6350 - val_loss: 0.6754 - val_accuracy: 0.5400\n",
      "Epoch 68/100\n",
      "7/7 [==============================] - 0s 9ms/step - loss: 0.5937 - accuracy: 0.6600 - val_loss: 0.6658 - val_accuracy: 0.5800\n",
      "Epoch 69/100\n",
      "7/7 [==============================] - 0s 13ms/step - loss: 0.5944 - accuracy: 0.6900 - val_loss: 0.6614 - val_accuracy: 0.5800\n",
      "Epoch 70/100\n",
      "7/7 [==============================] - 0s 11ms/step - loss: 0.5919 - accuracy: 0.6800 - val_loss: 0.6647 - val_accuracy: 0.5800\n",
      "Epoch 71/100\n",
      "7/7 [==============================] - 0s 11ms/step - loss: 0.5872 - accuracy: 0.6600 - val_loss: 0.6651 - val_accuracy: 0.5600\n",
      "Epoch 72/100\n",
      "7/7 [==============================] - 0s 8ms/step - loss: 0.5849 - accuracy: 0.6600 - val_loss: 0.6644 - val_accuracy: 0.5600\n",
      "Epoch 73/100\n",
      "7/7 [==============================] - 0s 11ms/step - loss: 0.5820 - accuracy: 0.6750 - val_loss: 0.6621 - val_accuracy: 0.5800\n",
      "Epoch 74/100\n",
      "7/7 [==============================] - 0s 8ms/step - loss: 0.5791 - accuracy: 0.6900 - val_loss: 0.6544 - val_accuracy: 0.5800\n",
      "Epoch 75/100\n",
      "7/7 [==============================] - 0s 8ms/step - loss: 0.5764 - accuracy: 0.6950 - val_loss: 0.6495 - val_accuracy: 0.6400\n",
      "Epoch 76/100\n",
      "7/7 [==============================] - 0s 8ms/step - loss: 0.5736 - accuracy: 0.7000 - val_loss: 0.6507 - val_accuracy: 0.6600\n",
      "Epoch 77/100\n",
      "7/7 [==============================] - 0s 8ms/step - loss: 0.5706 - accuracy: 0.7050 - val_loss: 0.6493 - val_accuracy: 0.6600\n",
      "Epoch 78/100\n",
      "7/7 [==============================] - 0s 12ms/step - loss: 0.5690 - accuracy: 0.7000 - val_loss: 0.6455 - val_accuracy: 0.6600\n",
      "Epoch 79/100\n",
      "7/7 [==============================] - 0s 8ms/step - loss: 0.5638 - accuracy: 0.7100 - val_loss: 0.6326 - val_accuracy: 0.6800\n",
      "Epoch 80/100\n",
      "7/7 [==============================] - 0s 9ms/step - loss: 0.5602 - accuracy: 0.7500 - val_loss: 0.6235 - val_accuracy: 0.6800\n",
      "Epoch 81/100\n",
      "7/7 [==============================] - 0s 9ms/step - loss: 0.5551 - accuracy: 0.7500 - val_loss: 0.6206 - val_accuracy: 0.6800\n",
      "Epoch 82/100\n",
      "7/7 [==============================] - 0s 8ms/step - loss: 0.5486 - accuracy: 0.7550 - val_loss: 0.6140 - val_accuracy: 0.6800\n",
      "Epoch 83/100\n",
      "7/7 [==============================] - 0s 11ms/step - loss: 0.5462 - accuracy: 0.7750 - val_loss: 0.6108 - val_accuracy: 0.6800\n",
      "Epoch 84/100\n",
      "7/7 [==============================] - 0s 11ms/step - loss: 0.5427 - accuracy: 0.7650 - val_loss: 0.6015 - val_accuracy: 0.6800\n",
      "Epoch 85/100\n",
      "7/7 [==============================] - 0s 11ms/step - loss: 0.5370 - accuracy: 0.7550 - val_loss: 0.6000 - val_accuracy: 0.7000\n",
      "Epoch 86/100\n",
      "7/7 [==============================] - 0s 11ms/step - loss: 0.5311 - accuracy: 0.7700 - val_loss: 0.5921 - val_accuracy: 0.7400\n",
      "Epoch 87/100\n",
      "7/7 [==============================] - 0s 8ms/step - loss: 0.5252 - accuracy: 0.7850 - val_loss: 0.5870 - val_accuracy: 0.7600\n",
      "Epoch 88/100\n",
      "7/7 [==============================] - 0s 11ms/step - loss: 0.5235 - accuracy: 0.7900 - val_loss: 0.5749 - val_accuracy: 0.7800\n",
      "Epoch 89/100\n",
      "7/7 [==============================] - 0s 9ms/step - loss: 0.5178 - accuracy: 0.7850 - val_loss: 0.5738 - val_accuracy: 0.7200\n",
      "Epoch 90/100\n",
      "7/7 [==============================] - 0s 11ms/step - loss: 0.5125 - accuracy: 0.7950 - val_loss: 0.5735 - val_accuracy: 0.7400\n",
      "Epoch 91/100\n",
      "7/7 [==============================] - 0s 8ms/step - loss: 0.5119 - accuracy: 0.8000 - val_loss: 0.5653 - val_accuracy: 0.7600\n",
      "Epoch 92/100\n",
      "7/7 [==============================] - 0s 11ms/step - loss: 0.5070 - accuracy: 0.7950 - val_loss: 0.5562 - val_accuracy: 0.7600\n",
      "Epoch 93/100\n",
      "7/7 [==============================] - 0s 11ms/step - loss: 0.5009 - accuracy: 0.8050 - val_loss: 0.5579 - val_accuracy: 0.7600\n",
      "Epoch 94/100\n",
      "7/7 [==============================] - 0s 9ms/step - loss: 0.4957 - accuracy: 0.7900 - val_loss: 0.5507 - val_accuracy: 0.7800\n",
      "Epoch 95/100\n",
      "7/7 [==============================] - 0s 8ms/step - loss: 0.4945 - accuracy: 0.8100 - val_loss: 0.5329 - val_accuracy: 0.7400\n",
      "Epoch 96/100\n",
      "7/7 [==============================] - 0s 8ms/step - loss: 0.4898 - accuracy: 0.8000 - val_loss: 0.5244 - val_accuracy: 0.7400\n",
      "Epoch 97/100\n",
      "7/7 [==============================] - 0s 8ms/step - loss: 0.4851 - accuracy: 0.8050 - val_loss: 0.5258 - val_accuracy: 0.7800\n",
      "Epoch 98/100\n",
      "7/7 [==============================] - 0s 11ms/step - loss: 0.4800 - accuracy: 0.8200 - val_loss: 0.5329 - val_accuracy: 0.7800\n",
      "Epoch 99/100\n",
      "7/7 [==============================] - 0s 9ms/step - loss: 0.4751 - accuracy: 0.8000 - val_loss: 0.5334 - val_accuracy: 0.7600\n",
      "Epoch 100/100\n",
      "7/7 [==============================] - 0s 11ms/step - loss: 0.4707 - accuracy: 0.7950 - val_loss: 0.5318 - val_accuracy: 0.7800\n"
     ]
    }
   ],
   "source": [
    "history = model.fit(x, y, epochs=100, validation_split=0.2)"
   ]
  },
  {
   "cell_type": "code",
   "execution_count": null,
   "metadata": {
    "id": "wwX76C1vAK1S"
   },
   "outputs": [],
   "source": []
  },
  {
   "cell_type": "code",
   "execution_count": null,
   "metadata": {
    "id": "Ggl7gEUrAK4K"
   },
   "outputs": [],
   "source": []
  },
  {
   "cell_type": "code",
   "execution_count": null,
   "metadata": {
    "id": "aiAFr7z1AK62"
   },
   "outputs": [],
   "source": []
  }
 ],
 "metadata": {
  "accelerator": "GPU",
  "colab": {
   "provenance": []
  },
  "gpuClass": "standard",
  "kernelspec": {
   "display_name": "Python 3",
   "name": "python3"
  },
  "language_info": {
   "name": "python"
  }
 },
 "nbformat": 4,
 "nbformat_minor": 0
}
